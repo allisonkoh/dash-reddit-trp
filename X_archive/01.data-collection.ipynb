{
 "cells": [
  {
   "cell_type": "markdown",
   "metadata": {},
   "source": [
    "# Data Collection for `r/TheRedPill`"
   ]
  },
  {
   "cell_type": "markdown",
   "metadata": {},
   "source": [
    "[1] Creating a `Reddit` instance"
   ]
  },
  {
   "cell_type": "code",
   "execution_count": null,
   "metadata": {},
   "outputs": [],
   "source": [
    "import praw \n",
    "#import datetime\n",
    "\n",
    "# set up reddit instance\n",
    "reddit = praw.Reddit(client_id='Iiu_OuPeJayrow',\n",
    "                     client_secret=\"qUokGVup0irZcP3uw_xQeqcwDTI\", \n",
    "                     username='ht273',\n",
    "                     password='273htc',\n",
    "                     user_agent='praw_1326')\n",
    "\n",
    "subreddit = reddit.subreddit('PurplePillDebate')\n"
   ]
  },
  {
   "cell_type": "code",
   "execution_count": null,
   "metadata": {},
   "outputs": [],
   "source": [
    "print('hello world')"
   ]
  },
  {
   "cell_type": "code",
   "execution_count": null,
   "metadata": {},
   "outputs": [],
   "source": []
  }
 ],
 "metadata": {
  "kernelspec": {
   "display_name": "Python 3",
   "language": "python",
   "name": "python3"
  },
  "language_info": {
   "codemirror_mode": {
    "name": "ipython",
    "version": 3
   },
   "file_extension": ".py",
   "mimetype": "text/x-python",
   "name": "python",
   "nbconvert_exporter": "python",
   "pygments_lexer": "ipython3",
   "version": "3.7.1"
  }
 },
 "nbformat": 4,
 "nbformat_minor": 2
}
