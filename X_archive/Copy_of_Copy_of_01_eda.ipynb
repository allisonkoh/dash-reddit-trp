{
  "nbformat": 4,
  "nbformat_minor": 0,
  "metadata": {
    "colab": {
      "name": "Copy of Copy of 01_eda.ipynb",
      "provenance": [],
      "collapsed_sections": []
    },
    "kernelspec": {
      "name": "python3",
      "display_name": "Python 3"
    }
  },
  "cells": [
    {
      "cell_type": "markdown",
      "metadata": {
        "id": "x59DmeBnL7K5",
        "colab_type": "text"
      },
      "source": [
        "# Questions we are trying to answer"
      ]
    },
    {
      "cell_type": "markdown",
      "metadata": {
        "id": "NQWGLNHtMF_y",
        "colab_type": "text"
      },
      "source": [
        "- Which posts arecieve teh most traffic? ( no. of comments)\n",
        "- Which posts are most supported  (Upvotes) \n",
        "- Which are most controversial? (score close to zero, no. of comment) \n",
        "- When did the to and most controversial posts appear?\n",
        "\n",
        "\n"
      ]
    },
    {
      "cell_type": "markdown",
      "metadata": {
        "id": "xRqLZcgplb2U",
        "colab_type": "text"
      },
      "source": [
        "Relevant links: \n",
        "\n",
        "- https://towardsdatascience.com/introduction-to-interactive-time-series-visualizations-with-plotly-in-python-d3219eb7a7af\n",
        "- https://github.com/WillKoehrsen/Data-Analysis/blob/master/plotly/plotly-time-series.ipynb"
      ]
    },
    {
      "cell_type": "markdown",
      "metadata": {
        "id": "LfSxuo4XL4HQ",
        "colab_type": "text"
      },
      "source": [
        "# Setup code"
      ]
    },
    {
      "cell_type": "code",
      "metadata": {
        "id": "i_a3AqORsABR",
        "colab_type": "code",
        "colab": {}
      },
      "source": [
        "import pandas as pd\n",
        "import numpy as np \n",
        "\n",
        "import matplotlib as mpl\n",
        "import matplotlib.pyplot as plt\n",
        "import seaborn as sns\n",
        "\n",
        "from google.colab import drive\n",
        "from google.colab import files"
      ],
      "execution_count": 0,
      "outputs": []
    },
    {
      "cell_type": "code",
      "metadata": {
        "id": "TTrY63U4mf1j",
        "colab_type": "code",
        "outputId": "aac3b42a-f06c-4bfa-dad2-395451821642",
        "colab": {
          "base_uri": "https://localhost:8080/",
          "height": 190
        }
      },
      "source": [
        "# Uncomment the line below and rerun if you generate an error \n",
        "!pip install chart-studio\n",
        "import chart_studio\n",
        "import chart_studio.plotly as py\n",
        "import plotly.graph_objects as go"
      ],
      "execution_count": 0,
      "outputs": [
        {
          "output_type": "stream",
          "text": [
            "Requirement already satisfied: chart-studio in /usr/local/lib/python3.6/dist-packages (1.1.0)\n",
            "Requirement already satisfied: plotly in /usr/local/lib/python3.6/dist-packages (from chart-studio) (4.4.1)\n",
            "Requirement already satisfied: retrying>=1.3.3 in /usr/local/lib/python3.6/dist-packages (from chart-studio) (1.3.3)\n",
            "Requirement already satisfied: six in /usr/local/lib/python3.6/dist-packages (from chart-studio) (1.12.0)\n",
            "Requirement already satisfied: requests in /usr/local/lib/python3.6/dist-packages (from chart-studio) (2.21.0)\n",
            "Requirement already satisfied: idna<2.9,>=2.5 in /usr/local/lib/python3.6/dist-packages (from requests->chart-studio) (2.8)\n",
            "Requirement already satisfied: chardet<3.1.0,>=3.0.2 in /usr/local/lib/python3.6/dist-packages (from requests->chart-studio) (3.0.4)\n",
            "Requirement already satisfied: urllib3<1.25,>=1.21.1 in /usr/local/lib/python3.6/dist-packages (from requests->chart-studio) (1.24.3)\n",
            "Requirement already satisfied: certifi>=2017.4.17 in /usr/local/lib/python3.6/dist-packages (from requests->chart-studio) (2019.11.28)\n"
          ],
          "name": "stdout"
        }
      ]
    },
    {
      "cell_type": "code",
      "metadata": {
        "id": "66YHH0KlsQBZ",
        "colab_type": "code",
        "outputId": "d82ede26-1113-4d5f-d2bc-19cfdacea1da",
        "colab": {
          "base_uri": "https://localhost:8080/",
          "height": 54
        }
      },
      "source": [
        "drive.mount('/content/drive')"
      ],
      "execution_count": 0,
      "outputs": [
        {
          "output_type": "stream",
          "text": [
            "Drive already mounted at /content/drive; to attempt to forcibly remount, call drive.mount(\"/content/drive\", force_remount=True).\n"
          ],
          "name": "stdout"
        }
      ]
    },
    {
      "cell_type": "code",
      "metadata": {
        "id": "7tFURYlv2Jpz",
        "colab_type": "code",
        "outputId": "0046095f-f38a-4375-d9c2-1710a32c49b8",
        "colab": {
          "base_uri": "https://localhost:8080/",
          "height": 463
        }
      },
      "source": [
        "con_df1 = pd.read_csv(\"/content/drive/My Drive/___hertie/2020-spring/rsub-redpill-analysis/data/01_controversial.csv\")\n",
        "hot_df1 = pd.read_csv(\"/content/drive/My Drive/___hertie/2020-spring/rsub-redpill-analysis/data/01_hot.csv\")\n",
        "new_df1 = pd.read_csv(\"/content/drive/My Drive/___hertie/2020-spring/rsub-redpill-analysis/data/01_new.csv\")\n",
        "rising_df1 = pd.read_csv(\"/content/drive/My Drive/___hertie/2020-spring/rsub-redpill-analysis/data/01_rising.csv\")\n",
        "top_df1 = pd.read_csv(\"/content/drive/My Drive/___hertie/2020-spring/rsub-redpill-analysis/data/01_top.csv\")\n",
        "\n",
        "con_df2 = pd.read_csv(\"/content/drive/My Drive/___hertie/2020-spring/rsub-redpill-analysis/data/02_controversial.csv\")\n",
        "hot_df2 = pd.read_csv(\"/content/drive/My Drive/___hertie/2020-spring/rsub-redpill-analysis/data/02_hot.csv\")\n",
        "new_df2 = pd.read_csv(\"/content/drive/My Drive/___hertie/2020-spring/rsub-redpill-analysis/data/02_new.csv\")\n",
        "rising_df2 = pd.read_csv(\"/content/drive/My Drive/___hertie/2020-spring/rsub-redpill-analysis/data/02_rising.csv\")\n",
        "top_df2 = pd.read_csv(\"/content/drive/My Drive/___hertie/2020-spring/rsub-redpill-analysis/data/02_top.csv\")\n",
        "\n"
      ],
      "execution_count": 0,
      "outputs": [
        {
          "output_type": "error",
          "ename": "FileNotFoundError",
          "evalue": "ignored",
          "traceback": [
            "\u001b[0;31m---------------------------------------------------------------------------\u001b[0m",
            "\u001b[0;31mFileNotFoundError\u001b[0m                         Traceback (most recent call last)",
            "\u001b[0;32m<ipython-input-21-c249f538153c>\u001b[0m in \u001b[0;36m<module>\u001b[0;34m()\u001b[0m\n\u001b[0;32m----> 1\u001b[0;31m \u001b[0mcon_df1\u001b[0m \u001b[0;34m=\u001b[0m \u001b[0mpd\u001b[0m\u001b[0;34m.\u001b[0m\u001b[0mread_csv\u001b[0m\u001b[0;34m(\u001b[0m\u001b[0;34m\"/content/drive/My Drive/___hertie/2020-spring/rsub-redpill-analysis/data/01_controversial.csv\"\u001b[0m\u001b[0;34m)\u001b[0m\u001b[0;34m\u001b[0m\u001b[0;34m\u001b[0m\u001b[0m\n\u001b[0m\u001b[1;32m      2\u001b[0m \u001b[0mhot_df1\u001b[0m \u001b[0;34m=\u001b[0m \u001b[0mpd\u001b[0m\u001b[0;34m.\u001b[0m\u001b[0mread_csv\u001b[0m\u001b[0;34m(\u001b[0m\u001b[0;34m\"/content/drive/My Drive/___hertie/2020-spring/rsub-redpill-analysis/data/01_hot.csv\"\u001b[0m\u001b[0;34m)\u001b[0m\u001b[0;34m\u001b[0m\u001b[0;34m\u001b[0m\u001b[0m\n\u001b[1;32m      3\u001b[0m \u001b[0mnew_df1\u001b[0m \u001b[0;34m=\u001b[0m \u001b[0mpd\u001b[0m\u001b[0;34m.\u001b[0m\u001b[0mread_csv\u001b[0m\u001b[0;34m(\u001b[0m\u001b[0;34m\"/content/drive/My Drive/___hertie/2020-spring/rsub-redpill-analysis/data/01_new.csv\"\u001b[0m\u001b[0;34m)\u001b[0m\u001b[0;34m\u001b[0m\u001b[0;34m\u001b[0m\u001b[0m\n\u001b[1;32m      4\u001b[0m \u001b[0mrising_df1\u001b[0m \u001b[0;34m=\u001b[0m \u001b[0mpd\u001b[0m\u001b[0;34m.\u001b[0m\u001b[0mread_csv\u001b[0m\u001b[0;34m(\u001b[0m\u001b[0;34m\"/content/drive/My Drive/___hertie/2020-spring/rsub-redpill-analysis/data/01_rising.csv\"\u001b[0m\u001b[0;34m)\u001b[0m\u001b[0;34m\u001b[0m\u001b[0;34m\u001b[0m\u001b[0m\n\u001b[1;32m      5\u001b[0m \u001b[0mtop_df1\u001b[0m \u001b[0;34m=\u001b[0m \u001b[0mpd\u001b[0m\u001b[0;34m.\u001b[0m\u001b[0mread_csv\u001b[0m\u001b[0;34m(\u001b[0m\u001b[0;34m\"/content/drive/My Drive/___hertie/2020-spring/rsub-redpill-analysis/data/01_top.csv\"\u001b[0m\u001b[0;34m)\u001b[0m\u001b[0;34m\u001b[0m\u001b[0;34m\u001b[0m\u001b[0m\n",
            "\u001b[0;32m/usr/local/lib/python3.6/dist-packages/pandas/io/parsers.py\u001b[0m in \u001b[0;36mparser_f\u001b[0;34m(filepath_or_buffer, sep, delimiter, header, names, index_col, usecols, squeeze, prefix, mangle_dupe_cols, dtype, engine, converters, true_values, false_values, skipinitialspace, skiprows, skipfooter, nrows, na_values, keep_default_na, na_filter, verbose, skip_blank_lines, parse_dates, infer_datetime_format, keep_date_col, date_parser, dayfirst, cache_dates, iterator, chunksize, compression, thousands, decimal, lineterminator, quotechar, quoting, doublequote, escapechar, comment, encoding, dialect, error_bad_lines, warn_bad_lines, delim_whitespace, low_memory, memory_map, float_precision)\u001b[0m\n\u001b[1;32m    674\u001b[0m         )\n\u001b[1;32m    675\u001b[0m \u001b[0;34m\u001b[0m\u001b[0m\n\u001b[0;32m--> 676\u001b[0;31m         \u001b[0;32mreturn\u001b[0m \u001b[0m_read\u001b[0m\u001b[0;34m(\u001b[0m\u001b[0mfilepath_or_buffer\u001b[0m\u001b[0;34m,\u001b[0m \u001b[0mkwds\u001b[0m\u001b[0;34m)\u001b[0m\u001b[0;34m\u001b[0m\u001b[0;34m\u001b[0m\u001b[0m\n\u001b[0m\u001b[1;32m    677\u001b[0m \u001b[0;34m\u001b[0m\u001b[0m\n\u001b[1;32m    678\u001b[0m     \u001b[0mparser_f\u001b[0m\u001b[0;34m.\u001b[0m\u001b[0m__name__\u001b[0m \u001b[0;34m=\u001b[0m \u001b[0mname\u001b[0m\u001b[0;34m\u001b[0m\u001b[0;34m\u001b[0m\u001b[0m\n",
            "\u001b[0;32m/usr/local/lib/python3.6/dist-packages/pandas/io/parsers.py\u001b[0m in \u001b[0;36m_read\u001b[0;34m(filepath_or_buffer, kwds)\u001b[0m\n\u001b[1;32m    446\u001b[0m \u001b[0;34m\u001b[0m\u001b[0m\n\u001b[1;32m    447\u001b[0m     \u001b[0;31m# Create the parser.\u001b[0m\u001b[0;34m\u001b[0m\u001b[0;34m\u001b[0m\u001b[0;34m\u001b[0m\u001b[0m\n\u001b[0;32m--> 448\u001b[0;31m     \u001b[0mparser\u001b[0m \u001b[0;34m=\u001b[0m \u001b[0mTextFileReader\u001b[0m\u001b[0;34m(\u001b[0m\u001b[0mfp_or_buf\u001b[0m\u001b[0;34m,\u001b[0m \u001b[0;34m**\u001b[0m\u001b[0mkwds\u001b[0m\u001b[0;34m)\u001b[0m\u001b[0;34m\u001b[0m\u001b[0;34m\u001b[0m\u001b[0m\n\u001b[0m\u001b[1;32m    449\u001b[0m \u001b[0;34m\u001b[0m\u001b[0m\n\u001b[1;32m    450\u001b[0m     \u001b[0;32mif\u001b[0m \u001b[0mchunksize\u001b[0m \u001b[0;32mor\u001b[0m \u001b[0miterator\u001b[0m\u001b[0;34m:\u001b[0m\u001b[0;34m\u001b[0m\u001b[0;34m\u001b[0m\u001b[0m\n",
            "\u001b[0;32m/usr/local/lib/python3.6/dist-packages/pandas/io/parsers.py\u001b[0m in \u001b[0;36m__init__\u001b[0;34m(self, f, engine, **kwds)\u001b[0m\n\u001b[1;32m    878\u001b[0m             \u001b[0mself\u001b[0m\u001b[0;34m.\u001b[0m\u001b[0moptions\u001b[0m\u001b[0;34m[\u001b[0m\u001b[0;34m\"has_index_names\"\u001b[0m\u001b[0;34m]\u001b[0m \u001b[0;34m=\u001b[0m \u001b[0mkwds\u001b[0m\u001b[0;34m[\u001b[0m\u001b[0;34m\"has_index_names\"\u001b[0m\u001b[0;34m]\u001b[0m\u001b[0;34m\u001b[0m\u001b[0;34m\u001b[0m\u001b[0m\n\u001b[1;32m    879\u001b[0m \u001b[0;34m\u001b[0m\u001b[0m\n\u001b[0;32m--> 880\u001b[0;31m         \u001b[0mself\u001b[0m\u001b[0;34m.\u001b[0m\u001b[0m_make_engine\u001b[0m\u001b[0;34m(\u001b[0m\u001b[0mself\u001b[0m\u001b[0;34m.\u001b[0m\u001b[0mengine\u001b[0m\u001b[0;34m)\u001b[0m\u001b[0;34m\u001b[0m\u001b[0;34m\u001b[0m\u001b[0m\n\u001b[0m\u001b[1;32m    881\u001b[0m \u001b[0;34m\u001b[0m\u001b[0m\n\u001b[1;32m    882\u001b[0m     \u001b[0;32mdef\u001b[0m \u001b[0mclose\u001b[0m\u001b[0;34m(\u001b[0m\u001b[0mself\u001b[0m\u001b[0;34m)\u001b[0m\u001b[0;34m:\u001b[0m\u001b[0;34m\u001b[0m\u001b[0;34m\u001b[0m\u001b[0m\n",
            "\u001b[0;32m/usr/local/lib/python3.6/dist-packages/pandas/io/parsers.py\u001b[0m in \u001b[0;36m_make_engine\u001b[0;34m(self, engine)\u001b[0m\n\u001b[1;32m   1112\u001b[0m     \u001b[0;32mdef\u001b[0m \u001b[0m_make_engine\u001b[0m\u001b[0;34m(\u001b[0m\u001b[0mself\u001b[0m\u001b[0;34m,\u001b[0m \u001b[0mengine\u001b[0m\u001b[0;34m=\u001b[0m\u001b[0;34m\"c\"\u001b[0m\u001b[0;34m)\u001b[0m\u001b[0;34m:\u001b[0m\u001b[0;34m\u001b[0m\u001b[0;34m\u001b[0m\u001b[0m\n\u001b[1;32m   1113\u001b[0m         \u001b[0;32mif\u001b[0m \u001b[0mengine\u001b[0m \u001b[0;34m==\u001b[0m \u001b[0;34m\"c\"\u001b[0m\u001b[0;34m:\u001b[0m\u001b[0;34m\u001b[0m\u001b[0;34m\u001b[0m\u001b[0m\n\u001b[0;32m-> 1114\u001b[0;31m             \u001b[0mself\u001b[0m\u001b[0;34m.\u001b[0m\u001b[0m_engine\u001b[0m \u001b[0;34m=\u001b[0m \u001b[0mCParserWrapper\u001b[0m\u001b[0;34m(\u001b[0m\u001b[0mself\u001b[0m\u001b[0;34m.\u001b[0m\u001b[0mf\u001b[0m\u001b[0;34m,\u001b[0m \u001b[0;34m**\u001b[0m\u001b[0mself\u001b[0m\u001b[0;34m.\u001b[0m\u001b[0moptions\u001b[0m\u001b[0;34m)\u001b[0m\u001b[0;34m\u001b[0m\u001b[0;34m\u001b[0m\u001b[0m\n\u001b[0m\u001b[1;32m   1115\u001b[0m         \u001b[0;32melse\u001b[0m\u001b[0;34m:\u001b[0m\u001b[0;34m\u001b[0m\u001b[0;34m\u001b[0m\u001b[0m\n\u001b[1;32m   1116\u001b[0m             \u001b[0;32mif\u001b[0m \u001b[0mengine\u001b[0m \u001b[0;34m==\u001b[0m \u001b[0;34m\"python\"\u001b[0m\u001b[0;34m:\u001b[0m\u001b[0;34m\u001b[0m\u001b[0;34m\u001b[0m\u001b[0m\n",
            "\u001b[0;32m/usr/local/lib/python3.6/dist-packages/pandas/io/parsers.py\u001b[0m in \u001b[0;36m__init__\u001b[0;34m(self, src, **kwds)\u001b[0m\n\u001b[1;32m   1889\u001b[0m         \u001b[0mkwds\u001b[0m\u001b[0;34m[\u001b[0m\u001b[0;34m\"usecols\"\u001b[0m\u001b[0;34m]\u001b[0m \u001b[0;34m=\u001b[0m \u001b[0mself\u001b[0m\u001b[0;34m.\u001b[0m\u001b[0musecols\u001b[0m\u001b[0;34m\u001b[0m\u001b[0;34m\u001b[0m\u001b[0m\n\u001b[1;32m   1890\u001b[0m \u001b[0;34m\u001b[0m\u001b[0m\n\u001b[0;32m-> 1891\u001b[0;31m         \u001b[0mself\u001b[0m\u001b[0;34m.\u001b[0m\u001b[0m_reader\u001b[0m \u001b[0;34m=\u001b[0m \u001b[0mparsers\u001b[0m\u001b[0;34m.\u001b[0m\u001b[0mTextReader\u001b[0m\u001b[0;34m(\u001b[0m\u001b[0msrc\u001b[0m\u001b[0;34m,\u001b[0m \u001b[0;34m**\u001b[0m\u001b[0mkwds\u001b[0m\u001b[0;34m)\u001b[0m\u001b[0;34m\u001b[0m\u001b[0;34m\u001b[0m\u001b[0m\n\u001b[0m\u001b[1;32m   1892\u001b[0m         \u001b[0mself\u001b[0m\u001b[0;34m.\u001b[0m\u001b[0munnamed_cols\u001b[0m \u001b[0;34m=\u001b[0m \u001b[0mself\u001b[0m\u001b[0;34m.\u001b[0m\u001b[0m_reader\u001b[0m\u001b[0;34m.\u001b[0m\u001b[0munnamed_cols\u001b[0m\u001b[0;34m\u001b[0m\u001b[0;34m\u001b[0m\u001b[0m\n\u001b[1;32m   1893\u001b[0m \u001b[0;34m\u001b[0m\u001b[0m\n",
            "\u001b[0;32mpandas/_libs/parsers.pyx\u001b[0m in \u001b[0;36mpandas._libs.parsers.TextReader.__cinit__\u001b[0;34m()\u001b[0m\n",
            "\u001b[0;32mpandas/_libs/parsers.pyx\u001b[0m in \u001b[0;36mpandas._libs.parsers.TextReader._setup_parser_source\u001b[0;34m()\u001b[0m\n",
            "\u001b[0;31mFileNotFoundError\u001b[0m: [Errno 2] File /content/drive/My Drive/___hertie/2020-spring/rsub-redpill-analysis/data/01_controversial.csv does not exist: '/content/drive/My Drive/___hertie/2020-spring/rsub-redpill-analysis/data/01_controversial.csv'"
          ]
        }
      ]
    },
    {
      "cell_type": "code",
      "metadata": {
        "id": "E3utDvEm82LS",
        "colab_type": "code",
        "colab": {}
      },
      "source": [
        "top_df3 = pd.read_csv(\"/content/drive/My Drive/rsub-redpill-analysis/03_top - 03_top.csv\")\n",
        "con_df3 = pd.read_csv(\"/content/drive/My Drive/rsub-redpill-analysis/03_controversial - 03_controversial.csv\")\n",
        "new_df3 = pd.read_csv(\"/content/drive/My Drive/rsub-redpill-analysis/data/03_new.csv\")\n"
      ],
      "execution_count": 0,
      "outputs": []
    },
    {
      "cell_type": "code",
      "metadata": {
        "id": "lXzTb2EY7gkx",
        "colab_type": "code",
        "outputId": "cc64c651-9776-4c35-be71-72a7b0618349",
        "colab": {
          "base_uri": "https://localhost:8080/",
          "height": 54
        }
      },
      "source": [
        "from google.colab import drive\n",
        "drive.mount('/content/drive')"
      ],
      "execution_count": 0,
      "outputs": [
        {
          "output_type": "stream",
          "text": [
            "Drive already mounted at /content/drive; to attempt to forcibly remount, call drive.mount(\"/content/drive\", force_remount=True).\n"
          ],
          "name": "stdout"
        }
      ]
    },
    {
      "cell_type": "code",
      "metadata": {
        "id": "VaQlgeR02vT1",
        "colab_type": "code",
        "colab": {}
      },
      "source": [
        "# add year variable\n",
        "con_df1['year'] = con_df1['date'].astype(str).str[:4]\n",
        "hot_df1['year'] = hot_df1['date'].astype(str).str[:4]\n",
        "new_df1['year'] = new_df1['date'].astype(str).str[:4]\n",
        "rising_df1['year'] = rising_df1['date'].astype(str).str[:4]\n",
        "top_df1['year'] = top_df1['date'].astype(str).str[:4]\n",
        "\n",
        "con_df2['year'] = con_df2['date'].astype(str).str[:4]\n",
        "hot_df2['year'] = hot_df2['date'].astype(str).str[:4]\n",
        "new_df2['year'] = new_df2['date'].astype(str).str[:4]\n",
        "rising_df2['year'] = rising_df2['date'].astype(str).str[:4]\n",
        "top_df2['year'] = top_df2['date'].astype(str).str[:4]\n",
        "\n",
        "\n",
        "\n"
      ],
      "execution_count": 0,
      "outputs": []
    },
    {
      "cell_type": "code",
      "metadata": {
        "id": "qCUJEqknBKYZ",
        "colab_type": "code",
        "colab": {}
      },
      "source": [
        "top_df3['year'] = top_df3['date'].astype(str).str[:4]\n",
        "con_df3['year'] = con_df3['date'].astype(str).str[:4]\n"
      ],
      "execution_count": 0,
      "outputs": []
    },
    {
      "cell_type": "code",
      "metadata": {
        "id": "vNX9pnRi5IPi",
        "colab_type": "code",
        "outputId": "d4518d47-4604-48ca-a22b-de35b8637e1d",
        "colab": {
          "base_uri": "https://localhost:8080/",
          "height": 147
        }
      },
      "source": [
        "con_df1['year'].value_counts()"
      ],
      "execution_count": 0,
      "outputs": [
        {
          "output_type": "execute_result",
          "data": {
            "text/plain": [
              "2014    22\n",
              "2013    21\n",
              "2016    17\n",
              "2015    16\n",
              "2018    12\n",
              "2017     8\n",
              "2019     4\n",
              "Name: year, dtype: int64"
            ]
          },
          "metadata": {
            "tags": []
          },
          "execution_count": 8
        }
      ]
    },
    {
      "cell_type": "code",
      "metadata": {
        "id": "Huvzka0j5UgU",
        "colab_type": "code",
        "outputId": "68385dd1-d761-40ab-e286-e2960edb6c9b",
        "colab": {
          "base_uri": "https://localhost:8080/",
          "height": 147
        }
      },
      "source": [
        "top_df1['year'].value_counts()"
      ],
      "execution_count": 0,
      "outputs": [
        {
          "output_type": "execute_result",
          "data": {
            "text/plain": [
              "2018    33\n",
              "2017    28\n",
              "2015    15\n",
              "2016    14\n",
              "2014     4\n",
              "2019     4\n",
              "2020     2\n",
              "Name: year, dtype: int64"
            ]
          },
          "metadata": {
            "tags": []
          },
          "execution_count": 9
        }
      ]
    },
    {
      "cell_type": "code",
      "metadata": {
        "id": "zJnr4kShk8n_",
        "colab_type": "code",
        "colab": {}
      },
      "source": [
        "# change variable type for dates and reorder \n",
        "top_df1['date'] = pd.to_datetime(top_df1['date'])\n",
        "top_df1 = top_df1.sort_values(by='date')\n",
        "\n",
        "top_df2['date'] = pd.to_datetime(top_df2['date'])\n",
        "top_df2 = top_df2.sort_values(by='date')\n",
        "\n",
        "con_df1['date'] = pd.to_datetime(con_df1['date'])\n",
        "con_df1 = con_df1.sort_values(by='date')\n",
        "\n",
        "con_df2['date'] = pd.to_datetime(con_df2['date'])\n",
        "con_df2 = con_df2.sort_values(by='date')"
      ],
      "execution_count": 0,
      "outputs": []
    },
    {
      "cell_type": "code",
      "metadata": {
        "id": "z3WeeQAlCrVP",
        "colab_type": "code",
        "colab": {}
      },
      "source": [
        "top_df3['date'] = pd.to_datetime(con_df3['date'])\n",
        "con_df3 = con_df3.sort_values(by='date')"
      ],
      "execution_count": 0,
      "outputs": []
    },
    {
      "cell_type": "code",
      "metadata": {
        "id": "YgOxL2qB5bth",
        "colab_type": "code",
        "colab": {}
      },
      "source": [
        "# set indices for plotting ts graphs \n",
        "top_df1 = top_df1.set_index(['date']) \n",
        "top_df2 = top_df2.set_index(['date']) \n",
        "\n",
        "con_df1 = con_df1.set_index(['date']) \n",
        "con_df2 = con_df2.set_index(['date']) "
      ],
      "execution_count": 0,
      "outputs": []
    },
    {
      "cell_type": "code",
      "metadata": {
        "id": "0_0apIubCiGs",
        "colab_type": "code",
        "colab": {}
      },
      "source": [
        "top_df3 = top_df3.set_index(['date']) \n",
        "con_df3 = con_df3.set_index(['date']) "
      ],
      "execution_count": 0,
      "outputs": []
    },
    {
      "cell_type": "markdown",
      "metadata": {
        "id": "fRpC1s5Agob6",
        "colab_type": "text"
      },
      "source": [
        "# Visualization"
      ]
    },
    {
      "cell_type": "code",
      "metadata": {
        "id": "NvGASey_IwDX",
        "colab_type": "code",
        "colab": {}
      },
      "source": [
        "# Initialization step for authenticating plotly account with chart-studio \n",
        "# To get API key, go to: https://plot.ly/settings/api\n",
        "chart_studio.tools.set_credentials_file(username='TURING423',                                              \n",
        "                                  api_key='UDKlJ1rdGPezI73E85pe')"
      ],
      "execution_count": 0,
      "outputs": []
    },
    {
      "cell_type": "code",
      "metadata": {
        "id": "5tdo4UPUiDel",
        "colab_type": "code",
        "outputId": "955acfd1-bcbd-4c4f-dc69-4d1b63f29e57",
        "colab": {
          "base_uri": "https://localhost:8080/",
          "height": 546
        }
      },
      "source": [
        "# Which posts Are most popular? RedPill Top \n",
        "# here.  we observe number of comments on posts as a measure of popularity \n",
        "\n",
        "# Write series code \n",
        "score_series = top_df1.loc[:,('comms_num')]\n",
        "# score_series.plot(figsize=(10,8));\n",
        "\n",
        "# Set x and y \n",
        "score_series = go.Scatter(x=score_series.index,\n",
        "                         y=score_series.values)\n",
        "\n",
        "# Set layout \n",
        "layout = go.Layout(title='DF1_RedPill.Top. no.Comments/year', xaxis=dict(title='Date'),\n",
        "                   yaxis=dict(title='(Number of comments)'))\n",
        "\n",
        "# Plot\n",
        "fig = go.Figure(data=[score_series], layout=layout)\n",
        "py.iplot(fig, sharing='public')"
      ],
      "execution_count": 0,
      "outputs": [
        {
          "output_type": "execute_result",
          "data": {
            "text/html": [
              "\n",
              "        <iframe\n",
              "            width=\"100%\"\n",
              "            height=\"525px\"\n",
              "            src=\"https://plotly.com/~TURING423/139.embed\"\n",
              "            frameborder=\"0\"\n",
              "            allowfullscreen\n",
              "        ></iframe>\n",
              "        "
            ],
            "text/plain": [
              "<IPython.lib.display.IFrame at 0x7fdfa03b1f98>"
            ]
          },
          "metadata": {
            "tags": []
          },
          "execution_count": 41
        }
      ]
    },
    {
      "cell_type": "code",
      "metadata": {
        "id": "vBYKIyPFaioA",
        "colab_type": "code",
        "outputId": "c9ae432e-ded5-4ab2-e153-dda4e443a7c9",
        "colab": {
          "base_uri": "https://localhost:8080/",
          "height": 546
        }
      },
      "source": [
        "#which are most popular? RedPill Top \n",
        "# this asks th same question as before but instead upserves the upvotes recieved by a post \n",
        "\n",
        "# Write series code \n",
        "score_series = top_df1.loc[:,('ups')]\n",
        "# score_series.plot(figsize=(10,8));\n",
        "\n",
        "# Set x and y \n",
        "score_series  = go.Scatter(x=score_series.index,\n",
        "                         y=score_series.values)\n",
        "\n",
        "# Set layout \n",
        "layout = go.Layout(title='DF1_ RedPill.Top.  no.upvotes/posts/Year', xaxis=dict(title='Date'),\n",
        "                   yaxis=dict(title='(no. upvotes)'))\n",
        "\n",
        "# Plot\n",
        "fig = go.Figure(data=[score_series], layout=layout)\n",
        "py.iplot(fig, sharing='public')"
      ],
      "execution_count": 0,
      "outputs": [
        {
          "output_type": "execute_result",
          "data": {
            "text/html": [
              "\n",
              "        <iframe\n",
              "            width=\"100%\"\n",
              "            height=\"525px\"\n",
              "            src=\"https://plotly.com/~TURING423/137.embed\"\n",
              "            frameborder=\"0\"\n",
              "            allowfullscreen\n",
              "        ></iframe>\n",
              "        "
            ],
            "text/plain": [
              "<IPython.lib.display.IFrame at 0x7fdfa0e541d0>"
            ]
          },
          "metadata": {
            "tags": []
          },
          "execution_count": 40
        }
      ]
    },
    {
      "cell_type": "code",
      "metadata": {
        "id": "r1nJIV_VwFGn",
        "colab_type": "code",
        "outputId": "cd75dd28-4d62-410b-9575-1d9599515f98",
        "colab": {
          "base_uri": "https://localhost:8080/",
          "height": 546
        }
      },
      "source": [
        "#which are most contoversial  RedPill Con \n",
        "# this asks teh same question as before but instead upserves the upvotes recieved by a post \n",
        "\n",
        "# Write series code \n",
        "score_series = con_df1.loc[:,('comms_num')]\n",
        "# score_series.plot(figsize=(10,8));\n",
        "\n",
        "# Set x and y \n",
        "score_series = go.Scatter(x=score_series.index,\n",
        "                         y=score_series.values)\n",
        "\n",
        "# Set layout \n",
        "layout = go.Layout(title='DF1_RedPill.Controversial. no.Comments/Year', xaxis=dict(title='Date'),\n",
        "                   yaxis=dict(title='(no. comments)'))\n",
        "\n",
        "# Plot\n",
        "fig = go.Figure(data=[score_series], layout=layout)\n",
        "py.iplot(fig, sharing='public')"
      ],
      "execution_count": 0,
      "outputs": [
        {
          "output_type": "execute_result",
          "data": {
            "text/html": [
              "\n",
              "        <iframe\n",
              "            width=\"100%\"\n",
              "            height=\"525px\"\n",
              "            src=\"https://plotly.com/~TURING423/135.embed\"\n",
              "            frameborder=\"0\"\n",
              "            allowfullscreen\n",
              "        ></iframe>\n",
              "        "
            ],
            "text/plain": [
              "<IPython.lib.display.IFrame at 0x7fdfa041fe10>"
            ]
          },
          "metadata": {
            "tags": []
          },
          "execution_count": 39
        }
      ]
    },
    {
      "cell_type": "code",
      "metadata": {
        "id": "aGQf7xOk9hEa",
        "colab_type": "code",
        "outputId": "74b5a581-a54d-45cf-f8b9-507e5a639bfd",
        "colab": {
          "base_uri": "https://localhost:8080/",
          "height": 546
        }
      },
      "source": [
        "#which are most popular? RedPill Top \n",
        "# this asks th same question as before but instead upserves the upvotes recieved by a post \n",
        "\n",
        "# Write series code \n",
        "score_series = con_df1.loc[:,('score')]\n",
        "#score_series.plot(figsize=(10,8));\n",
        "\n",
        "# Set x and y \n",
        "score_series  = go.Scatter(x=score_series.index,\n",
        "                         y=score_series.values)\n",
        "\n",
        "# Set layout \n",
        "layout = go.Layout(title='DF1_ RedPill.Controversial. score/posts/Year', xaxis=dict(title='Date'),\n",
        "                   yaxis=dict(title='(score)'))\n",
        "\n",
        "# Plot\n",
        "fig = go.Figure(data=[score_series], layout=layout)\n",
        "py.iplot(fig, sharing='public')"
      ],
      "execution_count": 0,
      "outputs": [
        {
          "output_type": "execute_result",
          "data": {
            "text/html": [
              "\n",
              "        <iframe\n",
              "            width=\"100%\"\n",
              "            height=\"525px\"\n",
              "            src=\"https://plotly.com/~TURING423/131.embed\"\n",
              "            frameborder=\"0\"\n",
              "            allowfullscreen\n",
              "        ></iframe>\n",
              "        "
            ],
            "text/plain": [
              "<IPython.lib.display.IFrame at 0x7fdfa1a0af60>"
            ]
          },
          "metadata": {
            "tags": []
          },
          "execution_count": 37
        }
      ]
    },
    {
      "cell_type": "code",
      "metadata": {
        "id": "et1jAtlP97t8",
        "colab_type": "code",
        "outputId": "5cdea95f-32ff-4180-f5e9-de46c51c2155",
        "colab": {
          "base_uri": "https://localhost:8080/",
          "height": 546
        }
      },
      "source": [
        "#which are most popular? MGTOW Top \n",
        "# \n",
        "\n",
        "# Write series code \n",
        "score_series = top_df2.loc[:,(\"comms_num\")]\n",
        "#score_series.plot(figsize=(10,8));\n",
        "\n",
        "# Set x and y \n",
        "score_series  = go.Scatter(x=score_series.index,\n",
        "                         y=score_series.values)\n",
        "\n",
        "# Set layout \n",
        "layout = go.Layout(title='DF2_ MGTOW.Top.  no. Comments posts/Year', xaxis=dict(title='Date'),\n",
        "                   yaxis=dict(title='(no. Comments )'))\n",
        "\n",
        "# Plot\n",
        "fig = go.Figure(data=[score_series], layout=layout)\n",
        "py.iplot(fig, sharing='public')"
      ],
      "execution_count": 0,
      "outputs": [
        {
          "output_type": "execute_result",
          "data": {
            "text/html": [
              "\n",
              "        <iframe\n",
              "            width=\"100%\"\n",
              "            height=\"525px\"\n",
              "            src=\"https://plotly.com/~TURING423/129.embed\"\n",
              "            frameborder=\"0\"\n",
              "            allowfullscreen\n",
              "        ></iframe>\n",
              "        "
            ],
            "text/plain": [
              "<IPython.lib.display.IFrame at 0x7fdfa0304e48>"
            ]
          },
          "metadata": {
            "tags": []
          },
          "execution_count": 36
        }
      ]
    },
    {
      "cell_type": "code",
      "metadata": {
        "id": "7OBZbHcuAqX6",
        "colab_type": "code",
        "outputId": "56258016-5085-4240-f6cd-3dfcfc93f209",
        "colab": {
          "base_uri": "https://localhost:8080/",
          "height": 546
        }
      },
      "source": [
        "#which are most popular? MGTOW Top \n",
        "# \n",
        "\n",
        "# Write series code \n",
        "score_series = top_df2.loc[:,(\"ups\")]\n",
        "#score_series.plot(figsize=(10,8));\n",
        "\n",
        "# Set x and y \n",
        "score_series  = go.Scatter(x=score_series.index,\n",
        "                         y=score_series.values)\n",
        "\n",
        "# Set layout \n",
        "layout = go.Layout(title='DF2_ MGTOW.Top.  no. upvotes/posts/Year', xaxis=dict(title='Date'),\n",
        "                   yaxis=dict(title='(no. upvotes)'))\n",
        "\n",
        "# Plot\n",
        "fig = go.Figure(data=[score_series], layout=layout)\n",
        "py.iplot(fig, sharing='public')"
      ],
      "execution_count": 0,
      "outputs": [
        {
          "output_type": "execute_result",
          "data": {
            "text/html": [
              "\n",
              "        <iframe\n",
              "            width=\"100%\"\n",
              "            height=\"525px\"\n",
              "            src=\"https://plotly.com/~TURING423/127.embed\"\n",
              "            frameborder=\"0\"\n",
              "            allowfullscreen\n",
              "        ></iframe>\n",
              "        "
            ],
            "text/plain": [
              "<IPython.lib.display.IFrame at 0x7fdfa1622ac8>"
            ]
          },
          "metadata": {
            "tags": []
          },
          "execution_count": 35
        }
      ]
    },
    {
      "cell_type": "code",
      "metadata": {
        "id": "bntXZQB1A7lL",
        "colab_type": "code",
        "outputId": "c4d2cd6b-28e5-45cc-e19f-48e69fa605b0",
        "colab": {
          "base_uri": "https://localhost:8080/",
          "height": 546
        }
      },
      "source": [
        "#which are most popular? MGTOW Top \n",
        "# \n",
        "\n",
        "# Write series code \n",
        "score_series = con_df2.loc[:,(\"comms_num\")]\n",
        "#score_series.plot(figsize=(10,8));\n",
        "\n",
        "# Set x and y \n",
        "score_series  = go.Scatter(x=score_series.index,\n",
        "                         y=score_series.values)\n",
        "\n",
        "# Set layout \n",
        "layout = go.Layout(title='DF2_ MGTOW.Controversial.  no. Comments/posts/Year', xaxis=dict(title='Date'),\n",
        "                   yaxis=dict(title='(no. Comments )'))\n",
        "\n",
        "# Plot\n",
        "fig = go.Figure(data=[score_series], layout=layout)\n",
        "py.iplot(fig, sharing='public')"
      ],
      "execution_count": 0,
      "outputs": [
        {
          "output_type": "execute_result",
          "data": {
            "text/html": [
              "\n",
              "        <iframe\n",
              "            width=\"100%\"\n",
              "            height=\"525px\"\n",
              "            src=\"https://plotly.com/~TURING423/125.embed\"\n",
              "            frameborder=\"0\"\n",
              "            allowfullscreen\n",
              "        ></iframe>\n",
              "        "
            ],
            "text/plain": [
              "<IPython.lib.display.IFrame at 0x7fdf9ff34240>"
            ]
          },
          "metadata": {
            "tags": []
          },
          "execution_count": 34
        }
      ]
    },
    {
      "cell_type": "code",
      "metadata": {
        "id": "gRY5otNICGvE",
        "colab_type": "code",
        "outputId": "158a632a-8001-495f-943f-694c51f8a6ac",
        "colab": {
          "base_uri": "https://localhost:8080/",
          "height": 546
        }
      },
      "source": [
        "#which are most popular? MGTOW Top \n",
        "# \n",
        "\n",
        "# Write series code \n",
        "score_series = con_df2.loc[:,(\"score\")]\n",
        "#score_series.plot(figsize=(10,8));\n",
        "\n",
        "# Set x and y \n",
        "score_series  = go.Scatter(x=score_series.index,\n",
        "                         y=score_series.values)\n",
        "\n",
        "# Set layout \n",
        "layout = go.Layout(title='DF2_ MGTOW.Controversial. score  posts/Year', xaxis=dict(title='Date'),\n",
        "                   yaxis=dict(title='(score)'))\n",
        "\n",
        "# Plot\n",
        "fig = go.Figure(data=[score_series], layout=layout)\n",
        "py.iplot(fig, sharing='public')"
      ],
      "execution_count": 0,
      "outputs": [
        {
          "output_type": "execute_result",
          "data": {
            "text/html": [
              "\n",
              "        <iframe\n",
              "            width=\"100%\"\n",
              "            height=\"525px\"\n",
              "            src=\"https://plotly.com/~TURING423/121.embed\"\n",
              "            frameborder=\"0\"\n",
              "            allowfullscreen\n",
              "        ></iframe>\n",
              "        "
            ],
            "text/plain": [
              "<IPython.lib.display.IFrame at 0x7fdfa2be5320>"
            ]
          },
          "metadata": {
            "tags": []
          },
          "execution_count": 32
        }
      ]
    },
    {
      "cell_type": "code",
      "metadata": {
        "id": "bJfblS_mDBKH",
        "colab_type": "code",
        "outputId": "794f33ed-2e66-437d-9427-2687a70f03f1",
        "colab": {
          "base_uri": "https://localhost:8080/",
          "height": 546
        }
      },
      "source": [
        "#which are most popular? MensRighs Top \n",
        "\n",
        "\n",
        "# Write series code \n",
        "score_series = top_df3.loc[:,(\"comms_num\")]\n",
        "#score_series.plot(figsize=(10,8));\n",
        "\n",
        "# Set x and y \n",
        "score_series  = go.Scatter(x=score_series.index,\n",
        "                         y=score_series.values)\n",
        "\n",
        "# Set layout \n",
        "layout = go.Layout(title='DF3_ MensRights.Top.  no. Comments posts/Year', xaxis=dict(title='Date'),\n",
        "                   yaxis=dict(title='(no. Comments )'))\n",
        "\n",
        "# Plot\n",
        "fig = go.Figure(data=[score_series], layout=layout)\n",
        "py.iplot(fig, sharing='public')"
      ],
      "execution_count": 0,
      "outputs": [
        {
          "output_type": "execute_result",
          "data": {
            "text/html": [
              "\n",
              "        <iframe\n",
              "            width=\"100%\"\n",
              "            height=\"525px\"\n",
              "            src=\"https://plotly.com/~TURING423/151.embed\"\n",
              "            frameborder=\"0\"\n",
              "            allowfullscreen\n",
              "        ></iframe>\n",
              "        "
            ],
            "text/plain": [
              "<IPython.lib.display.IFrame at 0x7f8d6c8fe5f8>"
            ]
          },
          "metadata": {
            "tags": []
          },
          "execution_count": 51
        }
      ]
    },
    {
      "cell_type": "code",
      "metadata": {
        "id": "8RkDQTlxGJCk",
        "colab_type": "code",
        "outputId": "06814e8f-7382-4716-9fa2-155ff48e5964",
        "colab": {
          "base_uri": "https://localhost:8080/",
          "height": 546
        }
      },
      "source": [
        "#which are most popular? MensRights Top \n",
        "# \n",
        "\n",
        "# Write series code \n",
        "score_series = top_df3.loc[:,(\"score\")]\n",
        "#score_series.plot(figsize=(10,8));\n",
        "\n",
        "# Set x and y \n",
        "score_series  = go.Scatter(x=score_series.index,\n",
        "                         y=score_series.values)\n",
        "\n",
        "# Set layout \n",
        "layout = go.Layout(title='DF3_MensRights.Top. score  posts/Year', xaxis=dict(title='Date'),\n",
        "                   yaxis=dict(title='(score)'))\n",
        "\n",
        "# Plot\n",
        "fig = go.Figure(data=[score_series], layout=layout)\n",
        "py.iplot(fig, sharing='public')"
      ],
      "execution_count": 0,
      "outputs": [
        {
          "output_type": "execute_result",
          "data": {
            "text/html": [
              "\n",
              "        <iframe\n",
              "            width=\"100%\"\n",
              "            height=\"525px\"\n",
              "            src=\"https://plotly.com/~TURING423/153.embed\"\n",
              "            frameborder=\"0\"\n",
              "            allowfullscreen\n",
              "        ></iframe>\n",
              "        "
            ],
            "text/plain": [
              "<IPython.lib.display.IFrame at 0x7f8d6bba70b8>"
            ]
          },
          "metadata": {
            "tags": []
          },
          "execution_count": 52
        }
      ]
    },
    {
      "cell_type": "code",
      "metadata": {
        "id": "CVb8d-_OGeSr",
        "colab_type": "code",
        "outputId": "a92d6151-ebf8-4a5e-94cd-6feb279ff64d",
        "colab": {
          "base_uri": "https://localhost:8080/",
          "height": 563
        }
      },
      "source": [
        "#which are most popular? MensRighs Top \n",
        "\n",
        "\n",
        "# Write series code \n",
        "score_series = con_df3.loc[:,(\"comms_num\")]\n",
        "#score_series.plot(figsize=(10,8));\n",
        "\n",
        "# Set x and y \n",
        "score_series  = go.Scatter(x=score_series.index,\n",
        "                         y=score_series.values)\n",
        "\n",
        "# Set layout \n",
        "layout = go.Layout(title='DF3_ MensRights.con.  no. Comments posts/Year', xaxis=dict(title='Date'),\n",
        "                   yaxis=dict(title='(no. Comments )'))\n",
        "\n",
        "# Plot\n",
        "fig = go.Figure(data=[score_series], layout=layout)\n",
        "py.iplot(fig, sharing='public')"
      ],
      "execution_count": 0,
      "outputs": [
        {
          "output_type": "stream",
          "text": [
            "ERROR! Session/line number was not unique in database. History logging moved to new session 60\n"
          ],
          "name": "stdout"
        },
        {
          "output_type": "execute_result",
          "data": {
            "text/html": [
              "\n",
              "        <iframe\n",
              "            width=\"100%\"\n",
              "            height=\"525px\"\n",
              "            src=\"https://plotly.com/~TURING423/155.embed\"\n",
              "            frameborder=\"0\"\n",
              "            allowfullscreen\n",
              "        ></iframe>\n",
              "        "
            ],
            "text/plain": [
              "<IPython.lib.display.IFrame at 0x7f8d6bf925c0>"
            ]
          },
          "metadata": {
            "tags": []
          },
          "execution_count": 53
        }
      ]
    },
    {
      "cell_type": "code",
      "metadata": {
        "id": "CHtJvVXkGsfw",
        "colab_type": "code",
        "outputId": "234ddd65-ea4a-42d9-9a17-4900b243e4eb",
        "colab": {
          "base_uri": "https://localhost:8080/",
          "height": 546
        }
      },
      "source": [
        "#which are most controvesial  MensRighs Top \n",
        "\n",
        "\n",
        "# Write series code \n",
        "score_series = con_df3.loc[:,(\"score\")]\n",
        "#score_series.plot(figsize=(10,8));\n",
        "\n",
        "# Set x and y \n",
        "score_series  = go.Scatter(x=score_series.index,\n",
        "                         y=score_series.values)\n",
        "\n",
        "# Set layout \n",
        "layout = go.Layout(title='DF3_ MensRights.Contorversial . Scoreposts/Year', xaxis=dict(title='Date'),\n",
        "                   yaxis=dict(title='(score )'))\n",
        "\n",
        "# Plot\n",
        "fig = go.Figure(data=[score_series], layout=layout)\n",
        "py.iplot(fig, sharing='public')"
      ],
      "execution_count": 0,
      "outputs": [
        {
          "output_type": "execute_result",
          "data": {
            "text/html": [
              "\n",
              "        <iframe\n",
              "            width=\"100%\"\n",
              "            height=\"525px\"\n",
              "            src=\"https://plotly.com/~TURING423/157.embed\"\n",
              "            frameborder=\"0\"\n",
              "            allowfullscreen\n",
              "        ></iframe>\n",
              "        "
            ],
            "text/plain": [
              "<IPython.lib.display.IFrame at 0x7f8d6cadd320>"
            ]
          },
          "metadata": {
            "tags": []
          },
          "execution_count": 54
        }
      ]
    }
  ]
}