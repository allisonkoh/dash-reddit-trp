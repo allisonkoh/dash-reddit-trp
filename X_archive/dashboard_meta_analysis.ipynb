{
  "nbformat": 4,
  "nbformat_minor": 0,
  "metadata": {
    "colab": {
      "name": "dashboard-meta-analysis.ipynb",
      "provenance": [],
      "collapsed_sections": []
    },
    "kernelspec": {
      "name": "python3",
      "display_name": "Python 3"
    }
  },
  "cells": [
    {
      "cell_type": "markdown",
      "metadata": {
        "id": "x59DmeBnL7K5",
        "colab_type": "text"
      },
      "source": [
        "# **Identifying Themes from \"Men's Rights\" Subreddit Feeds**: Dashboard Visualizations\n"
      ]
    },
    {
      "cell_type": "markdown",
      "metadata": {
        "id": "iwqBh-2_HhgV",
        "colab_type": "text"
      },
      "source": [
        "This notebook provides sample code of visualizations to be used for a dashboard that aims to provide an overview and meta-analysis of text data scraped from Men's Rights Activist Subreddit feeds, which include the quarantined `r/TheRedPill` and `r/MGOTW`, as well as `r/MensRights`. We envision this project to be an interactive dashboard of (1) time-series plots for up-votes and number of comments and (2) interactive results from topic models of titles and body text within each feed. \n",
        "\n",
        "The text data from Reddit was scraped using the Python Reddit API Wrapper (PRAW), which allowed us to extract 100 posts from the following categories: (1) top (2) hot (3) new (4) controversial (5) rising. Data from each category within each subreddit is stored as their own data frame, which can be selected by the user based on which feed they are interested in viewing. The visualizations in this notebook reflect some of the output code from the options we aim to implement in the final version of this project. "
      ]
    },
    {
      "cell_type": "markdown",
      "metadata": {
        "id": "LfSxuo4XL4HQ",
        "colab_type": "text"
      },
      "source": [
        "# Setup code"
      ]
    },
    {
      "cell_type": "code",
      "metadata": {
        "id": "i_a3AqORsABR",
        "colab_type": "code",
        "outputId": "7238a99c-a0f6-4585-bfe0-abbac36f9397",
        "colab": {
          "base_uri": "https://localhost:8080/",
          "height": 50
        }
      },
      "source": [
        "import pandas as pd\n",
        "import numpy as np \n",
        "import os\n",
        "\n",
        "import matplotlib as mpl\n",
        "import matplotlib.pyplot as plt\n",
        "import seaborn as sns\n",
        "\n",
        "from google.colab import drive\n",
        "from google.colab import files"
      ],
      "execution_count": 1,
      "outputs": [
        {
          "output_type": "stream",
          "text": [
            "/usr/local/lib/python3.6/dist-packages/statsmodels/tools/_testing.py:19: FutureWarning: pandas.util.testing is deprecated. Use the functions in the public API at pandas.testing instead.\n",
            "  import pandas.util.testing as tm\n"
          ],
          "name": "stderr"
        }
      ]
    },
    {
      "cell_type": "code",
      "metadata": {
        "id": "TTrY63U4mf1j",
        "colab_type": "code",
        "colab": {}
      },
      "source": [
        "# Uncomment the line below and rerun if you generate an error \n",
        "# !pip install chart-studio\n",
        "import chart_studio\n",
        "import chart_studio.plotly as py\n",
        "import plotly.graph_objects as go"
      ],
      "execution_count": 0,
      "outputs": []
    },
    {
      "cell_type": "code",
      "metadata": {
        "id": "66YHH0KlsQBZ",
        "colab_type": "code",
        "outputId": "c0591714-560d-48f7-ba04-eca0ec537748",
        "colab": {
          "base_uri": "https://localhost:8080/",
          "height": 118
        }
      },
      "source": [
        "drive.mount('/content/drive')"
      ],
      "execution_count": 5,
      "outputs": [
        {
          "output_type": "stream",
          "text": [
            "Go to this URL in a browser: https://accounts.google.com/o/oauth2/auth?client_id=947318989803-6bn6qk8qdgf4n4g3pfee6491hc0brc4i.apps.googleusercontent.com&redirect_uri=urn%3aietf%3awg%3aoauth%3a2.0%3aoob&response_type=code&scope=email%20https%3a%2f%2fwww.googleapis.com%2fauth%2fdocs.test%20https%3a%2f%2fwww.googleapis.com%2fauth%2fdrive%20https%3a%2f%2fwww.googleapis.com%2fauth%2fdrive.photos.readonly%20https%3a%2f%2fwww.googleapis.com%2fauth%2fpeopleapi.readonly\n",
            "\n",
            "Enter your authorization code:\n",
            "··········\n",
            "Mounted at /content/drive\n"
          ],
          "name": "stdout"
        }
      ]
    },
    {
      "cell_type": "code",
      "metadata": {
        "id": "7tFURYlv2Jpz",
        "colab_type": "code",
        "colab": {}
      },
      "source": [
        "data_path = \"/content/drive/My Drive/___hertie/2020-spring/rsub-redpill-analysis/data\" # CHANGE THIS TO REFLECT WHERE THE DATA FOLDER IS IN YOUR DRIVE \n",
        "\n",
        "con_df1 = pd.read_csv(os.path.join(data_path,\"01_controversial.csv\"))\n",
        "hot_df1 = pd.read_csv(os.path.join(data_path,\"01_hot.csv\"))\n",
        "new_df1 = pd.read_csv(os.path.join(data_path,\"01_new.csv\"))\n",
        "rising_df1 = pd.read_csv(os.path.join(data_path,\"01_rising.csv\"))\n",
        "top_df1 = pd.read_csv(os.path.join(data_path,\"01_top.csv\"))\n",
        "\n",
        "con_df2 = pd.read_csv(os.path.join(data_path,\"02_controversial.csv\"))\n",
        "hot_df2 = pd.read_csv(os.path.join(data_path,\"02_hot.csv\"))\n",
        "new_df2 = pd.read_csv(os.path.join(data_path,\"02_new.csv\"))\n",
        "rising_df2 = pd.read_csv(os.path.join(data_path,\"02_rising.csv\"))\n",
        "top_df2 = pd.read_csv(os.path.join(data_path,\"02_top.csv\"))\n",
        "\n",
        "con_df3 = pd.read_csv(os.path.join(data_path,\"03_controversial.csv\"))\n",
        "hot_df3 = pd.read_csv(os.path.join(data_path,\"03_hot.csv\"))\n",
        "new_df3 = pd.read_csv(os.path.join(data_path,\"03_new.csv\"))\n",
        "rising_df3 = pd.read_csv(os.path.join(data_path,\"03_rising.csv\"))\n",
        "top_df3 = pd.read_csv(os.path.join(data_path,\"03_top.csv\"))"
      ],
      "execution_count": 0,
      "outputs": []
    },
    {
      "cell_type": "code",
      "metadata": {
        "id": "VaQlgeR02vT1",
        "colab_type": "code",
        "colab": {}
      },
      "source": [
        "# add year variable\n",
        "con_df1['year'] = con_df1['date'].astype(str).str[:4]\n",
        "hot_df1['year'] = hot_df1['date'].astype(str).str[:4]\n",
        "new_df1['year'] = new_df1['date'].astype(str).str[:4]\n",
        "rising_df1['year'] = rising_df1['date'].astype(str).str[:4]\n",
        "top_df1['year'] = top_df1['date'].astype(str).str[:4]\n",
        "\n",
        "con_df2['year'] = con_df2['date'].astype(str).str[:4]\n",
        "hot_df2['year'] = hot_df2['date'].astype(str).str[:4]\n",
        "new_df2['year'] = new_df2['date'].astype(str).str[:4]\n",
        "rising_df2['year'] = rising_df2['date'].astype(str).str[:4]\n",
        "top_df2['year'] = top_df2['date'].astype(str).str[:4]\n",
        "\n",
        "con_df3['year'] = con_df3['date'].astype(str).str[:4]\n",
        "hot_df3['year'] = hot_df3['date'].astype(str).str[:4]\n",
        "new_df3['year'] = new_df3['date'].astype(str).str[:4]\n",
        "rising_df3['year'] = rising_df3['date'].astype(str).str[:4]\n",
        "top_df3['year'] = top_df3['date'].astype(str).str[:4]"
      ],
      "execution_count": 0,
      "outputs": []
    },
    {
      "cell_type": "code",
      "metadata": {
        "id": "zJnr4kShk8n_",
        "colab_type": "code",
        "colab": {}
      },
      "source": [
        "# change variable type for dates and reorder \n",
        "top_df1['date'] = pd.to_datetime(top_df1['date'])\n",
        "top_df1 = top_df1.sort_values(by='date')\n",
        "\n",
        "top_df2['date'] = pd.to_datetime(top_df2['date'])\n",
        "top_df2 = top_df2.sort_values(by='date')\n",
        "\n",
        "top_df3['date'] = pd.to_datetime(top_df3['date'])\n",
        "top_df3 = top_df3.sort_values(by='date')\n",
        "\n",
        "con_df1['date'] = pd.to_datetime(con_df1['date'])\n",
        "con_df1 = con_df1.sort_values(by='date')\n",
        "\n",
        "con_df2['date'] = pd.to_datetime(con_df2['date'])\n",
        "con_df2 = con_df2.sort_values(by='date')\n",
        "\n",
        "con_df3['date'] = pd.to_datetime(con_df3['date'])\n",
        "con_df3 = con_df3.sort_values(by='date')"
      ],
      "execution_count": 0,
      "outputs": []
    },
    {
      "cell_type": "code",
      "metadata": {
        "id": "YgOxL2qB5bth",
        "colab_type": "code",
        "colab": {}
      },
      "source": [
        "# set indices for plotting ts graphs \n",
        "top_df1 = top_df1.set_index(['date']) \n",
        "top_df2 = top_df2.set_index(['date']) \n",
        "top_df3 = top_df3.set_index(['date'])\n",
        "\n",
        "con_df1 = con_df1.set_index(['date']) \n",
        "con_df2 = con_df2.set_index(['date']) \n",
        "con_df3 = con_df3.set_index(['date'])"
      ],
      "execution_count": 0,
      "outputs": []
    },
    {
      "cell_type": "code",
      "metadata": {
        "id": "7VSJGc5bPFvk",
        "colab_type": "code",
        "colab": {}
      },
      "source": [
        "# Initialization step for authenticating plotly account with chart-studio \n",
        "# To get API key, go to: https://plot.ly/settings/api\n",
        "chart_studio.tools.set_credentials_file(username='allisonkoh',                                              \n",
        "                                  api_key='3sIkFG51qFTXbqi8Zm8u')"
      ],
      "execution_count": 0,
      "outputs": []
    },
    {
      "cell_type": "markdown",
      "metadata": {
        "id": "fRpC1s5Agob6",
        "colab_type": "text"
      },
      "source": [
        "# Visualization"
      ]
    },
    {
      "cell_type": "markdown",
      "metadata": {
        "id": "OUPmBVqNPLix",
        "colab_type": "text"
      },
      "source": [
        "## Scores and Number of Comments over Time"
      ]
    },
    {
      "cell_type": "markdown",
      "metadata": {
        "id": "vgnUAZboQFw5",
        "colab_type": "text"
      },
      "source": [
        "We can learn a lot from looking at the scores (difference betwen upvotes and downvotes) and number of post comments per month. These interactive charts that are a crucial part of exploratory data analysis then lead us to identify spikes in activity and observe activity around certain key dates related to the Incel movement. \n",
        "\n",
        "To guide possible questions, we plan on offering options to plot multiple lines in one graph (one per Subreddit/category) and include the option of highlighting key events relevant to Incel activity. "
      ]
    },
    {
      "cell_type": "code",
      "metadata": {
        "id": "5tdo4UPUiDel",
        "colab_type": "code",
        "outputId": "77f9da13-305f-439b-ffd2-4118fc515271",
        "colab": {
          "base_uri": "https://localhost:8080/",
          "height": 546
        }
      },
      "source": [
        "# Write series code \n",
        "score_series = top_df1.loc[:,('comms_num')]\n",
        "# score_series.plot(figsize=(10,8));\n",
        "\n",
        "# Set x and y \n",
        "score_series = go.Scatter(x=score_series.index,\n",
        "                         y=score_series.values)\n",
        "\n",
        "# Set layout \n",
        "layout = go.Layout(title='`r/TheRedPill`: Number of comments among top 100 posts', xaxis=dict(title='Date'),\n",
        "                   yaxis=dict(title='# Comments'))\n",
        "\n",
        "# Plot\n",
        "fig = go.Figure(data=[score_series], layout=layout)\n",
        "py.iplot(fig, sharing='public')"
      ],
      "execution_count": 0,
      "outputs": [
        {
          "output_type": "execute_result",
          "data": {
            "text/html": [
              "\n",
              "        <iframe\n",
              "            width=\"100%\"\n",
              "            height=\"525px\"\n",
              "            src=\"https://plotly.com/~TURING423/187.embed\"\n",
              "            frameborder=\"0\"\n",
              "            allowfullscreen\n",
              "        ></iframe>\n",
              "        "
            ],
            "text/plain": [
              "<IPython.lib.display.IFrame at 0x7fcbebcdada0>"
            ]
          },
          "metadata": {
            "tags": []
          },
          "execution_count": 30
        }
      ]
    },
    {
      "cell_type": "code",
      "metadata": {
        "id": "vBYKIyPFaioA",
        "colab_type": "code",
        "outputId": "1034fae7-e2bb-4592-b5ad-f5f0894bb713",
        "colab": {
          "base_uri": "https://localhost:8080/",
          "height": 546
        }
      },
      "source": [
        "# Write series code \n",
        "score_series = top_df1.loc[:,('score')]\n",
        "# score_series.plot(figsize=(10,8));\n",
        "\n",
        "# Set x and y \n",
        "score_series  = go.Scatter(x=score_series.index,\n",
        "                         y=score_series.values)\n",
        "\n",
        "# Set layout \n",
        "layout = go.Layout(title='`r/TheRedPill`: Score Among top 100 posts', xaxis=dict(title='Date'),\n",
        "                   yaxis=dict(title='Score'))\n",
        "\n",
        "# Plot\n",
        "fig = go.Figure(data=[score_series], layout=layout)\n",
        "py.iplot(fig, sharing='public')"
      ],
      "execution_count": 0,
      "outputs": [
        {
          "output_type": "execute_result",
          "data": {
            "text/html": [
              "\n",
              "        <iframe\n",
              "            width=\"100%\"\n",
              "            height=\"525px\"\n",
              "            src=\"https://plotly.com/~TURING423/189.embed\"\n",
              "            frameborder=\"0\"\n",
              "            allowfullscreen\n",
              "        ></iframe>\n",
              "        "
            ],
            "text/plain": [
              "<IPython.lib.display.IFrame at 0x7fcbebb13f98>"
            ]
          },
          "metadata": {
            "tags": []
          },
          "execution_count": 31
        }
      ]
    },
    {
      "cell_type": "code",
      "metadata": {
        "id": "r1nJIV_VwFGn",
        "colab_type": "code",
        "outputId": "e9253570-e895-4cad-9af6-59d23e53843f",
        "colab": {
          "base_uri": "https://localhost:8080/",
          "height": 546
        }
      },
      "source": [
        "# Write series code \n",
        "score_series = con_df1.loc[:,('comms_num')]\n",
        "# score_series.plot(figsize=(10,8));\n",
        "\n",
        "# Set x and y \n",
        "score_series = go.Scatter(x=score_series.index,\n",
        "                         y=score_series.values)\n",
        "\n",
        "# Set layout \n",
        "layout = go.Layout(title='`r/TheRedPill`: Number of Comments among 100 most controversial posts', xaxis=dict(title='Date'),\n",
        "                   yaxis=dict(title='# Comments'))\n",
        "\n",
        "# Plot\n",
        "fig = go.Figure(data=[score_series], layout=layout)\n",
        "py.iplot(fig, sharing='public')"
      ],
      "execution_count": 0,
      "outputs": [
        {
          "output_type": "execute_result",
          "data": {
            "text/html": [
              "\n",
              "        <iframe\n",
              "            width=\"100%\"\n",
              "            height=\"525px\"\n",
              "            src=\"https://plotly.com/~TURING423/191.embed\"\n",
              "            frameborder=\"0\"\n",
              "            allowfullscreen\n",
              "        ></iframe>\n",
              "        "
            ],
            "text/plain": [
              "<IPython.lib.display.IFrame at 0x7fcbea9baf28>"
            ]
          },
          "metadata": {
            "tags": []
          },
          "execution_count": 32
        }
      ]
    },
    {
      "cell_type": "code",
      "metadata": {
        "id": "aGQf7xOk9hEa",
        "colab_type": "code",
        "outputId": "e81d22cf-e96b-43b3-9985-e218c054b05f",
        "colab": {
          "base_uri": "https://localhost:8080/",
          "height": 546
        }
      },
      "source": [
        "# Write series code \n",
        "score_series = con_df1.loc[:,('score')]\n",
        "#score_series.plot(figsize=(10,8));\n",
        "\n",
        "# Set x and y \n",
        "score_series  = go.Scatter(x=score_series.index,\n",
        "                         y=score_series.values)\n",
        "\n",
        "# Set layout \n",
        "layout = go.Layout(title='`r/TheRedPill`: Score among 100 most controversial posts', xaxis=dict(title='Date'),\n",
        "                   yaxis=dict(title='Score'))\n",
        "\n",
        "# Plot\n",
        "fig = go.Figure(data=[score_series], layout=layout)\n",
        "py.iplot(fig, sharing='public')"
      ],
      "execution_count": 0,
      "outputs": [
        {
          "output_type": "execute_result",
          "data": {
            "text/html": [
              "\n",
              "        <iframe\n",
              "            width=\"100%\"\n",
              "            height=\"525px\"\n",
              "            src=\"https://plotly.com/~TURING423/183.embed\"\n",
              "            frameborder=\"0\"\n",
              "            allowfullscreen\n",
              "        ></iframe>\n",
              "        "
            ],
            "text/plain": [
              "<IPython.lib.display.IFrame at 0x7f2924fd04a8>"
            ]
          },
          "metadata": {
            "tags": []
          },
          "execution_count": 32
        }
      ]
    },
    {
      "cell_type": "code",
      "metadata": {
        "id": "et1jAtlP97t8",
        "colab_type": "code",
        "outputId": "1fc6c52a-47a6-42f4-889b-d7aafffaf1e7",
        "colab": {
          "base_uri": "https://localhost:8080/",
          "height": 546
        }
      },
      "source": [
        "# Write series code \n",
        "score_series = top_df2.loc[:,(\"comms_num\")]\n",
        "#score_series.plot(figsize=(10,8));\n",
        "\n",
        "# Set x and y \n",
        "score_series  = go.Scatter(x=score_series.index,\n",
        "                         y=score_series.values)\n",
        "\n",
        "# Set layout \n",
        "layout = go.Layout(title='`r/MGTOW`: Number of comments among top 100 posts', xaxis=dict(title='Date'),\n",
        "                   yaxis=dict(title='# Comments'))\n",
        "\n",
        "# Plot\n",
        "fig = go.Figure(data=[score_series], layout=layout)\n",
        "py.iplot(fig, sharing='public')"
      ],
      "execution_count": 0,
      "outputs": [
        {
          "output_type": "execute_result",
          "data": {
            "text/html": [
              "\n",
              "        <iframe\n",
              "            width=\"100%\"\n",
              "            height=\"525px\"\n",
              "            src=\"https://plotly.com/~TURING423/193.embed\"\n",
              "            frameborder=\"0\"\n",
              "            allowfullscreen\n",
              "        ></iframe>\n",
              "        "
            ],
            "text/plain": [
              "<IPython.lib.display.IFrame at 0x7fcbeb487d68>"
            ]
          },
          "metadata": {
            "tags": []
          },
          "execution_count": 33
        }
      ]
    },
    {
      "cell_type": "code",
      "metadata": {
        "id": "7OBZbHcuAqX6",
        "colab_type": "code",
        "outputId": "10ceeceb-2293-4c7e-c8e0-dc4ee788466d",
        "colab": {
          "base_uri": "https://localhost:8080/",
          "height": 546
        }
      },
      "source": [
        "# Write series code \n",
        "score_series = top_df2.loc[:,(\"ups\")]\n",
        "#score_series.plot(figsize=(10,8));\n",
        "\n",
        "# Set x and y \n",
        "score_series  = go.Scatter(x=score_series.index,\n",
        "                         y=score_series.values)\n",
        "\n",
        "# Set layout \n",
        "layout = go.Layout(title='`r/MGTOW`: Number of upvotes among top 100 posts', xaxis=dict(title='Date'),\n",
        "                   yaxis=dict(title='(no. upvotes)'))\n",
        "\n",
        "# Plot\n",
        "fig = go.Figure(data=[score_series], layout=layout)\n",
        "py.iplot(fig, sharing='public')"
      ],
      "execution_count": 0,
      "outputs": [
        {
          "output_type": "execute_result",
          "data": {
            "text/html": [
              "\n",
              "        <iframe\n",
              "            width=\"100%\"\n",
              "            height=\"525px\"\n",
              "            src=\"https://plotly.com/~TURING423/195.embed\"\n",
              "            frameborder=\"0\"\n",
              "            allowfullscreen\n",
              "        ></iframe>\n",
              "        "
            ],
            "text/plain": [
              "<IPython.lib.display.IFrame at 0x7fcbeb45cd30>"
            ]
          },
          "metadata": {
            "tags": []
          },
          "execution_count": 34
        }
      ]
    },
    {
      "cell_type": "code",
      "metadata": {
        "id": "bntXZQB1A7lL",
        "colab_type": "code",
        "outputId": "f99895fe-4739-4b8a-8d3a-09b5ab4efc91",
        "colab": {
          "base_uri": "https://localhost:8080/",
          "height": 546
        }
      },
      "source": [
        "# Write series code \n",
        "score_series = con_df2.loc[:,(\"comms_num\")]\n",
        "#score_series.plot(figsize=(10,8));\n",
        "\n",
        "# Set x and y \n",
        "score_series  = go.Scatter(x=score_series.index,\n",
        "                         y=score_series.values)\n",
        "\n",
        "# Set layout \n",
        "layout = go.Layout(title='`r/MGTOW`: Number of comments among most controversial 100 posts', xaxis=dict(title='Date'),\n",
        "                   yaxis=dict(title='(no. Comments )'))\n",
        "\n",
        "# Plot\n",
        "fig = go.Figure(data=[score_series], layout=layout)\n",
        "py.iplot(fig, sharing='public')"
      ],
      "execution_count": 0,
      "outputs": [
        {
          "output_type": "execute_result",
          "data": {
            "text/html": [
              "\n",
              "        <iframe\n",
              "            width=\"100%\"\n",
              "            height=\"525px\"\n",
              "            src=\"https://plotly.com/~TURING423/197.embed\"\n",
              "            frameborder=\"0\"\n",
              "            allowfullscreen\n",
              "        ></iframe>\n",
              "        "
            ],
            "text/plain": [
              "<IPython.lib.display.IFrame at 0x7fcbecb84f28>"
            ]
          },
          "metadata": {
            "tags": []
          },
          "execution_count": 35
        }
      ]
    },
    {
      "cell_type": "code",
      "metadata": {
        "id": "gRY5otNICGvE",
        "colab_type": "code",
        "outputId": "600e626c-251c-4d76-b519-b6aaee9f9419",
        "colab": {
          "base_uri": "https://localhost:8080/",
          "height": 546
        }
      },
      "source": [
        "# Write series code \n",
        "score_series = con_df2.loc[:,(\"score\")]\n",
        "#score_series.plot(figsize=(10,8));\n",
        "\n",
        "# Set x and y \n",
        "score_series  = go.Scatter(x=score_series.index,\n",
        "                         y=score_series.values)\n",
        "\n",
        "# Set layout \n",
        "layout = go.Layout(title='`r/MGTOW`: Score among most controversial 100 posts', xaxis=dict(title='Date'),\n",
        "                   yaxis=dict(title='(score)'))\n",
        "\n",
        "# Plot\n",
        "fig = go.Figure(data=[score_series], layout=layout)\n",
        "py.iplot(fig, sharing='public')"
      ],
      "execution_count": 0,
      "outputs": [
        {
          "output_type": "execute_result",
          "data": {
            "text/html": [
              "\n",
              "        <iframe\n",
              "            width=\"100%\"\n",
              "            height=\"525px\"\n",
              "            src=\"https://plotly.com/~TURING423/199.embed\"\n",
              "            frameborder=\"0\"\n",
              "            allowfullscreen\n",
              "        ></iframe>\n",
              "        "
            ],
            "text/plain": [
              "<IPython.lib.display.IFrame at 0x7fcbea659ef0>"
            ]
          },
          "metadata": {
            "tags": []
          },
          "execution_count": 36
        }
      ]
    },
    {
      "cell_type": "code",
      "metadata": {
        "id": "N-mksvOnaF-G",
        "colab_type": "code",
        "outputId": "52774d9a-8e23-4b9c-b679-3dc638c85aee",
        "colab": {
          "base_uri": "https://localhost:8080/",
          "height": 546
        }
      },
      "source": [
        "# Write series code \n",
        "score_series = top_df3.loc[:,(\"comms_num\")]\n",
        "#score_series.plot(figsize=(10,8));\n",
        "\n",
        "# Set x and y \n",
        "score_series  = go.Scatter(x=score_series.index,\n",
        "                         y=score_series.values)\n",
        "\n",
        "# Set layout \n",
        "layout = go.Layout(title='`r/MensRights`: Number of Comments among top 100 posts', xaxis=dict(title='Date'),\n",
        "                   yaxis=dict(title='# Comments'))\n",
        "\n",
        "# Plot\n",
        "fig = go.Figure(data=[score_series], layout=layout)\n",
        "py.iplot(fig, sharing='public')"
      ],
      "execution_count": 8,
      "outputs": [
        {
          "output_type": "execute_result",
          "data": {
            "text/html": [
              "\n",
              "        <iframe\n",
              "            width=\"100%\"\n",
              "            height=\"525px\"\n",
              "            src=\"https://plotly.com/~allisonkoh/1.embed\"\n",
              "            frameborder=\"0\"\n",
              "            allowfullscreen\n",
              "        ></iframe>\n",
              "        "
            ],
            "text/plain": [
              "<IPython.lib.display.IFrame at 0x7f16da687518>"
            ]
          },
          "metadata": {
            "tags": []
          },
          "execution_count": 8
        }
      ]
    },
    {
      "cell_type": "code",
      "metadata": {
        "id": "jHHXwy8OZOrb",
        "colab_type": "code",
        "colab": {
          "base_uri": "https://localhost:8080/",
          "height": 546
        },
        "outputId": "d5fd314f-d841-423c-87ee-eb59eea52314"
      },
      "source": [
        "# Write series code \n",
        "score_series = top_df3.loc[:,(\"score\")]\n",
        "#score_series.plot(figsize=(10,8));\n",
        "\n",
        "# Set x and y \n",
        "score_series  = go.Scatter(x=score_series.index,\n",
        "                         y=score_series.values)\n",
        "\n",
        "# Set layout \n",
        "layout = go.Layout(title='`r/MensRights`: Score among top 100 posts', xaxis=dict(title='Date'),\n",
        "                   yaxis=dict(title='(score)'))\n",
        "\n",
        "# Plot\n",
        "fig = go.Figure(data=[score_series], layout=layout)\n",
        "py.iplot(fig, sharing='public')"
      ],
      "execution_count": 9,
      "outputs": [
        {
          "output_type": "execute_result",
          "data": {
            "text/html": [
              "\n",
              "        <iframe\n",
              "            width=\"100%\"\n",
              "            height=\"525px\"\n",
              "            src=\"https://plotly.com/~allisonkoh/3.embed\"\n",
              "            frameborder=\"0\"\n",
              "            allowfullscreen\n",
              "        ></iframe>\n",
              "        "
            ],
            "text/plain": [
              "<IPython.lib.display.IFrame at 0x7f16d9bad7f0>"
            ]
          },
          "metadata": {
            "tags": []
          },
          "execution_count": 9
        }
      ]
    },
    {
      "cell_type": "code",
      "metadata": {
        "id": "dhwv6J7QbiW8",
        "colab_type": "code",
        "colab": {
          "base_uri": "https://localhost:8080/",
          "height": 546
        },
        "outputId": "7495484a-fefb-4e7d-d039-e6848cfc377a"
      },
      "source": [
        "# Write series code \n",
        "score_series = con_df3.loc[:,(\"comms_num\")]\n",
        "#score_series.plot(figsize=(10,8));\n",
        "\n",
        "# Set x and y \n",
        "score_series  = go.Scatter(x=score_series.index,\n",
        "                         y=score_series.values)\n",
        "\n",
        "# Set layout \n",
        "layout = go.Layout(title='`r/MensRights`: Number of comments among 100 most controversial posts', xaxis=dict(title='Date'),\n",
        "                   yaxis=dict(title='(no. Comments )'))\n",
        "\n",
        "# Plot\n",
        "fig = go.Figure(data=[score_series], layout=layout)\n",
        "py.iplot(fig, sharing='public')"
      ],
      "execution_count": 10,
      "outputs": [
        {
          "output_type": "execute_result",
          "data": {
            "text/html": [
              "\n",
              "        <iframe\n",
              "            width=\"100%\"\n",
              "            height=\"525px\"\n",
              "            src=\"https://plotly.com/~allisonkoh/5.embed\"\n",
              "            frameborder=\"0\"\n",
              "            allowfullscreen\n",
              "        ></iframe>\n",
              "        "
            ],
            "text/plain": [
              "<IPython.lib.display.IFrame at 0x7f16da7317b8>"
            ]
          },
          "metadata": {
            "tags": []
          },
          "execution_count": 10
        }
      ]
    },
    {
      "cell_type": "code",
      "metadata": {
        "id": "jrIO1A86Z63g",
        "colab_type": "code",
        "colab": {
          "base_uri": "https://localhost:8080/",
          "height": 546
        },
        "outputId": "2f1a0c56-69e3-4393-83e5-0997ee8ef489"
      },
      "source": [
        "# Write series code \n",
        "score_series = con_df3.loc[:,(\"score\")]\n",
        "#score_series.plot(figsize=(10,8));\n",
        "\n",
        "# Set x and y \n",
        "score_series  = go.Scatter(x=score_series.index,\n",
        "                         y=score_series.values)\n",
        "\n",
        "# Set layout \n",
        "layout = go.Layout(title='`r/MensRights`: Score among 100 most controversial posts', xaxis=dict(title='Date'),\n",
        "                   yaxis=dict(title='(score )'))\n",
        "\n",
        "# Plot\n",
        "fig = go.Figure(data=[score_series], layout=layout)\n",
        "py.iplot(fig, sharing='public')"
      ],
      "execution_count": 11,
      "outputs": [
        {
          "output_type": "execute_result",
          "data": {
            "text/html": [
              "\n",
              "        <iframe\n",
              "            width=\"100%\"\n",
              "            height=\"525px\"\n",
              "            src=\"https://plotly.com/~allisonkoh/7.embed\"\n",
              "            frameborder=\"0\"\n",
              "            allowfullscreen\n",
              "        ></iframe>\n",
              "        "
            ],
            "text/plain": [
              "<IPython.lib.display.IFrame at 0x7f16db4b6a58>"
            ]
          },
          "metadata": {
            "tags": []
          },
          "execution_count": 11
        }
      ]
    },
    {
      "cell_type": "markdown",
      "metadata": {
        "id": "tU4YME-dvcKk",
        "colab_type": "text"
      },
      "source": [
        "# Basic Topic Models"
      ]
    },
    {
      "cell_type": "markdown",
      "metadata": {
        "id": "MD3lfyWgTYLP",
        "colab_type": "text"
      },
      "source": [
        "At this stage of the project, interactive visualizations of basic topic models remains a work in progress. As offering unstructured text in its original form would violate best practices with regards to ethics, topic models offer insight on trends within the text data from the title and body of extracted posts."
      ]
    },
    {
      "cell_type": "code",
      "metadata": {
        "id": "jA0YpylI7d9M",
        "colab_type": "code",
        "outputId": "b0829834-47b5-4716-b68c-a19413f61de3",
        "colab": {
          "base_uri": "https://localhost:8080/",
          "height": 115
        }
      },
      "source": [
        "# load regex library \n",
        "import re \n",
        "\n",
        "# remove punct \n",
        "con_df1['title_processed'] = con_df1['title'].map(lambda x: re.sub('[,\\.!?]', '', x))\n",
        "\n",
        "# convert titles to lowercase \n",
        "con_df1['title_processed'] = con_df1['title_processed'].map(lambda x: x.lower())\n",
        "\n",
        "# print out first rows \n",
        "con_df1['title_processed'].head()"
      ],
      "execution_count": 14,
      "outputs": [
        {
          "output_type": "execute_result",
          "data": {
            "text/plain": [
              "0               the ultimate red pill university guide\n",
              "1    [psa] mad max: is a ‘feminist action film’ - d...\n",
              "2    met girl in court used 2nd language fuck 15hrs...\n",
              "3    so you're new to the red pill & think that we ...\n",
              "4       don't do these 9 things in your next interview\n",
              "Name: title_processed, dtype: object"
            ]
          },
          "metadata": {
            "tags": []
          },
          "execution_count": 14
        }
      ]
    },
    {
      "cell_type": "code",
      "metadata": {
        "id": "14-uB2RQver_",
        "colab_type": "code",
        "outputId": "80d74c5e-e68a-4945-a1a3-1b5cdf7974d1",
        "colab": {
          "base_uri": "https://localhost:8080/",
          "height": 217
        }
      },
      "source": [
        "# exploratory analysis \n",
        "from wordcloud import WordCloud\n",
        "\n",
        "# Join the different processed titles together.\n",
        "long_string = ','.join(list(con_df1['title_processed'].values))\n",
        "\n",
        "# Create a WordCloud object\n",
        "wordcloud = WordCloud(background_color=\"white\", max_words=1000, contour_width=3, contour_color='steelblue')\n",
        "\n",
        "# Generate a word cloud\n",
        "wordcloud.generate(long_string)\n",
        "\n",
        "# Visualize the word cloud\n",
        "wordcloud.to_image()"
      ],
      "execution_count": 15,
      "outputs": [
        {
          "output_type": "execute_result",
          "data": {
            "image/png": "[encoded data removed]",
            "text/plain": [
              "<PIL.Image.Image image mode=RGB size=400x200 at 0x7F16DA803F60>"
            ]
          },
          "metadata": {
            "tags": []
          },
          "execution_count": 15
        }
      ]
    },
    {
      "cell_type": "code",
      "metadata": {
        "id": "4XDSV5pyvpx3",
        "colab_type": "code",
        "outputId": "079aba53-17c0-40fe-869e-ccc8dc4273a2",
        "colab": {
          "base_uri": "https://localhost:8080/",
          "height": 612
        }
      },
      "source": [
        "# prepare text for lda \n",
        "from sklearn.feature_extraction.text import CountVectorizer\n",
        "import numpy as np\n",
        "\n",
        "import matplotlib.pyplot as plt\n",
        "import seaborn as sns\n",
        "sns.set_style('whitegrid')\n",
        "%matplotlib inline\n",
        "\n",
        "# Helper function\n",
        "def plot_10_most_common_words(count_data, count_vectorizer):\n",
        "    import matplotlib.pyplot as plt\n",
        "    words = count_vectorizer.get_feature_names()\n",
        "    total_counts = np.zeros(len(words))\n",
        "    for t in count_data:\n",
        "        total_counts+=t.toarray()[0]\n",
        "    \n",
        "    count_dict = (zip(words, total_counts))\n",
        "    count_dict = sorted(count_dict, key=lambda x:x[1], reverse=True)[0:10]\n",
        "    words = [w[0] for w in count_dict]\n",
        "    counts = [w[1] for w in count_dict]\n",
        "    x_pos = np.arange(len(words)) \n",
        "    \n",
        "    plt.figure(2, figsize=(15, 15/1.6180))\n",
        "    plt.subplot(title='10 most common words')\n",
        "    sns.set_context(\"notebook\", font_scale=1.25, rc={\"lines.linewidth\": 2.5})\n",
        "    sns.barplot(x_pos, counts, palette='husl')\n",
        "    plt.xticks(x_pos, words, rotation=90) \n",
        "    plt.xlabel('words')\n",
        "    plt.ylabel('counts')\n",
        "    plt.show()\n",
        "\n",
        "# Initialise the count vectorizer with the English stop words\n",
        "count_vectorizer = CountVectorizer(stop_words='english')\n",
        "\n",
        "# Fit and transform the processed titles\n",
        "count_data = count_vectorizer.fit_transform(con_df1['title_processed'])\n",
        "\n",
        "# Visualise the 10 most common words\n",
        "plot_10_most_common_words(count_data, count_vectorizer)"
      ],
      "execution_count": 16,
      "outputs": [
        {
          "output_type": "display_data",
          "data": {
            "image/png": "[encoded data removed]",
            "text/plain": [
              "<Figure size 1080x667.491 with 1 Axes>"
            ]
          },
          "metadata": {
            "tags": []
          }
        }
      ]
    },
    {
      "cell_type": "code",
      "metadata": {
        "id": "JikfvfamCZBq",
        "colab_type": "code",
        "colab": {}
      },
      "source": [
        "import matplotlib.pyplot as plt\n",
        "%matplotlib inline\n",
        "\n",
        "from sklearn.preprocessing import StandardScaler\n",
        "from sklearn.cluster import KMeans\n",
        "from sklearn.feature_extraction.text import CountVectorizer"
      ],
      "execution_count": 0,
      "outputs": []
    },
    {
      "cell_type": "code",
      "metadata": {
        "id": "Vydqb6gjDRp6",
        "colab_type": "code",
        "colab": {}
      },
      "source": [
        "imUsingColab = False\n",
        "\n",
        "if imUsingColab:\n",
        "    !pip install gensim\n",
        "    !pip install pyLDAvis\n",
        "    !pip install vega\n",
        "    !pip install altair"
      ],
      "execution_count": 0,
      "outputs": []
    },
    {
      "cell_type": "code",
      "metadata": {
        "id": "OFq-XTMeDAi6",
        "colab_type": "code",
        "colab": {}
      },
      "source": [
        "#!pip install pyLDAvis\n",
        "from gensim import corpora\n",
        "from gensim.models.ldamodel import LdaModel\n",
        "\n",
        "import pyLDAvis.gensim"
      ],
      "execution_count": 0,
      "outputs": []
    },
    {
      "cell_type": "code",
      "metadata": {
        "id": "slQIno_tDLtE",
        "colab_type": "code",
        "colab": {}
      },
      "source": [
        "import warnings\n",
        "warnings.simplefilter(action='ignore', category=FutureWarning)\n",
        "warnings.simplefilter(action='ignore', category=DeprecationWarning)\n",
        "pd.options.mode.chained_assignment = None \n",
        "\n",
        "random_state = 20181126"
      ],
      "execution_count": 0,
      "outputs": []
    },
    {
      "cell_type": "code",
      "metadata": {
        "id": "07WHm9aHEZTJ",
        "colab_type": "code",
        "colab": {}
      },
      "source": [
        "cluster_vars = ['score','comms_num']\n",
        "con_df1 = con_df1.dropna(subset=cluster_vars+['title'])"
      ],
      "execution_count": 0,
      "outputs": []
    },
    {
      "cell_type": "code",
      "metadata": {
        "id": "NE0XRMtUDUY2",
        "colab_type": "code",
        "colab": {}
      },
      "source": [
        "samp_df = con_df1\n",
        "titles = {samp_df.title.loc[i] : i for i in samp_df.index.values}"
      ],
      "execution_count": 0,
      "outputs": []
    },
    {
      "cell_type": "code",
      "metadata": {
        "id": "qEBXZwSfDr0J",
        "colab_type": "code",
        "colab": {}
      },
      "source": [
        "scaler = StandardScaler()\n",
        "scaler.fit(samp_df[cluster_vars].astype(float))\n",
        "X = pd.DataFrame(scaler.transform(samp_df[cluster_vars].astype(float)), columns=cluster_vars)"
      ],
      "execution_count": 0,
      "outputs": []
    },
    {
      "cell_type": "code",
      "metadata": {
        "id": "OEdx9aPPDuOB",
        "colab_type": "code",
        "colab": {}
      },
      "source": [
        "kmeans = KMeans(n_clusters=5, \n",
        "                random_state=random_state)\n",
        "kmeans.fit(X)\n",
        "y_kmeans = kmeans.predict(X)\n",
        "samp_df['cluster'] = (y_kmeans+1).astype(str)\n"
      ],
      "execution_count": 0,
      "outputs": []
    },
    {
      "cell_type": "code",
      "metadata": {
        "id": "_0OaEGfzEf1D",
        "colab_type": "code",
        "outputId": "b4881a5a-cc13-40be-e7ff-33769d3cf339",
        "colab": {
          "base_uri": "https://localhost:8080/",
          "height": 50
        }
      },
      "source": [
        "vectorizer = CountVectorizer(\n",
        "                             max_features=1000,\n",
        "                             stop_words='english'\n",
        "                            )\n",
        "\n",
        "X_text = pd.DataFrame((vectorizer.fit_transform(con_df1.title_processed)>0).toarray())\n",
        "all_words = vectorizer.get_feature_names()\n",
        "d = {i : all_words[i] for i in range(len(all_words))}\n",
        "\n",
        "tokens = [[d[j] for j in X_text.columns[X_text.loc[i]].tolist()] for i in range(X_text.shape[0])]\n",
        "\n",
        "print(np.random.choice(tokens, 2))"
      ],
      "execution_count": 55,
      "outputs": [
        {
          "output_type": "stream",
          "text": [
            "[list(['cats', 'flag', 'outdoor', 'red'])\n",
            " list(['crisis', 'european', 'migrant', 'trp'])]\n"
          ],
          "name": "stdout"
        }
      ]
    },
    {
      "cell_type": "code",
      "metadata": {
        "id": "EwkjG13LE5Lv",
        "colab_type": "code",
        "colab": {}
      },
      "source": [
        "dictionary = corpora.Dictionary(tokens)\n",
        "corpus = [dictionary.doc2bow(text) for text in tokens]"
      ],
      "execution_count": 0,
      "outputs": []
    },
    {
      "cell_type": "code",
      "metadata": {
        "id": "aXYztnVaE_zi",
        "colab_type": "code",
        "outputId": "49b78267-05b1-4fd3-88dc-772fdf1398c8",
        "colab": {
          "base_uri": "https://localhost:8080/",
          "height": 180
        }
      },
      "source": [
        "ldamodel = LdaModel(corpus, num_topics=10, id2word=dictionary, passes=30, random_state=random_state)\n",
        "topics = ldamodel.print_topics(num_words=6)\n",
        "for topic in topics:\n",
        "    print(topic)"
      ],
      "execution_count": 53,
      "outputs": [
        {
          "output_type": "stream",
          "text": [
            "(0, '0.020*\"red\" + 0.020*\"single\" + 0.010*\"good\" + 0.010*\"new\" + 0.010*\"read\" + 0.010*\"isn\"')\n",
            "(1, '0.024*\"women\" + 0.024*\"fuck\" + 0.013*\"thing\" + 0.013*\"family\" + 0.013*\"happen\" + 0.013*\"dating\"')\n",
            "(2, '0.021*\"rp\" + 0.011*\"men\" + 0.011*\"girl\" + 0.011*\"feminist\" + 0.011*\"don\" + 0.011*\"like\"')\n",
            "(3, '0.020*\"post\" + 0.020*\"subreddit\" + 0.011*\"men\" + 0.011*\"female\" + 0.011*\"real\" + 0.011*\"anybody\"')\n",
            "(4, '0.028*\"don\" + 0.019*\"sex\" + 0.010*\"best\" + 0.010*\"trp\" + 0.010*\"right\" + 0.010*\"using\"')\n",
            "(5, '0.015*\"guys\" + 0.015*\"girls\" + 0.015*\"want\" + 0.008*\"make\" + 0.008*\"men\" + 0.008*\"wife\"')\n",
            "(6, '0.019*\"man\" + 0.019*\"woman\" + 0.019*\"pussy\" + 0.010*\"women\" + 0.010*\"fr\" + 0.010*\"girl\"')\n",
            "(7, '0.035*\"women\" + 0.029*\"pill\" + 0.023*\"red\" + 0.018*\"feminist\" + 0.012*\"fuck\" + 0.012*\"interview\"')\n",
            "(8, '0.026*\"women\" + 0.018*\"girls\" + 0.018*\"allowed\" + 0.018*\"vote\" + 0.009*\"things\" + 0.009*\"wife\"')\n",
            "(9, '0.021*\"don\" + 0.021*\"women\" + 0.021*\"want\" + 0.021*\"masculine\" + 0.011*\"feminist\" + 0.011*\"high\"')\n"
          ],
          "name": "stdout"
        }
      ]
    },
    {
      "cell_type": "code",
      "metadata": {
        "id": "kwSlvRcJFBdF",
        "colab_type": "code",
        "outputId": "2ecbc391-8f31-432d-fa22-c5fa25970772",
        "colab": {
          "base_uri": "https://localhost:8080/",
          "height": 861
        }
      },
      "source": [
        "lda_display = pyLDAvis.gensim.prepare(ldamodel, corpus, dictionary, sort_topics=False)\n",
        "pyLDAvis.display(lda_display)"
      ],
      "execution_count": 54,
      "outputs": [
        {
          "output_type": "execute_result",
          "data": {
            "text/html": [
              "\n",
              "<link rel=\"stylesheet\" type=\"text/css\" href=\"https://cdn.rawgit.com/bmabey/pyLDAvis/files/ldavis.v1.0.0.css\">\n",
              "\n",
              "\n",
              "<div id=\"ldavis_el1201397359448057364147462633\"></div>\n",
              "<script type=\"text/javascript\">\n",
              "\n",
              "var ldavis_el1201397359448057364147462633_data = {\"mdsDat\": {\"x\": [0.043329375702124986, 0.002030367942854291, -0.006189502454011457, -0.06628606444044426, 0.03283219896801402, -0.1442043623583993, 0.015117218178168397, 0.152711666343045, -0.009525485274505596, -0.019815412606846113], \"y\": [0.0732186648448075, -0.025049798065773614, 0.058395577846643995, 0.07320098639754655, 0.05015674057073355, -0.09555380949301762, 0.03436979586159853, -0.0962776590596791, -0.05702030074669221, -0.015440198156167753], \"topics\": [1, 2, 3, 4, 5, 6, 7, 8, 9, 10], \"cluster\": [1, 1, 1, 1, 1, 1, 1, 1, 1, 1], \"Freq\": [8.572519302368164, 6.205418109893799, 7.732123374938965, 8.711751937866211, 9.493175506591797, 13.849370002746582, 9.382600784301758, 18.09185028076172, 10.127211570739746, 7.833977222442627]}, \"tinfo\": {\"Term\": [\"women\", \"don\", \"red\", \"pill\", \"fuck\", \"want\", \"feminist\", \"man\", \"sex\", \"rp\", \"masculine\", \"girls\", \"post\", \"subreddit\", \"single\", \"woman\", \"pussy\", \"vote\", \"allowed\", \"guys\", \"fr\", \"girl\", \"thing\", \"trp\", \"mgtow\", \"like\", \"wants\", \"peterson\", \"jordan\", \"men\", \"single\", \"slut\", \"outdoor\", \"facebook\", \"standards\", \"emotionally\", \"exists\", \"hamsters\", \"ii\", \"lurkers\", \"solomon\", \"subscribers\", \"check\", \"comprehensive\", \"list\", \"radar\", \"marrying\", \"wisdom\", \"long\", \"term\", \"avoid\", \"costs\", \"delinquent\", \"mothers\", \"scum\", \"subhuman\", \"deliver\", \"goods\", \"life\", \"unless\", \"red\", \"good\", \"new\", \"read\", \"isn\", \"girl\", \"flag\", \"censorship\", \"cats\", \"1st\", \"bars\", \"ran\", \"time\", \"suffrage\", \"boring\", \"warned\", \"money\", \"voting\", \"privilege\", \"civilization\", \"allowing\", \"daily\", \"holy\", \"dating\", \"uninteresting\", \"sites\", \"sh\", \"reminder\", \"personality\", \"western\", \"worst\", \"lack\", \"delivers\", \"weaknesses\", \"dad\", \"sorry\", \"plans\", \"silverman\", \"ad\", \"baby\", \"boy\", \"sarah\", \"thing\", \"fuck\", \"women\", \"family\", \"happen\", \"rp\", \"loser\", \"fabled\", \"explains\", \"crusade\", \"big\", \"migrant\", \"european\", \"crisis\", \"close\", \"holds\", \"safely\", \"probably\", \"true\", \"swallowing\", \"christian\", \"rise\", \"heterophobia\", \"steroids\", \"beginners\", \"vince\", \"theory\", \"lifts\", \"kill\", \"insecure\", \"gym\", \"gironda\", \"ego\", \"8x8\", \"tech\", \"men\", \"girl\", \"feminist\", \"don\", \"like\", \"trp\", \"guide\", \"ideas\", \"locker\", \"losers\", \"revenge\", \"silence\", \"soyboy\", \"speech\", \"stuffed\", \"subreddit\", \"quit\", \"25\", \"emotional\", \"calling\", \"comments\", \"batteries\", \"abuse\", \"knights\", \"mentions\", \"moderator\", \"pussypass\", \"talk\", \"explaining\", \"white\", \"handle\", \"truth\", \"damn\", \"followers\", \"nazis\", \"diet\", \"fad\", \"let\", \"overweight\", \"emsk\", \"chad\", \"human\", \"included\", \"straw\", \"wait\", \"highly\", \"love\", \"pedestaling\", \"use\", \"upvoted\", \"torture\", \"tales\", \"barmaid\", \"strategy\", \"post\", \"men\", \"female\", \"real\", \"anybody\", \"doesn\", \"downvoting\", \"healthy\", \"times\", \"makes\", \"peterson\", \"jordan\", \"premarital\", \"faster\", \"goes\", \"drags\", \"bestof\", \"sexually\", \"touch\", \"selfishly\", \"request\", \"obeys\", \"cooks\", \"cleans\", \"change\", \"cancer\", \"black\", \"non\", \"monogamous\", \"advocates\", \"know\", \"changing\", \"gold\", \"took\", \"replace\", \"ultimate\", \"university\", \"seedy\", \"relegate\", \"immediately\", \"sayin\", \"bitch\", \"don\", \"sex\", \"best\", \"trp\", \"right\", \"using\", \"fr\", \"poor\", \"wants\", \"snowflake\", \"sexy\", \"plate\", \"spends\", \"surprise\", \"art\", \"example\", \"attracted\", \"coercive\", \"controlling\", \"skinny\", \"dudes\", \"bulking\", \"wild\", \"remember\", \"budget\", \"yoga\", \"pants\", \"fedora\", \"winner\", \"minutes\", \"feminine\", \"straight\", \"impulsive\", \"manipulative\", \"scientific\", \"tubman\", \"sjws\", \"confrontation\", \"frame\", \"removed\", \"helped\", \"rejects\", \"tinder\", \"cheating\", \"guys\", \"replaced\", \"want\", \"girls\", \"make\", \"men\", \"wife\", \"dumb\", \"proof\", \"dominant\", \"reacted\", \"selfish\", \"volatile\", \"school\", \"dope\", \"threatening\", \"tzu\", \"woman\", \"pussy\", \"hand\", \"rockefellers\", \"cheated\", \"attention\", \"literally\", \"wary\", \"bp\", \"impossible\", \"saw\", \"waiting\", \"trusting\", \"shaking\", \"engineered\", \"scout\", \"used\", \"nice\", \"god\", \"child\", \"married\", \"celebrate\", \"fact\", \"feel\", \"incels\", \"simply\", \"available\", \"bonus\", \"males\", \"fiance\", \"man\", \"hitler\", \"women\", \"fr\", \"girl\", \"beta\", \"fucked\", \"guys\", \"mgtow\", \"actually\", \"tells\", \"needs\", \"male\", \"guy\", \"gets\", \"interview\", \"need\", \"game\", \"pill\", \"getting\", \"field\", \"principles\", \"date\", \"reasons\", \"fashionable\", \"boobs\", \"office\", \"hate\", \"laid\", \"original\", \"present\", \"wrong\", \"really\", \"report\", \"series\", \"suddenly\", \"twilight\", \"mainstream\", \"book\", \"truths\", \"opening\", \"inside\", \"eye\", \"dissolving\", \"achieve\", \"feminist\", \"bros\", \"code\", \"dealing\", \"difficulties\", \"advice\", \"red\", \"like\", \"think\", \"right\", \"women\", \"sex\", \"fuck\", \"don\", \"want\", \"solution\", \"bro\", \"going\", \"worth\", \"ex\", \"vote\", \"allowed\", \"tell\", \"reason\", \"cucked\", \"page\", \"reddit\", \"shit\", \"accidentally\", \"awesome\", \"mother\", \"quotes\", \"son\", \"ironic\", \"law\", \"careers\", \"fellow\", \"females\", \"leadership\", \"millennial\", \"management\", \"ruin\", \"misogyny\", \"divorce\", \"australasia\", \"rates\", \"acknowledgement\", \"alpha\", \"played\", \"decides\", \"easily\", \"monks\", \"force\", \"way\", \"girls\", \"women\", \"agree\", \"things\", \"wife\", \"gone\", \"friend\", \"jesus\", \"20\", \"wants\", \"short\", \"hair\", \"damaged\", \"masculine\", \"papi\", \"takes\", \"virginity\", \"value\", \"fraternity\", \"psa\", \"movie\", \"max\", \"mad\", \"film\", \"solipsism\", \"lot\", \"nofap\", \"action\", \"search\", \"google\", \"hoax\", \"expect\", \"study\", \"smile\", \"auto\", \"greatest\", \"shot\", \"sport\", \"weightlifting\", \"rock\", \"hard\", \"earth\", \"version\", \"want\", \"don\", \"women\", \"feminist\", \"high\", \"men\", \"raped\", \"friend\"], \"Freq\": [9.0, 5.0, 4.0, 4.0, 3.0, 3.0, 3.0, 2.0, 2.0, 1.0, 1.0, 3.0, 2.0, 1.0, 1.0, 1.0, 1.0, 1.0, 1.0, 2.0, 2.0, 2.0, 1.0, 2.0, 2.0, 2.0, 2.0, 1.0, 1.0, 3.0, 1.1004188060760498, 0.5764098763465881, 0.5764098763465881, 0.5764098763465881, 0.5764098763465881, 0.5764098763465881, 0.5764098763465881, 0.5764098763465881, 0.5764098763465881, 0.5764098763465881, 0.5764098763465881, 0.5764098763465881, 0.5764098763465881, 0.5764098763465881, 0.5764098763465881, 0.5764098763465881, 0.5764098763465881, 0.5764098763465881, 0.5764098763465881, 0.5764098763465881, 0.5764098763465881, 0.5764098763465881, 0.5764098763465881, 0.5764098763465881, 0.5764098763465881, 0.5764098763465881, 0.5764098763465881, 0.5764098763465881, 0.5764098763465881, 0.5764098763465881, 1.1004271507263184, 0.5764237642288208, 0.5764136910438538, 0.5764124393463135, 0.5764111280441284, 0.5764101147651672, 0.5764098763465881, 0.5764098763465881, 0.5764098763465881, 0.5764098763465881, 0.5764098763465881, 0.5764098763465881, 0.5764098763465881, 0.5078508853912354, 0.5078508853912354, 0.5078508853912354, 0.5078508853912354, 0.5078508853912354, 0.5078508853912354, 0.5078508853912354, 0.5078508853912354, 0.5078508853912354, 0.5078508853912354, 0.5078508853912354, 0.5078508853912354, 0.5078508853912354, 0.5078508853912354, 0.5078508853912354, 0.5078508853912354, 0.5078508853912354, 0.5078508853912354, 0.5078508853912354, 0.5078508853912354, 0.5078508853912354, 0.5078508853912354, 0.5078508853912354, 0.5078508853912354, 0.5078508853912354, 0.5078508853912354, 0.5078508853912354, 0.5078508853912354, 0.5078508853912354, 0.5078569650650024, 0.9695406556129456, 0.9695649743080139, 0.507854163646698, 0.5078516006469727, 1.073155403137207, 0.5621290802955627, 0.5621290802955627, 0.5621290802955627, 0.5621290802955627, 0.5621290802955627, 0.5621290802955627, 0.5621290802955627, 0.5621290802955627, 0.5621290802955627, 0.5621290802955627, 0.5621290802955627, 0.5621290802955627, 0.5621290802955627, 0.5621290802955627, 0.5621290802955627, 0.5621290802955627, 0.5621290802955627, 0.5621290802955627, 0.5621290802955627, 0.5621290802955627, 0.5621290802955627, 0.5621290802955627, 0.5621290802955627, 0.5621290802955627, 0.5621290802955627, 0.5621290802955627, 0.5621290802955627, 0.5621290802955627, 0.5621290802955627, 0.5621389746665955, 0.5621355175971985, 0.5621342062950134, 0.5621325373649597, 0.5621306896209717, 0.5621300935745239, 0.5621298551559448, 0.5621290802955627, 0.5621290802955627, 0.5621290802955627, 0.5621290802955627, 0.5621290802955627, 0.5621290802955627, 0.5621290802955627, 0.5621290802955627, 1.1396961212158203, 0.5969836711883545, 0.5969836711883545, 0.5969836711883545, 0.5969836711883545, 0.5969836711883545, 0.5969836711883545, 0.5969836711883545, 0.5969836711883545, 0.5969836711883545, 0.5969836711883545, 0.5969836711883545, 0.5969836711883545, 0.5969836711883545, 0.5969836711883545, 0.5969836711883545, 0.5969836711883545, 0.5969836711883545, 0.5969836711883545, 0.5969836711883545, 0.5969836711883545, 0.5969836711883545, 0.5969836711883545, 0.5969836711883545, 0.5969836711883545, 0.5969836711883545, 0.5969836711883545, 0.5969836711883545, 0.5969836711883545, 0.5969836711883545, 0.5969836711883545, 0.5969836711883545, 0.5969836711883545, 0.5969836711883545, 0.5969836711883545, 0.5969836711883545, 0.5969836711883545, 0.5969836711883545, 0.5969836711883545, 1.1397162675857544, 0.5969942808151245, 0.596989095211029, 0.5969883799552917, 0.5969877243041992, 0.5969871282577515, 0.5969867706298828, 0.5969865322113037, 0.5969864726066589, 0.596985399723053, 0.5969850420951843, 0.5969850420951843, 0.6042727828025818, 0.6042727828025818, 0.6042727828025818, 0.6042727828025818, 0.6042727828025818, 0.6042727828025818, 0.6042727828025818, 0.6042727828025818, 0.6042727828025818, 0.6042727828025818, 0.6042727828025818, 0.6042727828025818, 0.6042727828025818, 0.6042727828025818, 0.6042727828025818, 0.6042727828025818, 0.6042727828025818, 0.6042727828025818, 0.6042727828025818, 0.6042727828025818, 0.6042727828025818, 0.6042727828025818, 0.6042727828025818, 0.6042727828025818, 0.6042727828025818, 0.6042727828025818, 0.6042727828025818, 0.6042727828025818, 0.6042727828025818, 0.6042727828025818, 1.7029592990875244, 1.153616189956665, 0.6042787432670593, 0.6042757034301758, 0.604275107383728, 0.6042742729187012, 0.6042735576629639, 0.6042734980583191, 0.6042732000350952, 0.6042727828025818, 0.6042727828025818, 0.6042729020118713, 0.6042727828025818, 0.6042727828025818, 0.6911176443099976, 0.6911176443099976, 0.6911176443099976, 0.6911176443099976, 0.6911176443099976, 0.6911176443099976, 0.6911176443099976, 0.6911176443099976, 0.6911176443099976, 0.6911176443099976, 0.6911176443099976, 0.6911176443099976, 0.6911176443099976, 0.6911176443099976, 0.6911176443099976, 0.6911176443099976, 0.6911176443099976, 0.6911176443099976, 0.6911176443099976, 0.6911176443099976, 0.6911176443099976, 0.6911176443099976, 0.6911176443099976, 0.6911176443099976, 0.6911176443099976, 0.6911176443099976, 0.6911176443099976, 0.6911176443099976, 0.6911176443099976, 0.6911176443099976, 1.3194106817245483, 0.6911176443099976, 1.3194005489349365, 1.3194093704223633, 0.6911203265190125, 0.6911197900772095, 0.6911186575889587, 0.6911181807518005, 0.691118061542511, 0.691118061542511, 0.6911176443099976, 0.6911176443099976, 0.6911176443099976, 0.6911176443099976, 0.6911176443099976, 0.6911176443099976, 0.6911176443099976, 1.1714088916778564, 1.1714088916778564, 0.613595187664032, 0.613595187664032, 0.613595187664032, 0.613595187664032, 0.613595187664032, 0.613595187664032, 0.613595187664032, 0.613595187664032, 0.613595187664032, 0.613595187664032, 0.613595187664032, 0.613595187664032, 0.613595187664032, 0.613595187664032, 0.613595187664032, 0.613595187664032, 0.613595187664032, 0.613595187664032, 0.613595187664032, 0.613595187664032, 0.613595187664032, 0.613595187664032, 0.613595187664032, 0.613595187664032, 0.613595187664032, 0.613595187664032, 0.613595187664032, 0.613595187664032, 1.1714131832122803, 0.613595187664032, 0.6136118769645691, 0.6136034727096558, 0.6136016249656677, 0.613600492477417, 0.6135991215705872, 0.6135989427566528, 0.613597571849823, 0.6135960221290588, 0.6135961413383484, 0.6135952472686768, 0.613595187664032, 0.613595187664032, 0.613595187664032, 1.4093130826950073, 1.4093130826950073, 1.4092223644256592, 3.422635555267334, 0.7382116317749023, 0.7382116317749023, 0.7382116317749023, 0.7382116317749023, 0.7382116317749023, 0.7382116317749023, 0.7382116317749023, 0.7382116317749023, 0.7382116317749023, 0.7382116317749023, 0.7382116317749023, 0.7382116317749023, 0.7382116317749023, 0.7382116317749023, 0.7382116317749023, 0.7382116317749023, 0.7382116317749023, 0.7382116317749023, 0.7382116317749023, 0.7382116317749023, 0.7382116317749023, 0.7382116317749023, 0.7382116317749023, 0.7382116317749023, 0.7382116317749023, 0.7382116317749023, 2.0804052352905273, 0.7382116317749023, 0.7382116317749023, 0.7382116317749023, 0.7382116317749023, 0.7382116317749023, 2.7515244483947754, 1.409305453300476, 1.4093105792999268, 1.4093103408813477, 4.093604564666748, 1.409307837486267, 1.4093148708343506, 1.409274935722351, 0.7382152676582336, 0.7382126450538635, 0.7382124662399292, 0.7382122278213501, 0.7382116317749023, 0.7382116317749023, 1.1782892942428589, 1.1782892942428589, 0.6171992421150208, 0.6171992421150208, 0.6171992421150208, 0.6171992421150208, 0.6171992421150208, 0.6171992421150208, 0.6171992421150208, 0.6171992421150208, 0.6171992421150208, 0.6171992421150208, 0.6171992421150208, 0.6171992421150208, 0.6171992421150208, 0.6171992421150208, 0.6171992421150208, 0.6171992421150208, 0.6171992421150208, 0.6171992421150208, 0.6171992421150208, 0.6171992421150208, 0.6171992421150208, 0.6171992421150208, 0.6171992421150208, 0.6171992421150208, 0.6171992421150208, 0.6171992421150208, 0.6171992421150208, 0.6171992421150208, 0.6171992421150208, 0.6171992421150208, 0.6171992421150208, 0.6171992421150208, 1.1783126592636108, 1.7394180297851562, 0.6171992421150208, 0.6172071695327759, 0.617203950881958, 0.6172025203704834, 0.6172025203704834, 0.6172006726264954, 0.6171995997428894, 0.6171994209289551, 0.6171992421150208, 0.6171992421150208, 0.6171992421150208, 1.0656487941741943, 0.5582011938095093, 0.5582011938095093, 0.5582011938095093, 0.5582010746002197, 0.5582010746002197, 0.5582010746002197, 0.5582010746002197, 0.5582010746002197, 0.5582010746002197, 0.5582010746002197, 0.5582010746002197, 0.5582010746002197, 0.5582010746002197, 0.5582010746002197, 0.5582010746002197, 0.5582010746002197, 0.5582010746002197, 0.5582010746002197, 0.5582010746002197, 0.5582010746002197, 0.5582010746002197, 0.558193564414978, 0.5581933259963989, 0.5581928491592407, 0.5581923723220825, 0.5581923723220825, 0.5581918954849243, 0.55819171667099, 0.5581902265548706, 1.0656547546386719, 1.0656687021255493, 1.065666913986206, 0.5582032203674316, 0.5582025051116943, 0.5582014918327332, 0.5582017302513123, 0.5582014322280884], \"Total\": [9.0, 5.0, 4.0, 4.0, 3.0, 3.0, 3.0, 2.0, 2.0, 1.0, 1.0, 3.0, 2.0, 1.0, 1.0, 1.0, 1.0, 1.0, 1.0, 2.0, 2.0, 2.0, 1.0, 2.0, 2.0, 2.0, 2.0, 1.0, 1.0, 3.0, 1.5994699001312256, 1.0754610300064087, 1.0754610300064087, 1.0754610300064087, 1.0754610300064087, 1.0754610300064087, 1.0754610300064087, 1.0754610300064087, 1.0754610300064087, 1.0754610300064087, 1.0754610300064087, 1.0754610300064087, 1.0754610300064087, 1.0754610300064087, 1.0754610300064087, 1.0754610300064087, 1.0754610300064087, 1.0754610300064087, 1.0754610300064087, 1.0754610300064087, 1.0754610300064087, 1.0754610300064087, 1.0754610300064087, 1.0754610300064087, 1.0754610300064087, 1.0754610300064087, 1.0754610300064087, 1.0754610300064087, 1.0754610300064087, 1.0754610300064087, 4.833215236663818, 1.7465589046478271, 1.7465615272521973, 1.746561884880066, 1.6365511417388916, 2.815399169921875, 1.0754610300064087, 1.0754610300064087, 1.0754610300064087, 1.0754610300064087, 1.0754610300064087, 1.0754610300064087, 1.0754610300064087, 1.0131345987319946, 1.0131345987319946, 1.0131345987319946, 1.0131345987319946, 1.0131345987319946, 1.0131345987319946, 1.0131345987319946, 1.0131345987319946, 1.0131345987319946, 1.0131345987319946, 1.0131345987319946, 1.0131345987319946, 1.0131345987319946, 1.0131345987319946, 1.0131345987319946, 1.0131345987319946, 1.0131345987319946, 1.0131345987319946, 1.0131345987319946, 1.0131345987319946, 1.0131345987319946, 1.0131345987319946, 1.0131345987319946, 1.0131345987319946, 1.0131345987319946, 1.0131345987319946, 1.0131345987319946, 1.0131345987319946, 1.0131345987319946, 1.574223518371582, 3.935922622680664, 9.385682106018066, 1.684234619140625, 1.6842339038848877, 1.5735048055648804, 1.0624785423278809, 1.0624785423278809, 1.0624785423278809, 1.0624785423278809, 1.0624785423278809, 1.0624785423278809, 1.0624785423278809, 1.0624785423278809, 1.0624785423278809, 1.0624785423278809, 1.0624785423278809, 1.0624785423278809, 1.0624785423278809, 1.0624785423278809, 1.0624785423278809, 1.0624785423278809, 1.0624785423278809, 1.0624785423278809, 1.0624785423278809, 1.0624785423278809, 1.0624785423278809, 1.0624785423278809, 1.0624785423278809, 1.0624785423278809, 1.0624785423278809, 1.0624785423278809, 1.0624785423278809, 1.0624785423278809, 1.0624785423278809, 3.961374282836914, 2.815399169921875, 3.5832362174987793, 5.067600250244141, 2.404679536819458, 2.8011956214904785, 1.6118171215057373, 1.0624785423278809, 1.0624785423278809, 1.0624785423278809, 1.0624785423278809, 1.0624785423278809, 1.0624785423278809, 1.0624785423278809, 1.0624785423278809, 1.6368769407272339, 1.094164490699768, 1.094164490699768, 1.094164490699768, 1.094164490699768, 1.094164490699768, 1.094164490699768, 1.094164490699768, 1.094164490699768, 1.094164490699768, 1.094164490699768, 1.094164490699768, 1.094164490699768, 1.094164490699768, 1.094164490699768, 1.094164490699768, 1.094164490699768, 1.094164490699768, 1.094164490699768, 1.094164490699768, 1.094164490699768, 1.094164490699768, 1.094164490699768, 1.094164490699768, 1.094164490699768, 1.094164490699768, 1.094164490699768, 1.094164490699768, 1.094164490699768, 1.094164490699768, 1.094164490699768, 1.094164490699768, 1.094164490699768, 1.094164490699768, 1.094164490699768, 1.094164490699768, 1.094164490699768, 1.094164490699768, 1.094164490699768, 2.936262607574463, 3.961374282836914, 1.7224525213241577, 1.6552544832229614, 1.7224526405334473, 1.7224527597427368, 1.7652654647827148, 1.618173599243164, 1.6435034275054932, 1.6435034275054932, 1.6016201972961426, 1.6016201972961426, 1.1007909774780273, 1.1007909774780273, 1.1007909774780273, 1.1007909774780273, 1.1007909774780273, 1.1007909774780273, 1.1007909774780273, 1.1007909774780273, 1.1007909774780273, 1.1007909774780273, 1.1007909774780273, 1.1007909774780273, 1.1007909774780273, 1.1007909774780273, 1.1007909774780273, 1.1007909774780273, 1.1007909774780273, 1.1007909774780273, 1.1007909774780273, 1.1007909774780273, 1.1007909774780273, 1.1007909774780273, 1.1007909774780273, 1.1007909774780273, 1.1007909774780273, 1.1007909774780273, 1.1007909774780273, 1.1007909774780273, 1.1007909774780273, 1.1007909774780273, 5.067600250244141, 2.9923317432403564, 2.3329813480377197, 2.8011956214904785, 2.4429931640625, 1.611817479133606, 2.7271509170532227, 1.6247999668121338, 2.2196948528289795, 1.1007909774780273, 1.1007909774780273, 1.6586047410964966, 1.1007909774780273, 1.1007909774780273, 1.1797407865524292, 1.1797407865524292, 1.1797407865524292, 1.1797407865524292, 1.1797407865524292, 1.1797407865524292, 1.1797407865524292, 1.1797407865524292, 1.1797407865524292, 1.1797407865524292, 1.1797407865524292, 1.1797407865524292, 1.1797407865524292, 1.1797407865524292, 1.1797407865524292, 1.1797407865524292, 1.1797407865524292, 1.1797407865524292, 1.1797407865524292, 1.1797407865524292, 1.1797407865524292, 1.1797407865524292, 1.1797407865524292, 1.1797407865524292, 1.1797407865524292, 1.1797407865524292, 1.1797407865524292, 1.1797407865524292, 1.1797407865524292, 1.1797407865524292, 2.915182590484619, 1.1797407865524292, 3.494041919708252, 3.601306915283203, 2.3125250339508057, 3.961374282836914, 2.4119315147399902, 1.8508422374725342, 1.6871964931488037, 1.6871964931488037, 1.1797407865524292, 1.1797407865524292, 1.1797407865524292, 1.1797407865524292, 1.1797407865524292, 1.1797407865524292, 1.1797407865524292, 1.6670795679092407, 1.6670795679092407, 1.1092658042907715, 1.1092658042907715, 1.1092658042907715, 1.1092658042907715, 1.1092658042907715, 1.1092658042907715, 1.1092658042907715, 1.1092658042907715, 1.1092658042907715, 1.1092658042907715, 1.1092658042907715, 1.1092658042907715, 1.1092658042907715, 1.1092658042907715, 1.1092658042907715, 1.1092658042907715, 1.1092658042907715, 1.1092658042907715, 1.1092658042907715, 1.1092658042907715, 1.1092658042907715, 1.1092658042907715, 1.1092658042907715, 1.1092658042907715, 1.1092658042907715, 1.1092658042907715, 1.1092658042907715, 1.1092658042907715, 2.1745355129241943, 1.1092658042907715, 9.385682106018066, 2.7271509170532227, 2.815399169921875, 1.7803664207458496, 1.6586047410964966, 2.915182590484619, 2.1943650245666504, 1.780367136001587, 1.6332751512527466, 1.7803661823272705, 1.1092658042907715, 1.1092658042907715, 1.1092658042907715, 1.8936549425125122, 1.8936549425125122, 1.8936398029327393, 4.980310440063477, 1.2225534915924072, 1.2225534915924072, 1.2225534915924072, 1.2225534915924072, 1.2225534915924072, 1.2225534915924072, 1.2225534915924072, 1.2225534915924072, 1.2225534915924072, 1.2225534915924072, 1.2225534915924072, 1.2225534915924072, 1.2225534915924072, 1.2225534915924072, 1.2225534915924072, 1.2225534915924072, 1.2225534915924072, 1.2225534915924072, 1.2225534915924072, 1.2225534915924072, 1.2225534915924072, 1.2225534915924072, 1.2225534915924072, 1.2225534915924072, 1.2225534915924072, 1.2225534915924072, 3.5832362174987793, 1.2225534915924072, 1.2225534915924072, 1.2225534915924072, 1.2225534915924072, 1.2225534915924072, 4.833215236663818, 2.404679536819458, 2.4429931640625, 2.4429931640625, 9.385682106018066, 2.9923317432403564, 3.935922622680664, 5.067600250244141, 3.494041919708252, 1.7465627193450928, 1.771892786026001, 1.7465627193450928, 1.2225534915924072, 1.2225534915924072, 1.673632264137268, 1.673632264137268, 1.1125422716140747, 1.1125422716140747, 1.1125422716140747, 1.1125422716140747, 1.1125422716140747, 1.1125422716140747, 1.1125422716140747, 1.1125422716140747, 1.1125422716140747, 1.1125422716140747, 1.1125422716140747, 1.1125422716140747, 1.1125422716140747, 1.1125422716140747, 1.1125422716140747, 1.1125422716140747, 1.1125422716140747, 1.1125422716140747, 1.1125422716140747, 1.1125422716140747, 1.1125422716140747, 1.1125422716140747, 1.1125422716140747, 1.1125422716140747, 1.1125422716140747, 1.1125422716140747, 1.1125422716140747, 1.1125422716140747, 1.1125422716140747, 1.1125422716140747, 1.1125422716140747, 1.1125422716140747, 3.601306915283203, 9.385682106018066, 1.1125422716140747, 1.7836421728134155, 2.4119315147399902, 1.740830659866333, 2.2910985946655273, 1.6618812084197998, 1.7408310174942017, 2.2196948528289795, 1.1125422716140747, 1.1125422716140747, 1.1125422716140747, 1.5663657188415527, 1.0589075088500977, 1.0589075088500977, 1.0589075088500977, 1.0589075088500977, 1.0589075088500977, 1.0589075088500977, 1.0589075088500977, 1.0589075088500977, 1.0589075088500977, 1.0589075088500977, 1.0589075088500977, 1.0589075088500977, 1.0589075088500977, 1.0589075088500977, 1.0589075088500977, 1.0589075088500977, 1.0589075088500977, 1.0589075088500977, 1.0589075088500977, 1.0589075088500977, 1.0589075088500977, 1.0589098930358887, 1.0589100122451782, 1.0589102506637573, 1.0589103698730469, 1.0589104890823364, 1.058910608291626, 1.058910608291626, 1.0589110851287842, 3.494041919708252, 5.067600250244141, 9.385682106018066, 3.5832362174987793, 1.6871960163116455, 3.961374282836914, 1.6082463264465332, 2.2910985946655273], \"Category\": [\"Default\", \"Default\", \"Default\", \"Default\", \"Default\", \"Default\", \"Default\", \"Default\", \"Default\", \"Default\", \"Default\", \"Default\", \"Default\", \"Default\", \"Default\", \"Default\", \"Default\", \"Default\", \"Default\", \"Default\", \"Default\", \"Default\", \"Default\", \"Default\", \"Default\", \"Default\", \"Default\", \"Default\", \"Default\", \"Default\", \"Topic1\", \"Topic1\", \"Topic1\", \"Topic1\", \"Topic1\", \"Topic1\", \"Topic1\", \"Topic1\", \"Topic1\", \"Topic1\", \"Topic1\", \"Topic1\", \"Topic1\", \"Topic1\", \"Topic1\", \"Topic1\", \"Topic1\", \"Topic1\", \"Topic1\", \"Topic1\", \"Topic1\", \"Topic1\", \"Topic1\", \"Topic1\", \"Topic1\", \"Topic1\", \"Topic1\", \"Topic1\", \"Topic1\", \"Topic1\", \"Topic1\", \"Topic1\", \"Topic1\", \"Topic1\", \"Topic1\", \"Topic1\", \"Topic1\", \"Topic1\", \"Topic1\", \"Topic1\", \"Topic1\", \"Topic1\", \"Topic1\", \"Topic2\", \"Topic2\", \"Topic2\", \"Topic2\", \"Topic2\", \"Topic2\", \"Topic2\", \"Topic2\", \"Topic2\", \"Topic2\", \"Topic2\", \"Topic2\", \"Topic2\", \"Topic2\", \"Topic2\", \"Topic2\", \"Topic2\", \"Topic2\", \"Topic2\", \"Topic2\", \"Topic2\", \"Topic2\", \"Topic2\", \"Topic2\", \"Topic2\", \"Topic2\", \"Topic2\", \"Topic2\", \"Topic2\", \"Topic2\", \"Topic2\", \"Topic2\", \"Topic2\", \"Topic2\", \"Topic3\", \"Topic3\", \"Topic3\", \"Topic3\", \"Topic3\", \"Topic3\", \"Topic3\", \"Topic3\", \"Topic3\", \"Topic3\", \"Topic3\", \"Topic3\", \"Topic3\", \"Topic3\", \"Topic3\", \"Topic3\", \"Topic3\", \"Topic3\", \"Topic3\", \"Topic3\", \"Topic3\", \"Topic3\", \"Topic3\", \"Topic3\", \"Topic3\", \"Topic3\", \"Topic3\", \"Topic3\", \"Topic3\", \"Topic3\", \"Topic3\", \"Topic3\", \"Topic3\", \"Topic3\", \"Topic3\", \"Topic3\", \"Topic3\", \"Topic3\", \"Topic3\", \"Topic3\", \"Topic3\", \"Topic3\", \"Topic3\", \"Topic3\", \"Topic3\", \"Topic4\", \"Topic4\", \"Topic4\", \"Topic4\", \"Topic4\", \"Topic4\", \"Topic4\", \"Topic4\", \"Topic4\", \"Topic4\", \"Topic4\", \"Topic4\", \"Topic4\", \"Topic4\", \"Topic4\", \"Topic4\", \"Topic4\", \"Topic4\", \"Topic4\", \"Topic4\", \"Topic4\", \"Topic4\", \"Topic4\", \"Topic4\", \"Topic4\", \"Topic4\", \"Topic4\", \"Topic4\", \"Topic4\", \"Topic4\", \"Topic4\", \"Topic4\", \"Topic4\", \"Topic4\", \"Topic4\", \"Topic4\", \"Topic4\", \"Topic4\", \"Topic4\", \"Topic4\", \"Topic4\", \"Topic4\", \"Topic4\", \"Topic4\", \"Topic4\", \"Topic4\", \"Topic4\", \"Topic4\", \"Topic4\", \"Topic4\", \"Topic4\", \"Topic5\", \"Topic5\", \"Topic5\", \"Topic5\", \"Topic5\", \"Topic5\", \"Topic5\", \"Topic5\", \"Topic5\", \"Topic5\", \"Topic5\", \"Topic5\", \"Topic5\", \"Topic5\", \"Topic5\", \"Topic5\", \"Topic5\", \"Topic5\", \"Topic5\", \"Topic5\", \"Topic5\", \"Topic5\", \"Topic5\", \"Topic5\", \"Topic5\", \"Topic5\", \"Topic5\", \"Topic5\", \"Topic5\", \"Topic5\", \"Topic5\", \"Topic5\", \"Topic5\", \"Topic5\", \"Topic5\", \"Topic5\", \"Topic5\", \"Topic5\", \"Topic5\", \"Topic5\", \"Topic5\", \"Topic5\", \"Topic5\", \"Topic5\", \"Topic6\", \"Topic6\", \"Topic6\", \"Topic6\", \"Topic6\", \"Topic6\", \"Topic6\", \"Topic6\", \"Topic6\", \"Topic6\", \"Topic6\", \"Topic6\", \"Topic6\", \"Topic6\", \"Topic6\", \"Topic6\", \"Topic6\", \"Topic6\", \"Topic6\", \"Topic6\", \"Topic6\", \"Topic6\", \"Topic6\", \"Topic6\", \"Topic6\", \"Topic6\", \"Topic6\", \"Topic6\", \"Topic6\", \"Topic6\", \"Topic6\", \"Topic6\", \"Topic6\", \"Topic6\", \"Topic6\", \"Topic6\", \"Topic6\", \"Topic6\", \"Topic6\", \"Topic6\", \"Topic6\", \"Topic6\", \"Topic6\", \"Topic6\", \"Topic6\", \"Topic6\", \"Topic6\", \"Topic7\", \"Topic7\", \"Topic7\", \"Topic7\", \"Topic7\", \"Topic7\", \"Topic7\", \"Topic7\", \"Topic7\", \"Topic7\", \"Topic7\", \"Topic7\", \"Topic7\", \"Topic7\", \"Topic7\", \"Topic7\", \"Topic7\", \"Topic7\", \"Topic7\", \"Topic7\", \"Topic7\", \"Topic7\", \"Topic7\", \"Topic7\", \"Topic7\", \"Topic7\", \"Topic7\", \"Topic7\", \"Topic7\", \"Topic7\", \"Topic7\", \"Topic7\", \"Topic7\", \"Topic7\", \"Topic7\", \"Topic7\", \"Topic7\", \"Topic7\", \"Topic7\", \"Topic7\", \"Topic7\", \"Topic7\", \"Topic7\", \"Topic7\", \"Topic7\", \"Topic8\", \"Topic8\", \"Topic8\", \"Topic8\", \"Topic8\", \"Topic8\", \"Topic8\", \"Topic8\", \"Topic8\", \"Topic8\", \"Topic8\", \"Topic8\", \"Topic8\", \"Topic8\", \"Topic8\", \"Topic8\", \"Topic8\", \"Topic8\", \"Topic8\", \"Topic8\", \"Topic8\", \"Topic8\", \"Topic8\", \"Topic8\", \"Topic8\", \"Topic8\", \"Topic8\", \"Topic8\", \"Topic8\", \"Topic8\", \"Topic8\", \"Topic8\", \"Topic8\", \"Topic8\", \"Topic8\", \"Topic8\", \"Topic8\", \"Topic8\", \"Topic8\", \"Topic8\", \"Topic8\", \"Topic8\", \"Topic8\", \"Topic8\", \"Topic8\", \"Topic8\", \"Topic8\", \"Topic8\", \"Topic8\", \"Topic8\", \"Topic9\", \"Topic9\", \"Topic9\", \"Topic9\", \"Topic9\", \"Topic9\", \"Topic9\", \"Topic9\", \"Topic9\", \"Topic9\", \"Topic9\", \"Topic9\", \"Topic9\", \"Topic9\", \"Topic9\", \"Topic9\", \"Topic9\", \"Topic9\", \"Topic9\", \"Topic9\", \"Topic9\", \"Topic9\", \"Topic9\", \"Topic9\", \"Topic9\", \"Topic9\", \"Topic9\", \"Topic9\", \"Topic9\", \"Topic9\", \"Topic9\", \"Topic9\", \"Topic9\", \"Topic9\", \"Topic9\", \"Topic9\", \"Topic9\", \"Topic9\", \"Topic9\", \"Topic9\", \"Topic9\", \"Topic9\", \"Topic9\", \"Topic9\", \"Topic9\", \"Topic9\", \"Topic9\", \"Topic10\", \"Topic10\", \"Topic10\", \"Topic10\", \"Topic10\", \"Topic10\", \"Topic10\", \"Topic10\", \"Topic10\", \"Topic10\", \"Topic10\", \"Topic10\", \"Topic10\", \"Topic10\", \"Topic10\", \"Topic10\", \"Topic10\", \"Topic10\", \"Topic10\", \"Topic10\", \"Topic10\", \"Topic10\", \"Topic10\", \"Topic10\", \"Topic10\", \"Topic10\", \"Topic10\", \"Topic10\", \"Topic10\", \"Topic10\", \"Topic10\", \"Topic10\", \"Topic10\", \"Topic10\", \"Topic10\", \"Topic10\", \"Topic10\", \"Topic10\"], \"logprob\": [30.0, 29.0, 28.0, 27.0, 26.0, 25.0, 24.0, 23.0, 22.0, 21.0, 20.0, 19.0, 18.0, 17.0, 16.0, 15.0, 14.0, 13.0, 12.0, 11.0, 10.0, 9.0, 8.0, 7.0, 6.0, 5.0, 4.0, 3.0, 2.0, 1.0, -3.9261999130249023, -4.572800159454346, -4.572800159454346, -4.572800159454346, -4.572800159454346, -4.572800159454346, -4.572800159454346, -4.572800159454346, -4.572800159454346, -4.572800159454346, -4.572800159454346, -4.572800159454346, -4.572800159454346, -4.572800159454346, -4.572800159454346, -4.572800159454346, -4.572800159454346, -4.572800159454346, -4.572800159454346, -4.572800159454346, -4.572800159454346, -4.572800159454346, -4.572800159454346, -4.572800159454346, -4.572800159454346, -4.572800159454346, -4.572800159454346, -4.572800159454346, -4.572800159454346, -4.572800159454346, -3.9261999130249023, -4.572800159454346, -4.572800159454346, -4.572800159454346, -4.572800159454346, -4.572800159454346, -4.572800159454346, -4.572800159454346, -4.572800159454346, -4.572800159454346, -4.572800159454346, -4.572800159454346, -4.572800159454346, -4.376299858093262, -4.376299858093262, -4.376299858093262, -4.376299858093262, -4.376299858093262, -4.376299858093262, -4.376299858093262, -4.376299858093262, -4.376299858093262, -4.376299858093262, -4.376299858093262, -4.376299858093262, -4.376299858093262, -4.376299858093262, -4.376299858093262, -4.376299858093262, -4.376299858093262, -4.376299858093262, -4.376299858093262, -4.376299858093262, -4.376299858093262, -4.376299858093262, -4.376299858093262, -4.376299858093262, -4.376299858093262, -4.376299858093262, -4.376299858093262, -4.376299858093262, -4.376299858093262, -4.376299858093262, -3.7297000885009766, -3.7297000885009766, -4.376299858093262, -4.376299858093262, -3.848099946975708, -4.494699954986572, -4.494699954986572, -4.494699954986572, -4.494699954986572, -4.494699954986572, -4.494699954986572, -4.494699954986572, -4.494699954986572, -4.494699954986572, -4.494699954986572, -4.494699954986572, -4.494699954986572, -4.494699954986572, -4.494699954986572, -4.494699954986572, -4.494699954986572, -4.494699954986572, -4.494699954986572, -4.494699954986572, -4.494699954986572, -4.494699954986572, -4.494699954986572, -4.494699954986572, -4.494699954986572, -4.494699954986572, -4.494699954986572, -4.494699954986572, -4.494699954986572, -4.494699954986572, -4.494699954986572, -4.494699954986572, -4.494699954986572, -4.494699954986572, -4.494699954986572, -4.494699954986572, -4.494699954986572, -4.494699954986572, -4.494699954986572, -4.494699954986572, -4.494699954986572, -4.494699954986572, -4.494699954986572, -4.494699954986572, -4.494699954986572, -3.9072999954223633, -4.553899765014648, -4.553899765014648, -4.553899765014648, -4.553899765014648, -4.553899765014648, -4.553899765014648, -4.553899765014648, -4.553899765014648, -4.553899765014648, -4.553899765014648, -4.553899765014648, -4.553899765014648, -4.553899765014648, -4.553899765014648, -4.553899765014648, -4.553899765014648, -4.553899765014648, -4.553899765014648, -4.553899765014648, -4.553899765014648, -4.553899765014648, -4.553899765014648, -4.553899765014648, -4.553899765014648, -4.553899765014648, -4.553899765014648, -4.553899765014648, -4.553899765014648, -4.553899765014648, -4.553899765014648, -4.553899765014648, -4.553899765014648, -4.553899765014648, -4.553899765014648, -4.553899765014648, -4.553899765014648, -4.553899765014648, -4.553899765014648, -3.9072000980377197, -4.553899765014648, -4.553899765014648, -4.553899765014648, -4.553899765014648, -4.553899765014648, -4.553899765014648, -4.553899765014648, -4.553899765014648, -4.553899765014648, -4.553899765014648, -4.553899765014648, -4.627600193023682, -4.627600193023682, -4.627600193023682, -4.627600193023682, -4.627600193023682, -4.627600193023682, -4.627600193023682, -4.627600193023682, -4.627600193023682, -4.627600193023682, -4.627600193023682, -4.627600193023682, -4.627600193023682, -4.627600193023682, -4.627600193023682, -4.627600193023682, -4.627600193023682, -4.627600193023682, -4.627600193023682, -4.627600193023682, -4.627600193023682, -4.627600193023682, -4.627600193023682, -4.627600193023682, -4.627600193023682, -4.627600193023682, -4.627600193023682, -4.627600193023682, -4.627600193023682, -4.627600193023682, -3.5915000438690186, -3.9809999465942383, -4.627600193023682, -4.627600193023682, -4.627600193023682, -4.627600193023682, -4.627600193023682, -4.627600193023682, -4.627600193023682, -4.627600193023682, -4.627600193023682, -4.627600193023682, -4.627600193023682, -4.627600193023682, -4.870999813079834, -4.870999813079834, -4.870999813079834, -4.870999813079834, -4.870999813079834, -4.870999813079834, -4.870999813079834, -4.870999813079834, -4.870999813079834, -4.870999813079834, -4.870999813079834, -4.870999813079834, -4.870999813079834, -4.870999813079834, -4.870999813079834, -4.870999813079834, -4.870999813079834, -4.870999813079834, -4.870999813079834, -4.870999813079834, -4.870999813079834, -4.870999813079834, -4.870999813079834, -4.870999813079834, -4.870999813079834, -4.870999813079834, -4.870999813079834, -4.870999813079834, -4.870999813079834, -4.870999813079834, -4.224400043487549, -4.870999813079834, -4.224400043487549, -4.224400043487549, -4.870999813079834, -4.870999813079834, -4.870999813079834, -4.870999813079834, -4.870999813079834, -4.870999813079834, -4.870999813079834, -4.870999813079834, -4.870999813079834, -4.870999813079834, -4.870999813079834, -4.870999813079834, -4.870999813079834, -3.9539999961853027, -3.9539999961853027, -4.600599765777588, -4.600599765777588, -4.600599765777588, -4.600599765777588, -4.600599765777588, -4.600599765777588, -4.600599765777588, -4.600599765777588, -4.600599765777588, -4.600599765777588, -4.600599765777588, -4.600599765777588, -4.600599765777588, -4.600599765777588, -4.600599765777588, -4.600599765777588, -4.600599765777588, -4.600599765777588, -4.600599765777588, -4.600599765777588, -4.600599765777588, -4.600599765777588, -4.600599765777588, -4.600599765777588, -4.600599765777588, -4.600599765777588, -4.600599765777588, -4.600599765777588, -3.9539999961853027, -4.600599765777588, -4.600599765777588, -4.600599765777588, -4.600599765777588, -4.600599765777588, -4.600599765777588, -4.600599765777588, -4.600599765777588, -4.600599765777588, -4.600599765777588, -4.600599765777588, -4.600599765777588, -4.600599765777588, -4.600599765777588, -4.4257001876831055, -4.4257001876831055, -4.42579984664917, -3.5383999347686768, -5.072299957275391, -5.072299957275391, -5.072299957275391, -5.072299957275391, -5.072299957275391, -5.072299957275391, -5.072299957275391, -5.072299957275391, -5.072299957275391, -5.072299957275391, -5.072299957275391, -5.072299957275391, -5.072299957275391, -5.072299957275391, -5.072299957275391, -5.072299957275391, -5.072299957275391, -5.072299957275391, -5.072299957275391, -5.072299957275391, -5.072299957275391, -5.072299957275391, -5.072299957275391, -5.072299957275391, -5.072299957275391, -5.072299957275391, -4.036200046539307, -5.072299957275391, -5.072299957275391, -5.072299957275391, -5.072299957275391, -5.072299957275391, -3.7565999031066895, -4.4257001876831055, -4.4257001876831055, -4.4257001876831055, -3.3594000339508057, -4.4257001876831055, -4.4257001876831055, -4.4257001876831055, -5.072299957275391, -5.072299957275391, -5.072299957275391, -5.072299957275391, -5.072299957275391, -5.072299957275391, -4.024499893188477, -4.024499893188477, -4.67110013961792, -4.67110013961792, -4.67110013961792, -4.67110013961792, -4.67110013961792, -4.67110013961792, -4.67110013961792, -4.67110013961792, -4.67110013961792, -4.67110013961792, -4.67110013961792, -4.67110013961792, -4.67110013961792, -4.67110013961792, -4.67110013961792, -4.67110013961792, -4.67110013961792, -4.67110013961792, -4.67110013961792, -4.67110013961792, -4.67110013961792, -4.67110013961792, -4.67110013961792, -4.67110013961792, -4.67110013961792, -4.67110013961792, -4.67110013961792, -4.67110013961792, -4.67110013961792, -4.67110013961792, -4.67110013961792, -4.67110013961792, -4.024499893188477, -3.634999990463257, -4.67110013961792, -4.67110013961792, -4.67110013961792, -4.67110013961792, -4.67110013961792, -4.67110013961792, -4.67110013961792, -4.67110013961792, -4.67110013961792, -4.67110013961792, -4.67110013961792, -3.8682000637054443, -4.514800071716309, -4.514800071716309, -4.514800071716309, -4.514800071716309, -4.514800071716309, -4.514800071716309, -4.514800071716309, -4.514800071716309, -4.514800071716309, -4.514800071716309, -4.514800071716309, -4.514800071716309, -4.514800071716309, -4.514800071716309, -4.514800071716309, -4.514800071716309, -4.514800071716309, -4.514800071716309, -4.514800071716309, -4.514800071716309, -4.514800071716309, -4.514900207519531, -4.514900207519531, -4.514900207519531, -4.514900207519531, -4.514900207519531, -4.514900207519531, -4.514900207519531, -4.514900207519531, -3.8682000637054443, -3.8682000637054443, -3.8682000637054443, -4.514800071716309, -4.514800071716309, -4.514800071716309, -4.514800071716309, -4.514800071716309], \"loglift\": [30.0, 29.0, 28.0, 27.0, 26.0, 25.0, 24.0, 23.0, 22.0, 21.0, 20.0, 19.0, 18.0, 17.0, 16.0, 15.0, 14.0, 13.0, 12.0, 11.0, 10.0, 9.0, 8.0, 7.0, 6.0, 5.0, 4.0, 3.0, 2.0, 1.0, 2.0826001167297363, 1.832900047302246, 1.832900047302246, 1.832900047302246, 1.832900047302246, 1.832900047302246, 1.832900047302246, 1.832900047302246, 1.832900047302246, 1.832900047302246, 1.832900047302246, 1.832900047302246, 1.832900047302246, 1.832900047302246, 1.832900047302246, 1.832900047302246, 1.832900047302246, 1.832900047302246, 1.832900047302246, 1.832900047302246, 1.832900047302246, 1.832900047302246, 1.832900047302246, 1.832900047302246, 1.832900047302246, 1.832900047302246, 1.832900047302246, 1.832900047302246, 1.832900047302246, 1.832900047302246, 0.9768000245094299, 1.3480000495910645, 1.3480000495910645, 1.3480000495910645, 1.413100004196167, 0.8705999851226807, 1.832900047302246, 1.832900047302246, 1.832900047302246, 1.832900047302246, 1.832900047302246, 1.832900047302246, 1.832900047302246, 2.089099884033203, 2.089099884033203, 2.089099884033203, 2.089099884033203, 2.089099884033203, 2.089099884033203, 2.089099884033203, 2.089099884033203, 2.089099884033203, 2.089099884033203, 2.089099884033203, 2.089099884033203, 2.089099884033203, 2.089099884033203, 2.089099884033203, 2.089099884033203, 2.089099884033203, 2.089099884033203, 2.089099884033203, 2.089099884033203, 2.089099884033203, 2.089099884033203, 2.089099884033203, 2.089099884033203, 2.089099884033203, 2.089099884033203, 2.089099884033203, 2.089099884033203, 2.089099884033203, 1.6483999490737915, 1.3787000179290771, 0.5097000002861023, 1.580899953842163, 1.580899953842163, 2.1770999431610107, 1.923200011253357, 1.923200011253357, 1.923200011253357, 1.923200011253357, 1.923200011253357, 1.923200011253357, 1.923200011253357, 1.923200011253357, 1.923200011253357, 1.923200011253357, 1.923200011253357, 1.923200011253357, 1.923200011253357, 1.923200011253357, 1.923200011253357, 1.923200011253357, 1.923200011253357, 1.923200011253357, 1.923200011253357, 1.923200011253357, 1.923200011253357, 1.923200011253357, 1.923200011253357, 1.923200011253357, 1.923200011253357, 1.923200011253357, 1.923200011253357, 1.923200011253357, 1.923200011253357, 0.607200026512146, 0.9487000107765198, 0.7074999809265137, 0.36090001463890076, 1.1062999963760376, 0.9537000060081482, 1.5063999891281128, 1.923200011253357, 1.923200011253357, 1.923200011253357, 1.923200011253357, 1.923200011253357, 1.923200011253357, 1.923200011253357, 1.923200011253357, 2.0785000324249268, 1.8345999717712402, 1.8345999717712402, 1.8345999717712402, 1.8345999717712402, 1.8345999717712402, 1.8345999717712402, 1.8345999717712402, 1.8345999717712402, 1.8345999717712402, 1.8345999717712402, 1.8345999717712402, 1.8345999717712402, 1.8345999717712402, 1.8345999717712402, 1.8345999717712402, 1.8345999717712402, 1.8345999717712402, 1.8345999717712402, 1.8345999717712402, 1.8345999717712402, 1.8345999717712402, 1.8345999717712402, 1.8345999717712402, 1.8345999717712402, 1.8345999717712402, 1.8345999717712402, 1.8345999717712402, 1.8345999717712402, 1.8345999717712402, 1.8345999717712402, 1.8345999717712402, 1.8345999717712402, 1.8345999717712402, 1.8345999717712402, 1.8345999717712402, 1.8345999717712402, 1.8345999717712402, 1.8345999717712402, 1.4940999746322632, 0.5480999946594238, 1.3809000253677368, 1.420699954032898, 1.3809000253677368, 1.3809000253677368, 1.3562999963760376, 1.4433000087738037, 1.4278000593185425, 1.4278000593185425, 1.4536000490188599, 1.4536000490188599, 1.7547999620437622, 1.7547999620437622, 1.7547999620437622, 1.7547999620437622, 1.7547999620437622, 1.7547999620437622, 1.7547999620437622, 1.7547999620437622, 1.7547999620437622, 1.7547999620437622, 1.7547999620437622, 1.7547999620437622, 1.7547999620437622, 1.7547999620437622, 1.7547999620437622, 1.7547999620437622, 1.7547999620437622, 1.7547999620437622, 1.7547999620437622, 1.7547999620437622, 1.7547999620437622, 1.7547999620437622, 1.7547999620437622, 1.7547999620437622, 1.7547999620437622, 1.7547999620437622, 1.7547999620437622, 1.7547999620437622, 1.7547999620437622, 1.7547999620437622, 1.2640999555587769, 1.4013999700546265, 1.0037000179290771, 0.8208000063896179, 0.9575999975204468, 1.3734999895095825, 0.847599983215332, 1.3654999732971191, 1.0535000562667847, 1.7547999620437622, 1.7547999620437622, 1.3449000120162964, 1.7547999620437622, 1.7547999620437622, 1.442199945449829, 1.442199945449829, 1.442199945449829, 1.442199945449829, 1.442199945449829, 1.442199945449829, 1.442199945449829, 1.442199945449829, 1.442199945449829, 1.442199945449829, 1.442199945449829, 1.442199945449829, 1.442199945449829, 1.442199945449829, 1.442199945449829, 1.442199945449829, 1.442199945449829, 1.442199945449829, 1.442199945449829, 1.442199945449829, 1.442199945449829, 1.442199945449829, 1.442199945449829, 1.442199945449829, 1.442199945449829, 1.442199945449829, 1.442199945449829, 1.442199945449829, 1.442199945449829, 1.442199945449829, 1.1842000484466553, 1.442199945449829, 1.003000020980835, 0.9728000164031982, 0.76910001039505, 0.23090000450611115, 0.7271000146865845, 0.9918000102043152, 1.0844000577926636, 1.0844000577926636, 1.442199945449829, 1.442199945449829, 1.442199945449829, 1.442199945449829, 1.442199945449829, 1.442199945449829, 1.442199945449829, 2.013400077819824, 2.013400077819824, 1.7741999626159668, 1.7741999626159668, 1.7741999626159668, 1.7741999626159668, 1.7741999626159668, 1.7741999626159668, 1.7741999626159668, 1.7741999626159668, 1.7741999626159668, 1.7741999626159668, 1.7741999626159668, 1.7741999626159668, 1.7741999626159668, 1.7741999626159668, 1.7741999626159668, 1.7741999626159668, 1.7741999626159668, 1.7741999626159668, 1.7741999626159668, 1.7741999626159668, 1.7741999626159668, 1.7741999626159668, 1.7741999626159668, 1.7741999626159668, 1.7741999626159668, 1.7741999626159668, 1.7741999626159668, 1.7741999626159668, 1.7476999759674072, 1.7741999626159668, -0.361299991607666, 0.8745999932289124, 0.8428000211715698, 1.3011000156402588, 1.371899962425232, 0.8080000281333923, 1.0920000076293945, 1.3011000156402588, 1.3873000144958496, 1.3011000156402588, 1.7741999626159668, 1.7741999626159668, 1.7741999626159668, 1.4142999649047852, 1.4142999649047852, 1.414199948310852, 1.3345999717712402, 1.205199956893921, 1.205199956893921, 1.205199956893921, 1.205199956893921, 1.205199956893921, 1.205199956893921, 1.205199956893921, 1.205199956893921, 1.205199956893921, 1.205199956893921, 1.205199956893921, 1.205199956893921, 1.205199956893921, 1.205199956893921, 1.205199956893921, 1.205199956893921, 1.205199956893921, 1.205199956893921, 1.205199956893921, 1.205199956893921, 1.205199956893921, 1.205199956893921, 1.205199956893921, 1.205199956893921, 1.205199956893921, 1.205199956893921, 1.1660000085830688, 1.205199956893921, 1.205199956893921, 1.205199956893921, 1.205199956893921, 1.205199956893921, 1.146399974822998, 1.1754000186920166, 1.159600019454956, 1.159600019454956, 0.8798999786376953, 0.9567999839782715, 0.682699978351593, 0.42989999055862427, 0.1551000028848648, 0.8485000133514404, 0.8341000080108643, 0.8485000133514404, 1.205199956893921, 1.205199956893921, 1.9390000104904175, 1.9390000104904175, 1.700700044631958, 1.700700044631958, 1.700700044631958, 1.700700044631958, 1.700700044631958, 1.700700044631958, 1.700700044631958, 1.700700044631958, 1.700700044631958, 1.700700044631958, 1.700700044631958, 1.700700044631958, 1.700700044631958, 1.700700044631958, 1.700700044631958, 1.700700044631958, 1.700700044631958, 1.700700044631958, 1.700700044631958, 1.700700044631958, 1.700700044631958, 1.700700044631958, 1.700700044631958, 1.700700044631958, 1.700700044631958, 1.700700044631958, 1.700700044631958, 1.700700044631958, 1.700700044631958, 1.700700044631958, 1.700700044631958, 1.700700044631958, 1.172700047492981, 0.6043000221252441, 1.700700044631958, 1.228700041770935, 0.9269999861717224, 1.253000020980835, 0.9783999919891357, 1.299399971961975, 1.253000020980835, 1.0099999904632568, 1.700700044631958, 1.700700044631958, 1.700700044631958, 2.1614999771118164, 1.9063999652862549, 1.9063999652862549, 1.9063999652862549, 1.9063999652862549, 1.9063999652862549, 1.9063999652862549, 1.9063999652862549, 1.9063999652862549, 1.9063999652862549, 1.9063999652862549, 1.9063999652862549, 1.9063999652862549, 1.9063999652862549, 1.9063999652862549, 1.9063999652862549, 1.9063999652862549, 1.9063999652862549, 1.9063999652862549, 1.9063999652862549, 1.9063999652862549, 1.9063999652862549, 1.9063999652862549, 1.9063999652862549, 1.9063999652862549, 1.9063999652862549, 1.9063999652862549, 1.9063999652862549, 1.9063999652862549, 1.9063999652862549, 1.3592000007629395, 0.9873999953269958, 0.3711000084877014, 0.6873999834060669, 1.440600037574768, 0.5871000289916992, 1.4884999990463257, 1.134600043296814]}, \"token.table\": {\"Topic\": [1, 6, 9, 4, 3, 4, 9, 8, 9, 10, 7, 8, 2, 8, 5, 9, 9, 2, 9, 4, 6, 6, 7, 6, 9, 10, 7, 1, 9, 2, 4, 1, 4, 3, 5, 8, 9, 5, 7, 8, 3, 5, 5, 7, 8, 8, 2, 2, 7, 5, 8, 8, 6, 6, 4, 5, 9, 1, 7, 1, 4, 5, 5, 7, 6, 1, 7, 3, 2, 5, 3, 8, 6, 4, 1, 6, 6, 5, 1, 3, 3, 9, 2, 2, 9, 4, 8, 2, 8, 9, 1, 1, 2, 4, 8, 8, 9, 4, 6, 6, 10, 3, 5, 8, 10, 6, 4, 8, 5, 6, 6, 8, 10, 9, 3, 4, 1, 4, 7, 3, 8, 6, 1, 10, 4, 3, 8, 3, 1, 7, 4, 2, 8, 8, 5, 6, 7, 9, 4, 6, 9, 6, 3, 8, 10, 7, 8, 10, 1, 4, 9, 5, 7, 9, 10, 6, 10, 8, 9, 10, 2, 7, 8, 9, 5, 7, 8, 7, 8, 1, 3, 7, 8, 6, 8, 9, 3, 7, 5, 1, 8, 5, 6, 9, 1, 8, 1, 10, 10, 3, 5, 7, 5, 6, 7, 3, 9, 1, 7, 4, 2, 8, 10, 8, 1, 4, 6, 3, 6, 10, 4, 7, 10, 3, 2, 4, 3, 1, 5, 7, 6, 7, 4, 3, 8, 8, 9, 1, 9, 5, 9, 4, 10, 3, 4, 5, 2, 8, 9, 9, 4, 1, 3, 3, 8, 1, 7, 3, 1, 3, 3, 10, 4, 1, 10, 8, 2, 6, 8, 4, 5, 7, 7, 7, 10, 9, 6, 7, 1, 10, 10, 3, 4, 5, 6, 8, 10, 4, 1, 7, 9, 3, 9, 6, 9, 4, 2, 9, 5, 9, 1, 10, 4, 8, 7, 8, 1, 8, 7, 10, 5, 5, 8, 8, 8, 1, 4, 9, 6, 10, 4, 2, 4, 10, 1, 5, 8, 2, 5, 7, 9, 1, 5, 4, 6, 8, 5, 8, 8, 2, 3, 6, 10, 10, 7, 4, 4, 9, 1, 1, 5, 10, 9, 6, 1, 8, 4, 9, 8, 9, 8, 1, 5, 8, 9, 6, 5, 6, 2, 6, 5, 6, 8, 5, 3, 5, 8, 3, 10, 7, 3, 9, 3, 2, 7, 5, 6, 6, 7, 1, 10, 5, 6, 5, 8, 5, 8, 5, 5, 2, 7, 9, 9, 10, 3, 2, 7, 1, 2, 6, 6, 1, 10, 5, 10, 1, 1, 8, 9, 2, 3, 3, 5, 10, 1, 3, 6, 4, 4, 10, 3, 1, 4, 1, 8, 2, 5, 3, 10, 4, 4, 3, 9, 1, 7, 1, 3, 2, 9, 8, 9, 5, 8, 6, 1, 4, 5, 6, 5, 4, 5, 3, 5, 6, 9, 3, 7, 4, 8, 6, 8, 6, 5, 2, 5, 1, 4, 4, 7, 3, 5, 10, 10, 3, 10, 6, 9, 2, 4, 7, 6, 8, 10, 5, 7, 9, 2, 7, 9, 2, 10, 2, 4, 6, 8, 9, 6, 6, 1, 7, 2, 6, 7, 8, 9, 10, 2, 8, 8, 6], \"Freq\": [0.9298337697982788, 0.5744382739067078, 0.5744382739067078, 0.913939356803894, 0.9411954879760742, 0.913939356803894, 0.8988422751426697, 0.8179601430892944, 0.8988422751426697, 0.9443695545196533, 0.5616819262504578, 0.5616819262504578, 0.9870356917381287, 0.8179601430892944, 0.9084376692771912, 0.8988422751426697, 0.5975028276443481, 0.9870356917381287, 0.8988422751426697, 0.580567479133606, 0.580567479133606, 0.8476438522338867, 0.9014971852302551, 0.8476438522338867, 0.8988422751426697, 0.9443695545196533, 0.9014971852302551, 0.9298337697982788, 0.8988422751426697, 0.9870356917381287, 0.913939356803894, 0.9298337697982788, 0.913939356803894, 0.9411954879760742, 0.4286360740661621, 0.4286360740661621, 0.4286360740661621, 0.9084376692771912, 0.5616821050643921, 0.5616821050643921, 0.9411954879760742, 0.9084376692771912, 0.9084376692771912, 0.9014971852302551, 0.8179601430892944, 0.8179601430892944, 0.9870356917381287, 0.9870356917381287, 0.9014971852302551, 0.5643682479858398, 0.5643682479858398, 0.8179601430892944, 0.8476438522338867, 0.8476438522338867, 0.913939356803894, 0.9084376692771912, 0.8988422751426697, 0.9298337697982788, 0.9014971852302551, 0.9298337697982788, 0.913939356803894, 0.9084376692771912, 0.9084376692771912, 0.9014971852302551, 0.8476438522338867, 0.9298337697982788, 0.9014971852302551, 0.9411954879760742, 0.9870356917381287, 0.9084376692771912, 0.9411954879760742, 0.8179601430892944, 0.8476438522338867, 0.913939356803894, 0.9298337697982788, 0.8476438522338867, 0.8476438522338867, 0.9084376692771912, 0.9298337697982788, 0.9411954879760742, 0.9411954879760742, 0.8988422751426697, 0.9870356917381287, 0.9870356917381287, 0.8988422751426697, 0.913939356803894, 0.8179601430892944, 0.9870356917381287, 0.8179601430892944, 0.8988422751426697, 0.9298337697982788, 0.9298337697982788, 0.9870356917381287, 0.913939356803894, 0.8179601430892944, 0.8179601430892944, 0.8988422751426697, 0.5805674195289612, 0.5805674195289612, 0.5926991701126099, 0.5926991701126099, 0.19733205437660217, 0.39466410875320435, 0.19733205437660217, 0.19733205437660217, 0.8476438522338867, 0.5664870142936707, 0.5664870142936707, 0.9084376692771912, 0.8476438522338867, 0.5402945876121521, 0.5402945876121521, 0.9443667531013489, 0.8988422751426697, 0.9411954879760742, 0.913939356803894, 0.9298337697982788, 0.913939356803894, 0.9014971852302551, 0.9411954879760742, 0.8179601430892944, 0.8476438522338867, 0.9298337697982788, 0.9443695545196533, 0.913939356803894, 0.9411954879760742, 0.8179601430892944, 0.9411954879760742, 0.9298337697982788, 0.9014971852302551, 0.913939356803894, 0.5937415361404419, 0.5937415361404419, 0.8179601430892944, 0.9084376692771912, 0.8476438522338867, 0.9014971852302551, 0.8988422751426697, 0.5805675387382507, 0.5805675387382507, 0.8988422751426697, 0.8476438522338867, 0.27907732129096985, 0.5581546425819397, 0.27907732129096985, 0.9014971852302551, 0.8179601430892944, 0.9443695545196533, 0.9298337697982788, 0.913939356803894, 0.8988422751426697, 0.3666830360889435, 0.3666830360889435, 0.3666830360889435, 0.3666830360889435, 0.8476438522338867, 0.9443695545196533, 0.4364718198776245, 0.4364718198776245, 0.4364718198776245, 0.2540700435638428, 0.2540700435638428, 0.2540700435638428, 0.2540700435638428, 0.602916419506073, 0.602916419506073, 0.5280835628509521, 0.9014971852302551, 0.8179601430892944, 0.35518941283226013, 0.35518941283226013, 0.35518941283226013, 0.35518941283226013, 0.2776769697666168, 0.2776769697666168, 0.2776769697666168, 0.9411954879760742, 0.9014971852302551, 0.9084376692771912, 0.5725531578063965, 0.5725531578063965, 0.9084376692771912, 0.5744383931159973, 0.5744383931159973, 0.5725544095039368, 0.5725544095039368, 0.9298337697982788, 0.9443695545196533, 0.9443674087524414, 0.6204177737236023, 0.6204177737236023, 0.9014971852302551, 0.3430316746234894, 0.3430316746234894, 0.3430316746234894, 0.9411954879760742, 0.8988422751426697, 0.9298337697982788, 0.9014971852302551, 0.913939356803894, 0.593741774559021, 0.593741774559021, 0.9443667531013489, 0.8179601430892944, 0.6179806590080261, 0.6179806590080261, 0.8476438522338867, 0.9411954879760742, 0.5926993489265442, 0.5926993489265442, 0.913939356803894, 0.9014971852302551, 0.9443695545196533, 0.9411954879760742, 0.9870356917381287, 0.913939356803894, 0.9411954879760742, 0.9298337697982788, 0.9084376692771912, 0.9014971852302551, 0.8476438522338867, 0.9014971852302551, 0.913939356803894, 0.9411954879760742, 0.8179601430892944, 0.5280793309211731, 0.8988422751426697, 0.6110410690307617, 0.6110410690307617, 0.6017277240753174, 0.6017277240753174, 0.6243677735328674, 0.6243677735328674, 0.9411954879760742, 0.913939356803894, 0.9084376692771912, 0.9870356917381287, 0.8179601430892944, 0.8988422751426697, 0.8988422751426697, 0.913939356803894, 0.9298337697982788, 0.9411954879760742, 0.4158558249473572, 0.4158558249473572, 0.9298337697982788, 0.9014971852302551, 0.9411954879760742, 0.9298337697982788, 0.9411954879760742, 0.9411954879760742, 0.9443695545196533, 0.913939356803894, 0.9298337697982788, 0.9443695545196533, 0.8179601430892944, 0.4324277639389038, 0.4324277639389038, 0.4324277639389038, 0.6084563136100769, 0.6084563136100769, 0.9014971852302551, 0.9014971852302551, 0.45986831188201904, 0.45986831188201904, 0.8988422751426697, 0.8476438522338867, 0.9014971852302551, 0.9298337697982788, 0.6384205222129822, 0.9443695545196533, 0.25243765115737915, 0.25243765115737915, 0.25243765115737915, 0.25243765115737915, 0.25243765115737915, 0.25243765115737915, 0.913939356803894, 0.4557127058506012, 0.4557127058506012, 0.4557127058506012, 0.9411954879760742, 0.8988422751426697, 0.8476438522338867, 0.8988422751426697, 0.913939356803894, 0.9870356917381287, 0.8988422751426697, 0.9084376692771912, 0.8988422751426697, 0.9298337697982788, 0.9443695545196533, 0.913939356803894, 0.5280793309211731, 0.5616822242736816, 0.5616822242736816, 0.5725535750389099, 0.5725535750389099, 0.9014971852302551, 0.9443695545196533, 0.9084376692771912, 0.9084376692771912, 0.8179601430892944, 0.8179601430892944, 0.8179601430892944, 0.9298337697982788, 0.913939356803894, 0.8988422751426697, 0.8476438522338867, 0.9443695545196533, 0.913939356803894, 0.9870356917381287, 0.6243677735328674, 0.6243677735328674, 0.20079070329666138, 0.20079070329666138, 0.6023721098899841, 0.9870356917381287, 0.602916419506073, 0.602916419506073, 0.8988422751426697, 0.6154603958129883, 0.6154603958129883, 0.34056898951530457, 0.34056898951530457, 0.34056898951530457, 0.9084376692771912, 0.8179601430892944, 0.8179601430892944, 0.9870356917381287, 0.9411954879760742, 0.5926991701126099, 0.5926991701126099, 0.9443695545196533, 0.5998513698577881, 0.913939356803894, 0.913939356803894, 0.8988422751426697, 0.9298337697982788, 0.9298337697982788, 0.6217952966690063, 0.6217952966690063, 0.8988422751426697, 0.8476438522338867, 0.5725534558296204, 0.5725534558296204, 0.6041367053985596, 0.6041367053985596, 0.8179601430892944, 0.8988422751426697, 0.8179601430892944, 0.20690160989761353, 0.20690160989761353, 0.6207048296928406, 0.8988422751426697, 0.8476438522338867, 0.9084376692771912, 0.8476438522338867, 0.9870356917381287, 0.8476438522338867, 0.9084376692771912, 0.8476438522338867, 0.8179601430892944, 0.9084376692771912, 0.9411954879760742, 0.4093339443206787, 0.4093339443206787, 0.9411954879760742, 0.9443668723106384, 0.9014971852302551, 0.6355239748954773, 0.8988422751426697, 0.9411954879760742, 0.9870356917381287, 0.9014971852302551, 0.9084376692771912, 0.8476438522338867, 0.8476438522338867, 0.9014971852302551, 0.9298337697982788, 0.9443695545196533, 0.9084376692771912, 0.8476438522338867, 0.9084376692771912, 0.8179601430892944, 0.3341875374317169, 0.3341875374317169, 0.9084376692771912, 0.9084376692771912, 0.9870356917381287, 0.9014971852302551, 0.8988422751426697, 0.8988422751426697, 0.9443672895431519, 0.9411954879760742, 0.9870356917381287, 0.9014971852302551, 0.6252071261405945, 0.9870356917381287, 0.8476438522338867, 0.8476438522338867, 0.9298337697982788, 0.9443695545196533, 0.9084376692771912, 0.9443695545196533, 0.9298337697982788, 0.5725531578063965, 0.5725531578063965, 0.8988422751426697, 0.9870356917381287, 0.9411954879760742, 0.9411954879760742, 0.9084376692771912, 0.9443671107292175, 0.9298337697982788, 0.9411954879760742, 0.8476438522338867, 0.913939356803894, 0.913939356803894, 0.9443695545196533, 0.9411954879760742, 0.9298337697982788, 0.6109194755554199, 0.9298337697982788, 0.8179601430892944, 0.9870356917381287, 0.9084376692771912, 0.9411954879760742, 0.9443695545196533, 0.913939356803894, 0.913939356803894, 0.9411954879760742, 0.8988422751426697, 0.6122667193412781, 0.6122667193412781, 0.9298337697982788, 0.9411954879760742, 0.6352338194847107, 0.6352338194847107, 0.5606505870819092, 0.5606505870819092, 0.4093339443206787, 0.4093339443206787, 0.8476438522338867, 0.9298337697982788, 0.6084563136100769, 0.6084563136100769, 0.8476438522338867, 0.9084376692771912, 0.913939356803894, 0.9084376692771912, 0.35699042677879333, 0.35699042677879333, 0.35699042677879333, 0.35699042677879333, 0.9411954879760742, 0.9014971852302551, 0.913939356803894, 0.8179601430892944, 0.8476438522338867, 0.8179601430892944, 0.8476438522338867, 0.9084376692771912, 0.9870356917381287, 0.9084376692771912, 0.9298337697982788, 0.913939356803894, 0.913939356803894, 0.9014971852302551, 0.6204176545143127, 0.6204176545143127, 0.9443695545196533, 0.9443663358688354, 0.9411954879760742, 0.9443695545196533, 0.8476438522338867, 0.5975028276443481, 0.9870356917381287, 0.913939356803894, 0.9014971852302551, 0.28620147705078125, 0.28620147705078125, 0.28620147705078125, 0.4505123794078827, 0.4505123794078827, 0.4505123794078827, 0.9870356917381287, 0.9014971852302551, 0.8988422751426697, 0.9870356917381287, 0.944366991519928, 0.9870356917381287, 0.913939356803894, 0.4146054685115814, 0.4146054685115814, 0.4146054685115814, 0.8476438522338867, 0.8476438522338867, 0.9298337697982788, 0.5998513698577881, 0.10654526948928833, 0.10654526948928833, 0.10654526948928833, 0.4261810779571533, 0.21309053897857666, 0.10654526948928833, 0.9870356917381287, 0.8179601430892944, 0.8179601430892944, 0.8476438522338867], \"Term\": [\"1st\", \"20\", \"20\", \"25\", \"8x8\", \"abuse\", \"accidentally\", \"achieve\", \"acknowledgement\", \"action\", \"actually\", \"actually\", \"ad\", \"advice\", \"advocates\", \"agree\", \"allowed\", \"allowing\", \"alpha\", \"anybody\", \"anybody\", \"art\", \"attention\", \"attracted\", \"australasia\", \"auto\", \"available\", \"avoid\", \"awesome\", \"baby\", \"barmaid\", \"bars\", \"batteries\", \"beginners\", \"best\", \"best\", \"best\", \"bestof\", \"beta\", \"beta\", \"big\", \"bitch\", \"black\", \"bonus\", \"boobs\", \"book\", \"boring\", \"boy\", \"bp\", \"bro\", \"bro\", \"bros\", \"budget\", \"bulking\", \"calling\", \"cancer\", \"careers\", \"cats\", \"celebrate\", \"censorship\", \"chad\", \"change\", \"changing\", \"cheated\", \"cheating\", \"check\", \"child\", \"christian\", \"civilization\", \"cleans\", \"close\", \"code\", \"coercive\", \"comments\", \"comprehensive\", \"confrontation\", \"controlling\", \"cooks\", \"costs\", \"crisis\", \"crusade\", \"cucked\", \"dad\", \"daily\", \"damaged\", \"damn\", \"date\", \"dating\", \"dealing\", \"decides\", \"delinquent\", \"deliver\", \"delivers\", \"diet\", \"difficulties\", \"dissolving\", \"divorce\", \"doesn\", \"doesn\", \"dominant\", \"dominant\", \"don\", \"don\", \"don\", \"don\", \"dope\", \"downvoting\", \"downvoting\", \"drags\", \"dudes\", \"dumb\", \"dumb\", \"earth\", \"easily\", \"ego\", \"emotional\", \"emotionally\", \"emsk\", \"engineered\", \"european\", \"ex\", \"example\", \"exists\", \"expect\", \"explaining\", \"explains\", \"eye\", \"fabled\", \"facebook\", \"fact\", \"fad\", \"family\", \"family\", \"fashionable\", \"faster\", \"fedora\", \"feel\", \"fellow\", \"female\", \"female\", \"females\", \"feminine\", \"feminist\", \"feminist\", \"feminist\", \"fiance\", \"field\", \"film\", \"flag\", \"followers\", \"force\", \"fr\", \"fr\", \"fr\", \"fr\", \"frame\", \"fraternity\", \"friend\", \"friend\", \"friend\", \"fuck\", \"fuck\", \"fuck\", \"fuck\", \"fucked\", \"fucked\", \"game\", \"gets\", \"getting\", \"girl\", \"girl\", \"girl\", \"girl\", \"girls\", \"girls\", \"girls\", \"gironda\", \"god\", \"goes\", \"going\", \"going\", \"gold\", \"gone\", \"gone\", \"good\", \"good\", \"goods\", \"google\", \"greatest\", \"guide\", \"guide\", \"guy\", \"guys\", \"guys\", \"guys\", \"gym\", \"hair\", \"hamsters\", \"hand\", \"handle\", \"happen\", \"happen\", \"hard\", \"hate\", \"healthy\", \"healthy\", \"helped\", \"heterophobia\", \"high\", \"high\", \"highly\", \"hitler\", \"hoax\", \"holds\", \"holy\", \"human\", \"ideas\", \"ii\", \"immediately\", \"impossible\", \"impulsive\", \"incels\", \"included\", \"insecure\", \"inside\", \"interview\", \"ironic\", \"isn\", \"isn\", \"jesus\", \"jesus\", \"jordan\", \"jordan\", \"kill\", \"knights\", \"know\", \"lack\", \"laid\", \"law\", \"leadership\", \"let\", \"life\", \"lifts\", \"like\", \"like\", \"list\", \"literally\", \"locker\", \"long\", \"loser\", \"losers\", \"lot\", \"love\", \"lurkers\", \"mad\", \"mainstream\", \"make\", \"make\", \"make\", \"makes\", \"makes\", \"male\", \"males\", \"man\", \"man\", \"management\", \"manipulative\", \"married\", \"marrying\", \"masculine\", \"max\", \"men\", \"men\", \"men\", \"men\", \"men\", \"men\", \"mentions\", \"mgtow\", \"mgtow\", \"mgtow\", \"migrant\", \"millennial\", \"minutes\", \"misogyny\", \"moderator\", \"money\", \"monks\", \"monogamous\", \"mother\", \"mothers\", \"movie\", \"nazis\", \"need\", \"needs\", \"needs\", \"new\", \"new\", \"nice\", \"nofap\", \"non\", \"obeys\", \"office\", \"opening\", \"original\", \"outdoor\", \"overweight\", \"page\", \"pants\", \"papi\", \"pedestaling\", \"personality\", \"peterson\", \"peterson\", \"pill\", \"pill\", \"pill\", \"plans\", \"plate\", \"plate\", \"played\", \"poor\", \"poor\", \"post\", \"post\", \"post\", \"premarital\", \"present\", \"principles\", \"privilege\", \"probably\", \"proof\", \"proof\", \"psa\", \"pussy\", \"pussypass\", \"quit\", \"quotes\", \"radar\", \"ran\", \"raped\", \"raped\", \"rates\", \"reacted\", \"read\", \"read\", \"real\", \"real\", \"really\", \"reason\", \"reasons\", \"red\", \"red\", \"red\", \"reddit\", \"rejects\", \"relegate\", \"remember\", \"reminder\", \"removed\", \"replace\", \"replaced\", \"report\", \"request\", \"revenge\", \"right\", \"right\", \"rise\", \"rock\", \"rockefellers\", \"rp\", \"ruin\", \"safely\", \"sarah\", \"saw\", \"sayin\", \"school\", \"scientific\", \"scout\", \"scum\", \"search\", \"seedy\", \"selfish\", \"selfishly\", \"series\", \"sex\", \"sex\", \"sexually\", \"sexy\", \"sh\", \"shaking\", \"shit\", \"short\", \"shot\", \"silence\", \"silverman\", \"simply\", \"single\", \"sites\", \"sjws\", \"skinny\", \"slut\", \"smile\", \"snowflake\", \"solipsism\", \"solomon\", \"solution\", \"solution\", \"son\", \"sorry\", \"soyboy\", \"speech\", \"spends\", \"sport\", \"standards\", \"steroids\", \"straight\", \"strategy\", \"straw\", \"study\", \"stuffed\", \"subhuman\", \"subreddit\", \"subscribers\", \"suddenly\", \"suffrage\", \"surprise\", \"swallowing\", \"takes\", \"tales\", \"talk\", \"tech\", \"tell\", \"tells\", \"tells\", \"term\", \"theory\", \"thing\", \"thing\", \"things\", \"things\", \"think\", \"think\", \"threatening\", \"time\", \"times\", \"times\", \"tinder\", \"took\", \"torture\", \"touch\", \"trp\", \"trp\", \"trp\", \"trp\", \"true\", \"trusting\", \"truth\", \"truths\", \"tubman\", \"twilight\", \"tzu\", \"ultimate\", \"uninteresting\", \"university\", \"unless\", \"upvoted\", \"use\", \"used\", \"using\", \"using\", \"value\", \"version\", \"vince\", \"virginity\", \"volatile\", \"vote\", \"voting\", \"wait\", \"waiting\", \"want\", \"want\", \"want\", \"wants\", \"wants\", \"wants\", \"warned\", \"wary\", \"way\", \"weaknesses\", \"weightlifting\", \"western\", \"white\", \"wife\", \"wife\", \"wife\", \"wild\", \"winner\", \"wisdom\", \"woman\", \"women\", \"women\", \"women\", \"women\", \"women\", \"women\", \"worst\", \"worth\", \"wrong\", \"yoga\"]}, \"R\": 30, \"lambda.step\": 0.01, \"plot.opts\": {\"xlab\": \"PC1\", \"ylab\": \"PC2\"}, \"topic.order\": [1, 2, 3, 4, 5, 6, 7, 8, 9, 10]};\n",
              "\n",
              "function LDAvis_load_lib(url, callback){\n",
              "  var s = document.createElement('script');\n",
              "  s.src = url;\n",
              "  s.async = true;\n",
              "  s.onreadystatechange = s.onload = callback;\n",
              "  s.onerror = function(){console.warn(\"failed to load library \" + url);};\n",
              "  document.getElementsByTagName(\"head\")[0].appendChild(s);\n",
              "}\n",
              "\n",
              "if(typeof(LDAvis) !== \"undefined\"){\n",
              "   // already loaded: just create the visualization\n",
              "   !function(LDAvis){\n",
              "       new LDAvis(\"#\" + \"ldavis_el1201397359448057364147462633\", ldavis_el1201397359448057364147462633_data);\n",
              "   }(LDAvis);\n",
              "}else if(typeof define === \"function\" && define.amd){\n",
              "   // require.js is available: use it to load d3/LDAvis\n",
              "   require.config({paths: {d3: \"https://cdnjs.cloudflare.com/ajax/libs/d3/3.5.5/d3.min\"}});\n",
              "   require([\"d3\"], function(d3){\n",
              "      window.d3 = d3;\n",
              "      LDAvis_load_lib(\"https://cdn.rawgit.com/bmabey/pyLDAvis/files/ldavis.v1.0.0.js\", function(){\n",
              "        new LDAvis(\"#\" + \"ldavis_el1201397359448057364147462633\", ldavis_el1201397359448057364147462633_data);\n",
              "      });\n",
              "    });\n",
              "}else{\n",
              "    // require.js not available: dynamically load d3 & LDAvis\n",
              "    LDAvis_load_lib(\"https://cdnjs.cloudflare.com/ajax/libs/d3/3.5.5/d3.min.js\", function(){\n",
              "         LDAvis_load_lib(\"https://cdn.rawgit.com/bmabey/pyLDAvis/files/ldavis.v1.0.0.js\", function(){\n",
              "                 new LDAvis(\"#\" + \"ldavis_el1201397359448057364147462633\", ldavis_el1201397359448057364147462633_data);\n",
              "            })\n",
              "         });\n",
              "}\n",
              "</script>"
            ],
            "text/plain": [
              "<IPython.core.display.HTML object>"
            ]
          },
          "metadata": {
            "tags": []
          },
          "execution_count": 54
        }
      ]
    }
  ]
}