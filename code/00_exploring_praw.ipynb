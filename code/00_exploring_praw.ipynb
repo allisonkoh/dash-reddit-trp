{
  "nbformat": 4,
  "nbformat_minor": 0,
  "metadata": {
    "colab": {
      "name": "00_exploring-praw.ipynb",
      "provenance": [],
      "collapsed_sections": []
    },
    "kernelspec": {
      "name": "python3",
      "display_name": "Python 3"
    }
  },
  "cells": [
    {
      "cell_type": "code",
      "metadata": {
        "id": "DLUQT08hYJda",
        "colab_type": "code",
        "colab": {}
      },
      "source": [
        "#!pip install praw\n",
        "import praw \n",
        "\n",
        "# set up reddit instance\n",
        "reddit = praw.Reddit(client_id='QL-KuYM3kxQy0A',\n",
        "                     client_secret=\"Qvzpzttm1yyJpumWAsCE3Oy_olM\", \n",
        "                     username='ht273',\n",
        "                     password='273htc',\n",
        "                     user_agent='praw_1326')\n",
        "\n",
        "subreddit = reddit.subreddit('TheRedPill')"
      ],
      "execution_count": 0,
      "outputs": []
    },
    {
      "cell_type": "markdown",
      "metadata": {
        "id": "byJ8LFVmZD4_",
        "colab_type": "text"
      },
      "source": [
        "Exploring 'hot posts'"
      ]
    },
    {
      "cell_type": "code",
      "metadata": {
        "id": "F8oNY-pRY3DU",
        "colab_type": "code",
        "outputId": "0f5e48e7-bd24-4603-e972-9dbaff309544",
        "colab": {
          "base_uri": "https://localhost:8080/",
          "height": 153
        }
      },
      "source": [
        "hot = subreddit.hot(limit=10)\n",
        "\n",
        "# getting all submission titles \n",
        "#for submission in hot:\n",
        "#  print(submission.title)\n",
        "\n",
        "# getting submission titles that are not 'stickied'\n",
        "for submission in hot:\n",
        "  if not submission.stickied:\n",
        "    print(submission.title)\n"
      ],
      "execution_count": 0,
      "outputs": [
        {
          "output_type": "stream",
          "text": [
            "**One Key Step To Not Giving a Fuck (Sidebar Post)**\n",
            "Masculinity is winning, and winning is power\n",
            "Game will never die (understanding what game is and why it works)\n",
            "She hates you for committing to her\n",
            "Do NOT underestimate the dangers of rationalization -- 6 tips to help you achieve your goals.\n",
            "Musings on the society re: age of consent/young women.\n",
            "Truth about The annoying \"How to get laid 101\" posts on TRP.\n",
            "Success is not binary\n"
          ],
          "name": "stdout"
        }
      ]
    },
    {
      "cell_type": "code",
      "metadata": {
        "id": "UwfsVVyXg8TE",
        "colab_type": "code",
        "outputId": "c480ff50-2486-4583-dcfd-a830c107d1c3",
        "colab": {
          "base_uri": "https://localhost:8080/",
          "height": 153
        }
      },
      "source": [
        "hot = subreddit.hot(limit=10)\n",
        "\n",
        "for submission in hot:\n",
        "  if not submission.stickied: \n",
        "    print(submission.url)"
      ],
      "execution_count": 0,
      "outputs": [
        {
          "output_type": "stream",
          "text": [
            "https://www.reddit.com/r/TheRedPill/comments/fmi710/one_key_step_to_not_giving_a_fuck_sidebar_post/\n",
            "https://www.reddit.com/r/TheRedPill/comments/fmhzor/masculinity_is_winning_and_winning_is_power/\n",
            "https://www.reddit.com/r/TheRedPill/comments/flm3xk/game_will_never_die_understanding_what_game_is/\n",
            "https://www.reddit.com/r/TheRedPill/comments/fl7jab/she_hates_you_for_committing_to_her/\n",
            "https://www.reddit.com/r/TheRedPill/comments/fkxz2z/do_not_underestimate_the_dangers_of/\n",
            "https://redpilldad.blog/2020/03/19/musings-on-the-society-re-age-of-consent-young-women/\n",
            "https://www.reddit.com/r/TheRedPill/comments/fkzkur/truth_about_the_annoying_how_to_get_laid_101/\n",
            "https://www.reddit.com/r/TheRedPill/comments/fknwhe/success_is_not_binary/\n"
          ],
          "name": "stdout"
        }
      ]
    },
    {
      "cell_type": "code",
      "metadata": {
        "id": "_b3VkZyqY79i",
        "colab_type": "code",
        "outputId": "c373ceec-99fa-4dba-9a78-8a22b3e8be66",
        "colab": {
          "base_uri": "https://localhost:8080/",
          "height": 1000
        }
      },
      "source": [
        "hot = subreddit.hot(limit=10)\n",
        "\n",
        "# to get more information (ups, downs, whether we have visited it before)\n",
        "for submission in hot:\n",
        "  if not submission.stickied:\n",
        "    print('Title: {}, ups: {}, downs: {}, URL: {}'.format(submission.title,\n",
        "                                                          submission.ups,\n",
        "                                                          submission.downs,\n",
        "                                                          submission.url))\n",
        "    comments = submission.comments\n",
        "    for comment in comments: \n",
        "      print (20*'-')\n",
        "      print(comment.body)\n",
        "      if len(comment.replies) > 0: \n",
        "        for reply in comment.replies:\n",
        "          print('REPLY:',reply.body) \n",
        "\n",
        "dir(reply)\n",
        "          "
      ],
      "execution_count": 0,
      "outputs": [
        {
          "output_type": "stream",
          "text": [
            "Title: **One Key Step To Not Giving a Fuck (Sidebar Post)**, ups: 190, downs: 0, URL: https://www.reddit.com/r/TheRedPill/comments/fmi710/one_key_step_to_not_giving_a_fuck_sidebar_post/\n",
            "--------------------\n",
            "#[Why are we quarantined? The admin don't want you to know.](https://www.reddit.com/r/TheRedPill/comments/9sdg04/more_silence_from_reddit_administration_a_failure/)  \n",
            "\n",
            "**Register on our backup site: https://www.trp.red and reserve your reddit name today.**\n",
            "\n",
            "\n",
            "*I am a bot, and this action was performed automatically. Please [contact the moderators of this subreddit](/message/compose/?to=/r/TheRedPill) if you have any questions or concerns.*\n",
            "--------------------\n",
            "You're right.  Fuck you, and your post don't matter 😏\n",
            "\n",
            "Jokes aside.. Knowing this dumps immense about of pressure in our minds and chest we carry with us everyday.  You then start seeing the true world with red lens\n",
            "--------------------\n",
            "One of my most favorite posts when I started my TRP journey, still a kicker today. Thanks for reposting this OP\n",
            "REPLY: One of my favorites as well. It's rather sad that I still don't know the original OP to say Thank You.\n",
            "Maybe u/redpillschool may know who the original OP is.\n",
            "--------------------\n",
            "I just tried the laundry line on tinder let’s see how it works\n",
            "REPLY: You shouldn't care how it works. That's the message of the post.\n",
            "--------------------\n",
            "When I first started looking for reasoning and understanding, I couldn't figure out why things were the way they were. Then I found TRP and that shit changed my life. When you find a good post, it is a perfect reminder that in the end, the only thing that matters is you and your life. Everyone else is just an NPC.\n",
            "\n",
            "Now when I read these posts, I get a sense of motivation. Another shot in me to keep me moving toward my own goals and living the best life I want. I can remember the moment it all changed. It was the moment I stopped giving a fuck about things that didn't matter, women being one of them.\n",
            "\n",
            "With women, these are the two biggest things I've learned. You cannot negotiate desire and be alpha.  If you only ever learn two things, these two will push you in the right direction. Don't go for women who don't want to be with you and don't let yourself be turned into a beta bitch who is only out to please women.\n",
            "--------------------\n",
            "I have probably fucked half a dozen girls after rejecting their offer to be in the friend zone.  A simple no thanks,  I have plenty of friends,  my interest in you was sexual.   If you are open to a FWB situation let me know.  Then stop talking.  The take away gives you more value in their eyes and some of them circle back.\n",
            "--------------------\n",
            "I fucking love this, good job dude\n",
            "--------------------\n",
            "Written like an alpha on the spiritual fucking path\n",
            "--------------------\n",
            "In my own experience, it really helps if you have a class A narcissistic personality like I do. \n",
            "\n",
            "I think I am a superior human being and should be worshiped.\n",
            "--------------------\n",
            "Everyone will die. Everyone you ever knew, will know, and will never meet. You are going to die. So am I and so is OP.Nobody will care about us, shit, most people already don't.\n",
            "\n",
            "So live your life without regrets, because you and you alone are the one that cares.\n",
            "--------------------\n",
            "A-fucking-men!\n",
            "\n",
            "TRP is an awesome tool for men. I wish I stumbled upon it sooner but whatever, it is what it is. I was crippled with anxiety about \"I have to say/do the right thing\" when speaking to a woman. Luckily, I found forums like TRP, and I read this awesome book called \"No More Mr. Nice Guy\" that I highly recommend for all men, especially those dealing with self-confidence issues.\n",
            "\n",
            "Great post my dude\n",
            "Title: Masculinity is winning, and winning is power, ups: 154, downs: 0, URL: https://www.reddit.com/r/TheRedPill/comments/fmhzor/masculinity_is_winning_and_winning_is_power/\n",
            "--------------------\n",
            "#[Why are we quarantined? The admin don't want you to know.](https://www.reddit.com/r/TheRedPill/comments/9sdg04/more_silence_from_reddit_administration_a_failure/)  \n",
            "\n",
            "**Register on our backup site: https://www.trp.red and reserve your reddit name today.**\n",
            "\n",
            "\n",
            "*I am a bot, and this action was performed automatically. Please [contact the moderators of this subreddit](/message/compose/?to=/r/TheRedPill) if you have any questions or concerns.*\n",
            "--------------------\n",
            "I strongly disagree with a lot of what's said in this post. The implication here is that validation of masculinity and being comes from the outside - from having sex with women and dominating social and professional interactions, whereas the whole purpose of masculinity is to fight for inward validation. To set and achieve goals, to be happy with your being and your real self with strong self imposed ethics and moral structures and uncompromising values  - Nietzsche might call this an ubermensch - the ultimate man.\n",
            "\n",
            "The post also implies, though doesn't explicitly state that women are the holders of our validation and self-worth, but then that leaves the question for gay men - if they don't have a biological prerogative, where can they find self-worth and internal validation? The premier thinker of this is Chuck Palahniuk (author of fight club, who is gay and for many, the progenitor of modern masculine theory), who again preaches for pushing boundaries and limitations, to push past a fear of death and to set and accomplish goals.\n",
            "\n",
            "If we accept your claim that masculinity is about \"winning the game\", not just women, you're still playing by the rules, you're still seeking outward validation, you're still failing to internalize what it means to be individual, masculine and stalwart. Masculinity is about internal growth and acceptance of that process, personal betterment and individuality, not this sheep fighting amongst other sheep outlook.\n",
            "REPLY: You have to win outside to win inside to win outside to...\n",
            "\n",
            "You get the drift, it's turtles all the way down. So keep fighting both battles - the one with the world and the one within. Both complement each other.\n",
            "REPLY: What you are doing here is effectively taking a Post Modernist position. Rather than defining winning by some external metric that can be measured: muscularity, amount of sex, money, professional advancement, sport. Obviously we can argue about which external metric is best  but at the end of the day it is objective and internally consistent.\n",
            "\n",
            "Instead you reserve the right to define winning internally: *winning is whatever I define winning as*\n",
            "\n",
            "I'm sure onlookers here are going to think this is some kind of abstract philosphical debate. It definitely isn't. The issue is very concrete.\n",
            "\n",
            "When people refuse concrete metrics and external accountability they repeatedly change the metrics to fit their ego.\n",
            "\n",
            "A good example of this type of thinking is \"Healthy at Any Size\" obese people who by all external metrics are very unhealthy but belive themselves to be healthy because they declared themselves healthy.\n",
            "REPLY: Masculinity is power because men are the ones who are capable of giving no fucks about what others think of him. A man does what he believes is right free of doubt. Women are the ones who worry about validation. Just look at Instagram.\n",
            "\n",
            "I'm 5'9\" and I've definitely had all sorts of women interested in me and I don't even lift. I just demonstrate that I give zero shits about them because I don't and they follow. It's probably because I also demonstrate value inherently with the handy man skills I have and so on.\n",
            "REPLY: It’s almost as if you’re trying to redefine masculinity to fit your own avenue of winning... but what do I know?\n",
            "--------------------\n",
            "Something to be said for a 'Don't care, got laid' attitude.\n",
            "\n",
            "Competition isn't so much the end goal, but a tool like any other. If you're competing with Roosh over who can better scaremonger with fire and brimstone you're both going to lose on anything of substance. It's clear that you're both nutjobs, not masculine.\n",
            "\n",
            "If you've managed to have enough girls on speed dial that you don't have to take advantage of a month of free pornhub, enough liquidity that you can invest on panic sales, enough frame and preparation that you're not a anxious mess so people act right around you (instead of being girlfriends clucking in a circle with you) then you can compete with your peers over whatever you want, and you'll do just fine.\n",
            "\n",
            "I'd argue that getting what you want is masculine, competition is just one of many tools to get there\n",
            "--------------------\n",
            "There is only one metric to be judged on; self-improvement. Would tomorrow you win over today you is what you need to be asking. Comparing yourself to others will always be a losing proposition.\n",
            "--------------------\n",
            "Psychological strength or power is the ability to act according to demands of the situation, rather than one's habits, compulsions, feelings, or inner needs. \n",
            "\n",
            "Psychological weakness is the reverse. \n",
            "\n",
            "Many men of the past treated stereotypical masculinity as a cage. And this was indeed weakness. But when the soylent left decided to discard stereotypical masculinity altogether, this was even more weakness. \n",
            "\n",
            "Power is control, and control starts with self-control. Any time there is a course of action that is useful, but unavailable to you because you can't stand to do it, this is weakness. The soylent left replaced being weak because you are unable to vent emotions ever, with being even weaker because you cannot stop. \n",
            "\n",
            "**The better a man's self-control, the more his actions are dictated by his circumstances rather than his feelings.**\n",
            "REPLY: Excellent addendum, brother.\n",
            "--------------------\n",
            "Alpha fucks and beta bucks. It's as simple as that. You don't have to be built like a freight train to be masculine or have power. You do have to present yourself a certain way. Bruce Lee was 5\"8 and 128 lbs. Nobody in their right mind would ever question his masculinity, because it's a widely accepted fact that Bruce Lee could knock the teeth out of your face with little to no effort. Masculinity is expressed as authority. Authority can be expressed with violence but that winds up being a slippery slope toward abuse due to lack of discipline. Power without discipline is the most direct path toward self ruin. Women often have a poor understanding of the concept of self discipline and rely on the man to guide her to make correct choices and decisions. Therefore Masculinity is more appropriately expressed as stoicism where men use self discipline to free themselves from the bonds of anger, envy, jealousy, and lust. All of these bonds serve to chain us to the system of control, and the status of Alpha by apparent definition transcends the system's control mechanisms. The Alpha does not chase women, they chase him. \n",
            "\n",
            "TL;DR: Alpha fucks, beta bucks. AWALT. She's not yours, it's just your turn. Don't be a bigger asshole than you already have to be.\n",
            "--------------------\n",
            "I don't think winning is masculine or femenine, they are different approaches and tools that can be used for winning.  For example, winning by  burocratic means like a disqualification is a femenine way to win.  I think masculinity is about the self and femeninity is about the others/society.  Winning by your own merit, intelect, strength, wealth, etc. VS manipulation of values and perception, hiding behind rules or bending them, shaming, etc.\n",
            "A rp man and a machiavellian will be both masculine and femenine in their approach to winning.\n",
            "--------------------\n",
            "> Winning the competition is masculinity and losing the competition is not.\n",
            "\n",
            "This is soluch an inaccurate, simplistic and unhealthy mentality that it's also funny as fk. Losing is inevitable in most parts of life and having the \"I must win no matter what (otherwise my masculity is at stake)\" is unhealthy. Masculinity is NOT ABOUT WINNING, is about having a WINNER MENTALITY with which you can even turn your losses into very valuable lessons so next time you can win.\n",
            "--------------------\n",
            "Masculinity is control. \n",
            "\n",
            "Masculinity is taking whatever hand you are dealt, learning to control it, and therefore gaining power over it. \n",
            "\n",
            "Winning is a byproduct of high degrees of control. \n",
            "\n",
            "Winning isn’t necessarily masculine, it’s just a general byproduct of masculine behavior and thinking. \n",
            "\n",
            "Plenty of the biggest winners in history were also losers at some point. They weren’t any less masculine when they failed. The masculinity was found in not letting an external circumstance such as failure and being thwarted in the pursuit of their goal effect them to the point of giving up. \n",
            "\n",
            "Masculinity is standing in the 2nd place with your head held high, thinking about how you can improve and do better next time, as opposed to wallowing in pity and despair and losing control of yourself. (Ie: submitting)\n",
            "\n",
            "Masculinity is also standing in 1st place after having gone through that process enough to actually achieve what you sought to achieve.\n",
            "\n",
            "Masculinity is not caring about winning or losing because those things change and are external. \n",
            "\n",
            "Masculinity is understanding you are always secure and that no matter what happens, whether that be success or failure, neither ultimately has any power over you.\n",
            "--------------------\n",
            "Looks like somebody has read \"Might Is Right...\"\n",
            "--------------------\n",
            "Masculinity isn't about getting pussy. Getting pussy is a side-effect of masculinity. I agree with what many other commenters are saying here. It's about being true to yourself and not sacrificing your values just to get pussy, or to please others. It's about putting your needs first and having the balls to fight for it if necessary.\n",
            "--------------------\n",
            "I can't point my finger on it but something seems to be missing from your post. Usually I learn something new or leave with something to think about but something seems to be missing. Was this post part of a larger article?\n",
            "REPLY: I'm old school on this board- I joined when there were about 4,000 other guys on here, trying to figure things out together- it was a beautiful time, where we were very *under the radar.*\n",
            "\n",
            "I've been away for a while, doing my own thing, and when I decided to pop my head in and check things out again, the 1.7 million subs blew my mind.\n",
            "\n",
            "What I figured was, to give back for everything I've gotten from the men who came before me on this board, was to do a *foundations series*, spelling things out from the bottom to the top for men who are new and need guidance.\n",
            "\n",
            "This post was a simple, start from the very beginning, definition of masculinity that we can build upon in the comments and later postings.\n",
            "REPLY: I dont think so, it was just a piece of pill for guys who arent 6ft/ masuline\n",
            "Title: Game will never die (understanding what game is and why it works), ups: 206, downs: 0, URL: https://www.reddit.com/r/TheRedPill/comments/flm3xk/game_will_never_die_understanding_what_game_is/\n",
            "--------------------\n",
            "#[Why are we quarantined? The admin don't want you to know.](https://www.reddit.com/r/TheRedPill/comments/9sdg04/more_silence_from_reddit_administration_a_failure/)  \n",
            "\n",
            "**Register on our backup site: https://www.trp.red and reserve your reddit name today.**\n",
            "\n",
            "\n",
            "*I am a bot, and this action was performed automatically. Please [contact the moderators of this subreddit](/message/compose/?to=/r/TheRedPill) if you have any questions or concerns.*\n"
          ],
          "name": "stdout"
        },
        {
          "output_type": "error",
          "ename": "AttributeError",
          "evalue": "ignored",
          "traceback": [
            "\u001b[0;31m---------------------------------------------------------------------------\u001b[0m",
            "\u001b[0;31mAttributeError\u001b[0m                            Traceback (most recent call last)",
            "\u001b[0;32m<ipython-input-86-f7df6f8dcff5>\u001b[0m in \u001b[0;36m<module>\u001b[0;34m()\u001b[0m\n\u001b[1;32m     14\u001b[0m       \u001b[0;32mif\u001b[0m \u001b[0mlen\u001b[0m\u001b[0;34m(\u001b[0m\u001b[0mcomment\u001b[0m\u001b[0;34m.\u001b[0m\u001b[0mreplies\u001b[0m\u001b[0;34m)\u001b[0m \u001b[0;34m>\u001b[0m \u001b[0;36m0\u001b[0m\u001b[0;34m:\u001b[0m\u001b[0;34m\u001b[0m\u001b[0;34m\u001b[0m\u001b[0m\n\u001b[1;32m     15\u001b[0m         \u001b[0;32mfor\u001b[0m \u001b[0mreply\u001b[0m \u001b[0;32min\u001b[0m \u001b[0mcomment\u001b[0m\u001b[0;34m.\u001b[0m\u001b[0mreplies\u001b[0m\u001b[0;34m:\u001b[0m\u001b[0;34m\u001b[0m\u001b[0;34m\u001b[0m\u001b[0m\n\u001b[0;32m---> 16\u001b[0;31m           \u001b[0mprint\u001b[0m\u001b[0;34m(\u001b[0m\u001b[0;34m'REPLY:'\u001b[0m\u001b[0;34m,\u001b[0m\u001b[0mreply\u001b[0m\u001b[0;34m.\u001b[0m\u001b[0mbody\u001b[0m\u001b[0;34m)\u001b[0m\u001b[0;34m\u001b[0m\u001b[0;34m\u001b[0m\u001b[0m\n\u001b[0m\u001b[1;32m     17\u001b[0m \u001b[0;34m\u001b[0m\u001b[0m\n\u001b[1;32m     18\u001b[0m \u001b[0mdir\u001b[0m\u001b[0;34m(\u001b[0m\u001b[0mreply\u001b[0m\u001b[0;34m)\u001b[0m\u001b[0;34m\u001b[0m\u001b[0;34m\u001b[0m\u001b[0m\n",
            "\u001b[0;31mAttributeError\u001b[0m: 'MoreComments' object has no attribute 'body'"
          ]
        }
      ]
    }
  ]
}